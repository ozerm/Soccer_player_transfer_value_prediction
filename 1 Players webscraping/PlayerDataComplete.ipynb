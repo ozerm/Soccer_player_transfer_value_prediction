{
 "cells": [
  {
   "cell_type": "code",
   "execution_count": 1,
   "metadata": {},
   "outputs": [],
   "source": [
    "import requests\n",
    "from bs4 import BeautifulSoup\n",
    "import pandas as pd\n",
    "import numpy as np\n",
    "pd.options.display.max_colwidth = 200\n",
    "pd.options.display.max_rows = 1000\n"
   ]
  },
  {
   "cell_type": "code",
   "execution_count": 2,
   "metadata": {},
   "outputs": [],
   "source": [
    "# We are telling the website that we are just a browser\n",
    "headers = {'User-Agent':\n",
    "'Mozilla/5.0 (X11; Linux x86_64) AppleWebKit/537.36 (KHTML, like Gecko) Chrome/47.0.2526.106 Safari/537.36'}\n",
    "\n",
    "# Creating a variable for our webpage\n",
    "page = \"https://www.transfermarkt.co.uk/transfers/transferrekorde/statistik/top/saison_id/alle/land_id//ausrichtung/Sturm/spielerposition_id//altersklasse//leihe//w_s//plus/0/galerie/0/page/\"\n",
    "#page = \"https://www.transfermarkt.co.uk/transfers/transferrekorde/statistik/top/ajax/yw2/saison_id/alle/land_id//ausrichtung/Sturm/spielerposition_id/14/altersklasse//leihe//w_s//plus/0/galerie/0/page/\""
   ]
  },
  {
   "cell_type": "code",
   "execution_count": 3,
   "metadata": {},
   "outputs": [],
   "source": [
    "pagelist = []\n",
    "for i in range (1,11):\n",
    "    i_str = str(i)\n",
    "    pagelist.append(page + i_str)\n",
    "    "
   ]
  },
  {
   "cell_type": "code",
   "execution_count": 4,
   "metadata": {},
   "outputs": [],
   "source": [
    "Players = []\n",
    "Values = []\n",
    "pageTree_list = []\n",
    "pagesoup_list = []\n",
    "list_player = []\n",
    "for j in pagelist:\n",
    "    pageTree = requests.get(j, headers=headers)\n",
    "    pageTree_list.append(pageTree)\n",
    "    pageSoup = BeautifulSoup(pageTree.content, 'html.parser')\n",
    "    pagesoup_list.append(pageSoup)\n",
    "    Players.append(pageSoup.find_all(\"a\", {\"class\": \"spielprofil_tooltip\"})[:25])\n",
    "    Values.append(pageSoup.find_all(\"td\", {\"class\": \"rechts hauptlink\"})[:25])\n",
    "    tbody = pageSoup.select('tbody')[1]   \n",
    "    for link in tbody.find_all('a', href=True):\n",
    "        list_player.append(link['href'])"
   ]
  },
  {
   "cell_type": "code",
   "execution_count": 5,
   "metadata": {},
   "outputs": [],
   "source": [
    "players = []\n",
    "for sublist in Players:\n",
    "    for item in sublist:\n",
    "        players.append(item)"
   ]
  },
  {
   "cell_type": "code",
   "execution_count": 6,
   "metadata": {},
   "outputs": [],
   "source": [
    "values = []\n",
    "for sublist in Values:\n",
    "    for item in sublist:\n",
    "        values.append(item)"
   ]
  },
  {
   "cell_type": "code",
   "execution_count": 7,
   "metadata": {},
   "outputs": [],
   "source": [
    "links = []\n",
    "for i in list_player:\n",
    "    if 'profil/spieler' in i:\n",
    "        links.append(i)"
   ]
  },
  {
   "cell_type": "code",
   "execution_count": 8,
   "metadata": {},
   "outputs": [],
   "source": [
    "PlayersList = []\n",
    "ValuesList = []\n",
    "for i in range(0, len(values)):\n",
    "    PlayersList.append(players[i].text)\n",
    "    ValuesList.append(values[i].text)"
   ]
  },
  {
   "cell_type": "code",
   "execution_count": 9,
   "metadata": {},
   "outputs": [],
   "source": [
    "LinkList = []\n",
    "for i in links:\n",
    "    LinkList.append('https://www.transfermarkt.com' + i)\n"
   ]
  },
  {
   "cell_type": "code",
   "execution_count": 10,
   "metadata": {},
   "outputs": [],
   "source": [
    "df = pd.DataFrame({\"Players\":PlayersList,\"values\":ValuesList, \"links\":LinkList})"
   ]
  },
  {
   "cell_type": "code",
   "execution_count": 14,
   "metadata": {
    "scrolled": true
   },
   "outputs": [
    {
     "data": {
      "text/html": [
       "<div>\n",
       "<style scoped>\n",
       "    .dataframe tbody tr th:only-of-type {\n",
       "        vertical-align: middle;\n",
       "    }\n",
       "\n",
       "    .dataframe tbody tr th {\n",
       "        vertical-align: top;\n",
       "    }\n",
       "\n",
       "    .dataframe thead th {\n",
       "        text-align: right;\n",
       "    }\n",
       "</style>\n",
       "<table border=\"1\" class=\"dataframe\">\n",
       "  <thead>\n",
       "    <tr style=\"text-align: right;\">\n",
       "      <th></th>\n",
       "      <th>Players</th>\n",
       "      <th>values</th>\n",
       "      <th>links</th>\n",
       "    </tr>\n",
       "  </thead>\n",
       "  <tbody>\n",
       "    <tr>\n",
       "      <th>0</th>\n",
       "      <td>Neymar</td>\n",
       "      <td>£199.80m</td>\n",
       "      <td>https://www.transfermarkt.com/neymar/profil/spieler/68290</td>\n",
       "    </tr>\n",
       "    <tr>\n",
       "      <th>1</th>\n",
       "      <td>Kylian Mbappé</td>\n",
       "      <td>£130.50m</td>\n",
       "      <td>https://www.transfermarkt.com/kylian-mbappe/profil/spieler/342229</td>\n",
       "    </tr>\n",
       "    <tr>\n",
       "      <th>2</th>\n",
       "      <td>Ousmane Dembélé</td>\n",
       "      <td>£117.00m</td>\n",
       "      <td>https://www.transfermarkt.com/ousmane-dembele/profil/spieler/288230</td>\n",
       "    </tr>\n",
       "    <tr>\n",
       "      <th>3</th>\n",
       "      <td>João Félix</td>\n",
       "      <td>£114.48m</td>\n",
       "      <td>https://www.transfermarkt.com/joao-felix/profil/spieler/462250</td>\n",
       "    </tr>\n",
       "    <tr>\n",
       "      <th>4</th>\n",
       "      <td>Antoine Griezmann</td>\n",
       "      <td>£108.00m</td>\n",
       "      <td>https://www.transfermarkt.com/antoine-griezmann/profil/spieler/125781</td>\n",
       "    </tr>\n",
       "  </tbody>\n",
       "</table>\n",
       "</div>"
      ],
      "text/plain": [
       "             Players    values  \\\n",
       "0             Neymar  £199.80m   \n",
       "1      Kylian Mbappé  £130.50m   \n",
       "2    Ousmane Dembélé  £117.00m   \n",
       "3         João Félix  £114.48m   \n",
       "4  Antoine Griezmann  £108.00m   \n",
       "\n",
       "                                                                   links  \n",
       "0              https://www.transfermarkt.com/neymar/profil/spieler/68290  \n",
       "1      https://www.transfermarkt.com/kylian-mbappe/profil/spieler/342229  \n",
       "2    https://www.transfermarkt.com/ousmane-dembele/profil/spieler/288230  \n",
       "3         https://www.transfermarkt.com/joao-felix/profil/spieler/462250  \n",
       "4  https://www.transfermarkt.com/antoine-griezmann/profil/spieler/125781  "
      ]
     },
     "execution_count": 14,
     "metadata": {},
     "output_type": "execute_result"
    }
   ],
   "source": [
    "df.head()"
   ]
  },
  {
   "cell_type": "code",
   "execution_count": 15,
   "metadata": {},
   "outputs": [],
   "source": [
    "df.to_csv('data/players3.csv', index=False)"
   ]
  },
  {
   "cell_type": "code",
   "execution_count": null,
   "metadata": {},
   "outputs": [],
   "source": []
  }
 ],
 "metadata": {
  "kernelspec": {
   "display_name": "Python 3",
   "language": "python",
   "name": "python3"
  },
  "language_info": {
   "codemirror_mode": {
    "name": "ipython",
    "version": 3
   },
   "file_extension": ".py",
   "mimetype": "text/x-python",
   "name": "python",
   "nbconvert_exporter": "python",
   "pygments_lexer": "ipython3",
   "version": "3.8.3"
  }
 },
 "nbformat": 4,
 "nbformat_minor": 4
}
