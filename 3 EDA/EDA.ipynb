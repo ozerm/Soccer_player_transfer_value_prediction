{
 "cells": [
  {
   "cell_type": "code",
   "execution_count": 1,
   "metadata": {},
   "outputs": [],
   "source": [
    "#load the libraries\n",
    "import requests\n",
    "from bs4 import BeautifulSoup\n",
    "import pandas as pd\n",
    "import numpy as np\n",
    "import re\n",
    "import html5lib\n",
    "from pandasql import sqldf\n",
    "import seaborn as sns\n",
    "import matplotlib.pyplot as plt"
   ]
  },
  {
   "cell_type": "code",
   "execution_count": 2,
   "metadata": {},
   "outputs": [],
   "source": [
    "#Load the data\n",
    "df = pd.read_csv('data/players4.csv')"
   ]
  },
  {
   "cell_type": "code",
   "execution_count": 3,
   "metadata": {},
   "outputs": [
    {
     "data": {
      "text/html": [
       "<div>\n",
       "<style scoped>\n",
       "    .dataframe tbody tr th:only-of-type {\n",
       "        vertical-align: middle;\n",
       "    }\n",
       "\n",
       "    .dataframe tbody tr th {\n",
       "        vertical-align: top;\n",
       "    }\n",
       "\n",
       "    .dataframe thead th {\n",
       "        text-align: right;\n",
       "    }\n",
       "</style>\n",
       "<table border=\"1\" class=\"dataframe\">\n",
       "  <thead>\n",
       "    <tr style=\"text-align: right;\">\n",
       "      <th></th>\n",
       "      <th>Name</th>\n",
       "      <th>Value</th>\n",
       "      <th>DOB</th>\n",
       "      <th>Season</th>\n",
       "      <th>Competition</th>\n",
       "      <th>Club ID#</th>\n",
       "      <th>PPG</th>\n",
       "      <th>Goals</th>\n",
       "      <th>Assists</th>\n",
       "      <th>Minutes</th>\n",
       "      <th>Age</th>\n",
       "      <th>Yellow Cards</th>\n",
       "      <th>Double Yellow</th>\n",
       "      <th>Red Card</th>\n",
       "      <th>Goal Contribution</th>\n",
       "    </tr>\n",
       "  </thead>\n",
       "  <tbody>\n",
       "    <tr>\n",
       "      <th>0</th>\n",
       "      <td>Neymar</td>\n",
       "      <td>199.80</td>\n",
       "      <td>Feb 5, 1992</td>\n",
       "      <td>2011</td>\n",
       "      <td>Club World Cup</td>\n",
       "      <td>2.0</td>\n",
       "      <td>1.5</td>\n",
       "      <td>1</td>\n",
       "      <td>0</td>\n",
       "      <td>180'</td>\n",
       "      <td>19</td>\n",
       "      <td>0</td>\n",
       "      <td>0</td>\n",
       "      <td>0</td>\n",
       "      <td>1.0</td>\n",
       "    </tr>\n",
       "    <tr>\n",
       "      <th>1</th>\n",
       "      <td>Neymar</td>\n",
       "      <td>199.80</td>\n",
       "      <td>Feb 5, 1992</td>\n",
       "      <td>2013</td>\n",
       "      <td>Champions League</td>\n",
       "      <td>10.0</td>\n",
       "      <td>2.0</td>\n",
       "      <td>4</td>\n",
       "      <td>5</td>\n",
       "      <td>775'</td>\n",
       "      <td>21</td>\n",
       "      <td>1</td>\n",
       "      <td>0</td>\n",
       "      <td>0</td>\n",
       "      <td>9.0</td>\n",
       "    </tr>\n",
       "    <tr>\n",
       "      <th>2</th>\n",
       "      <td>Neymar</td>\n",
       "      <td>199.80</td>\n",
       "      <td>Feb 5, 1992</td>\n",
       "      <td>2013</td>\n",
       "      <td>Copa del Rey</td>\n",
       "      <td>3.0</td>\n",
       "      <td>2.0</td>\n",
       "      <td>1</td>\n",
       "      <td>0</td>\n",
       "      <td>206'</td>\n",
       "      <td>21</td>\n",
       "      <td>1</td>\n",
       "      <td>0</td>\n",
       "      <td>0</td>\n",
       "      <td>1.0</td>\n",
       "    </tr>\n",
       "    <tr>\n",
       "      <th>3</th>\n",
       "      <td>Neymar</td>\n",
       "      <td>199.80</td>\n",
       "      <td>Feb 5, 1992</td>\n",
       "      <td>2013</td>\n",
       "      <td>LaLiga</td>\n",
       "      <td>26.0</td>\n",
       "      <td>2.31</td>\n",
       "      <td>9</td>\n",
       "      <td>10</td>\n",
       "      <td>1.736'</td>\n",
       "      <td>21</td>\n",
       "      <td>6</td>\n",
       "      <td>0</td>\n",
       "      <td>0</td>\n",
       "      <td>19.0</td>\n",
       "    </tr>\n",
       "    <tr>\n",
       "      <th>4</th>\n",
       "      <td>Neymar</td>\n",
       "      <td>199.80</td>\n",
       "      <td>Feb 5, 1992</td>\n",
       "      <td>2013</td>\n",
       "      <td>Supercopa</td>\n",
       "      <td>2.0</td>\n",
       "      <td>1.0</td>\n",
       "      <td>1</td>\n",
       "      <td>0</td>\n",
       "      <td>121'</td>\n",
       "      <td>21</td>\n",
       "      <td>1</td>\n",
       "      <td>0</td>\n",
       "      <td>0</td>\n",
       "      <td>1.0</td>\n",
       "    </tr>\n",
       "    <tr>\n",
       "      <th>...</th>\n",
       "      <td>...</td>\n",
       "      <td>...</td>\n",
       "      <td>...</td>\n",
       "      <td>...</td>\n",
       "      <td>...</td>\n",
       "      <td>...</td>\n",
       "      <td>...</td>\n",
       "      <td>...</td>\n",
       "      <td>...</td>\n",
       "      <td>...</td>\n",
       "      <td>...</td>\n",
       "      <td>...</td>\n",
       "      <td>...</td>\n",
       "      <td>...</td>\n",
       "      <td>...</td>\n",
       "    </tr>\n",
       "    <tr>\n",
       "      <th>2902</th>\n",
       "      <td>Mariano Díaz</td>\n",
       "      <td>19.35</td>\n",
       "      <td>Aug 1, 1993</td>\n",
       "      <td>2016</td>\n",
       "      <td>Champions League</td>\n",
       "      <td>1</td>\n",
       "      <td>1.00</td>\n",
       "      <td>0</td>\n",
       "      <td>0</td>\n",
       "      <td>5'</td>\n",
       "      <td>23</td>\n",
       "      <td>0</td>\n",
       "      <td>0</td>\n",
       "      <td>0</td>\n",
       "      <td>0.0</td>\n",
       "    </tr>\n",
       "    <tr>\n",
       "      <th>2903</th>\n",
       "      <td>Mariano Díaz</td>\n",
       "      <td>19.35</td>\n",
       "      <td>Aug 1, 1993</td>\n",
       "      <td>2016</td>\n",
       "      <td>Club World Cup</td>\n",
       "      <td>-</td>\n",
       "      <td>-</td>\n",
       "      <td>0</td>\n",
       "      <td>0</td>\n",
       "      <td>0</td>\n",
       "      <td>23</td>\n",
       "      <td>0</td>\n",
       "      <td>0</td>\n",
       "      <td>0</td>\n",
       "      <td>0.0</td>\n",
       "    </tr>\n",
       "    <tr>\n",
       "      <th>2904</th>\n",
       "      <td>Mariano Díaz</td>\n",
       "      <td>19.35</td>\n",
       "      <td>Aug 1, 1993</td>\n",
       "      <td>2016</td>\n",
       "      <td>Copa del Rey</td>\n",
       "      <td>5</td>\n",
       "      <td>2.20</td>\n",
       "      <td>4</td>\n",
       "      <td>1</td>\n",
       "      <td>183'</td>\n",
       "      <td>23</td>\n",
       "      <td>0</td>\n",
       "      <td>0</td>\n",
       "      <td>0</td>\n",
       "      <td>5.0</td>\n",
       "    </tr>\n",
       "    <tr>\n",
       "      <th>2905</th>\n",
       "      <td>Mariano Díaz</td>\n",
       "      <td>19.35</td>\n",
       "      <td>Aug 1, 1993</td>\n",
       "      <td>2016</td>\n",
       "      <td>LaLiga</td>\n",
       "      <td>8</td>\n",
       "      <td>2.75</td>\n",
       "      <td>1</td>\n",
       "      <td>1</td>\n",
       "      <td>114'</td>\n",
       "      <td>23</td>\n",
       "      <td>0</td>\n",
       "      <td>0</td>\n",
       "      <td>0</td>\n",
       "      <td>2.0</td>\n",
       "    </tr>\n",
       "    <tr>\n",
       "      <th>2906</th>\n",
       "      <td>Jarrod Bowen</td>\n",
       "      <td>19.17</td>\n",
       "      <td>Dec 20, 1996</td>\n",
       "      <td>2016</td>\n",
       "      <td>EFL Cup</td>\n",
       "      <td>2</td>\n",
       "      <td>3.00</td>\n",
       "      <td>0</td>\n",
       "      <td>1</td>\n",
       "      <td>179'</td>\n",
       "      <td>20</td>\n",
       "      <td>0</td>\n",
       "      <td>0</td>\n",
       "      <td>0</td>\n",
       "      <td>1.0</td>\n",
       "    </tr>\n",
       "  </tbody>\n",
       "</table>\n",
       "<p>2907 rows × 15 columns</p>\n",
       "</div>"
      ],
      "text/plain": [
       "              Name   Value           DOB  Season       Competition Club ID#  \\\n",
       "0           Neymar  199.80   Feb 5, 1992    2011    Club World Cup      2.0   \n",
       "1           Neymar  199.80   Feb 5, 1992    2013  Champions League     10.0   \n",
       "2           Neymar  199.80   Feb 5, 1992    2013      Copa del Rey      3.0   \n",
       "3           Neymar  199.80   Feb 5, 1992    2013            LaLiga     26.0   \n",
       "4           Neymar  199.80   Feb 5, 1992    2013         Supercopa      2.0   \n",
       "...            ...     ...           ...     ...               ...      ...   \n",
       "2902  Mariano Díaz   19.35   Aug 1, 1993    2016  Champions League        1   \n",
       "2903  Mariano Díaz   19.35   Aug 1, 1993    2016    Club World Cup        -   \n",
       "2904  Mariano Díaz   19.35   Aug 1, 1993    2016      Copa del Rey        5   \n",
       "2905  Mariano Díaz   19.35   Aug 1, 1993    2016            LaLiga        8   \n",
       "2906  Jarrod Bowen   19.17  Dec 20, 1996    2016           EFL Cup        2   \n",
       "\n",
       "       PPG  Goals  Assists Minutes  Age  Yellow Cards  Double Yellow  \\\n",
       "0      1.5      1        0    180'   19             0              0   \n",
       "1      2.0      4        5    775'   21             1              0   \n",
       "2      2.0      1        0    206'   21             1              0   \n",
       "3     2.31      9       10  1.736'   21             6              0   \n",
       "4      1.0      1        0    121'   21             1              0   \n",
       "...    ...    ...      ...     ...  ...           ...            ...   \n",
       "2902  1.00      0        0      5'   23             0              0   \n",
       "2903     -      0        0       0   23             0              0   \n",
       "2904  2.20      4        1    183'   23             0              0   \n",
       "2905  2.75      1        1    114'   23             0              0   \n",
       "2906  3.00      0        1    179'   20             0              0   \n",
       "\n",
       "      Red Card  Goal Contribution  \n",
       "0            0                1.0  \n",
       "1            0                9.0  \n",
       "2            0                1.0  \n",
       "3            0               19.0  \n",
       "4            0                1.0  \n",
       "...        ...                ...  \n",
       "2902         0                0.0  \n",
       "2903         0                0.0  \n",
       "2904         0                5.0  \n",
       "2905         0                2.0  \n",
       "2906         0                1.0  \n",
       "\n",
       "[2907 rows x 15 columns]"
      ]
     },
     "execution_count": 3,
     "metadata": {},
     "output_type": "execute_result"
    }
   ],
   "source": [
    "df.head(-10)"
   ]
  },
  {
   "cell_type": "code",
   "execution_count": 5,
   "metadata": {},
   "outputs": [],
   "source": [
    "# Replace dashes with zeros\n",
    "\n",
    "#df['Assists'] = df['Assists'].replace('-', 0)\n",
    "#df['Goals'] = df['Goals'].replace('-', 0)\n",
    "#df['Minutes'] = df['Minutes'].replace('-', 0)\n",
    "#df['Yellow Cards'] = df['Yellow Cards'].str.replace('-', '0')\n",
    "#df['Double Yellow'] = df['Double Yellow'].str.replace('-', '0')\n",
    "#df['Red Card'] = df['Red Card'].str.replace('-', '0')"
   ]
  },
  {
   "cell_type": "code",
   "execution_count": 6,
   "metadata": {},
   "outputs": [],
   "source": [
    "#df['Yellow Cards'] = df['Yellow Cards'].str.strip()\n",
    "#df['Double Yellow'] = df['Double Yellow'].str.strip()\n",
    "#df['Red Card'] = df['Red Card'].str.strip()"
   ]
  },
  {
   "cell_type": "code",
   "execution_count": 7,
   "metadata": {},
   "outputs": [],
   "source": [
    "# Covert to numeric \n",
    "#df['Goals'] = pd.to_numeric(df['Goals'])\n",
    "#df['Assists'] = pd.to_numeric(df['Assists'])\n",
    "#df['Yellow Cards'] = pd.to_numeric(df['Yellow Cards'])\n",
    "#df['Double Yellow'] = pd.to_numeric(df['Double Yellow'])\n",
    "#df['Red Card'] = pd.to_numeric(df['Red Card'])"
   ]
  },
  {
   "cell_type": "code",
   "execution_count": 8,
   "metadata": {},
   "outputs": [],
   "source": [
    "# Create a new column goal contribution and assign it the total number of assists and goals\n",
    "\n",
    "#df['Goal Contribution'] = np.nan\n",
    "#for i in range(len(df)):\n",
    "#    df['Goal Contribution'][i] = df['Goals'][i] + df['Assists'][i]"
   ]
  },
  {
   "cell_type": "code",
   "execution_count": 9,
   "metadata": {},
   "outputs": [
    {
     "data": {
      "text/html": [
       "<div>\n",
       "<style scoped>\n",
       "    .dataframe tbody tr th:only-of-type {\n",
       "        vertical-align: middle;\n",
       "    }\n",
       "\n",
       "    .dataframe tbody tr th {\n",
       "        vertical-align: top;\n",
       "    }\n",
       "\n",
       "    .dataframe thead th {\n",
       "        text-align: right;\n",
       "    }\n",
       "</style>\n",
       "<table border=\"1\" class=\"dataframe\">\n",
       "  <thead>\n",
       "    <tr style=\"text-align: right;\">\n",
       "      <th></th>\n",
       "      <th>Name</th>\n",
       "      <th>Value</th>\n",
       "      <th>DOB</th>\n",
       "      <th>Season</th>\n",
       "      <th>Competition</th>\n",
       "      <th>Club ID#</th>\n",
       "      <th>PPG</th>\n",
       "      <th>Goals</th>\n",
       "      <th>Assists</th>\n",
       "      <th>Minutes</th>\n",
       "      <th>Age</th>\n",
       "      <th>Yellow Cards</th>\n",
       "      <th>Double Yellow</th>\n",
       "      <th>Red Card</th>\n",
       "      <th>Goal Contribution</th>\n",
       "    </tr>\n",
       "  </thead>\n",
       "  <tbody>\n",
       "    <tr>\n",
       "      <th>0</th>\n",
       "      <td>Neymar</td>\n",
       "      <td>199.80</td>\n",
       "      <td>Feb 5, 1992</td>\n",
       "      <td>2011</td>\n",
       "      <td>Club World Cup</td>\n",
       "      <td>2.0</td>\n",
       "      <td>1.5</td>\n",
       "      <td>1</td>\n",
       "      <td>0</td>\n",
       "      <td>180'</td>\n",
       "      <td>19</td>\n",
       "      <td>0</td>\n",
       "      <td>0</td>\n",
       "      <td>0</td>\n",
       "      <td>1.0</td>\n",
       "    </tr>\n",
       "    <tr>\n",
       "      <th>1</th>\n",
       "      <td>Neymar</td>\n",
       "      <td>199.80</td>\n",
       "      <td>Feb 5, 1992</td>\n",
       "      <td>2013</td>\n",
       "      <td>Champions League</td>\n",
       "      <td>10.0</td>\n",
       "      <td>2.0</td>\n",
       "      <td>4</td>\n",
       "      <td>5</td>\n",
       "      <td>775'</td>\n",
       "      <td>21</td>\n",
       "      <td>1</td>\n",
       "      <td>0</td>\n",
       "      <td>0</td>\n",
       "      <td>9.0</td>\n",
       "    </tr>\n",
       "    <tr>\n",
       "      <th>2</th>\n",
       "      <td>Neymar</td>\n",
       "      <td>199.80</td>\n",
       "      <td>Feb 5, 1992</td>\n",
       "      <td>2013</td>\n",
       "      <td>Copa del Rey</td>\n",
       "      <td>3.0</td>\n",
       "      <td>2.0</td>\n",
       "      <td>1</td>\n",
       "      <td>0</td>\n",
       "      <td>206'</td>\n",
       "      <td>21</td>\n",
       "      <td>1</td>\n",
       "      <td>0</td>\n",
       "      <td>0</td>\n",
       "      <td>1.0</td>\n",
       "    </tr>\n",
       "    <tr>\n",
       "      <th>3</th>\n",
       "      <td>Neymar</td>\n",
       "      <td>199.80</td>\n",
       "      <td>Feb 5, 1992</td>\n",
       "      <td>2013</td>\n",
       "      <td>LaLiga</td>\n",
       "      <td>26.0</td>\n",
       "      <td>2.31</td>\n",
       "      <td>9</td>\n",
       "      <td>10</td>\n",
       "      <td>1.736'</td>\n",
       "      <td>21</td>\n",
       "      <td>6</td>\n",
       "      <td>0</td>\n",
       "      <td>0</td>\n",
       "      <td>19.0</td>\n",
       "    </tr>\n",
       "    <tr>\n",
       "      <th>4</th>\n",
       "      <td>Neymar</td>\n",
       "      <td>199.80</td>\n",
       "      <td>Feb 5, 1992</td>\n",
       "      <td>2013</td>\n",
       "      <td>Supercopa</td>\n",
       "      <td>2.0</td>\n",
       "      <td>1.0</td>\n",
       "      <td>1</td>\n",
       "      <td>0</td>\n",
       "      <td>121'</td>\n",
       "      <td>21</td>\n",
       "      <td>1</td>\n",
       "      <td>0</td>\n",
       "      <td>0</td>\n",
       "      <td>1.0</td>\n",
       "    </tr>\n",
       "    <tr>\n",
       "      <th>...</th>\n",
       "      <td>...</td>\n",
       "      <td>...</td>\n",
       "      <td>...</td>\n",
       "      <td>...</td>\n",
       "      <td>...</td>\n",
       "      <td>...</td>\n",
       "      <td>...</td>\n",
       "      <td>...</td>\n",
       "      <td>...</td>\n",
       "      <td>...</td>\n",
       "      <td>...</td>\n",
       "      <td>...</td>\n",
       "      <td>...</td>\n",
       "      <td>...</td>\n",
       "      <td>...</td>\n",
       "    </tr>\n",
       "    <tr>\n",
       "      <th>2926</th>\n",
       "      <td>Roque Santa Cruz</td>\n",
       "      <td>19.08</td>\n",
       "      <td>Aug 16, 1981</td>\n",
       "      <td>2001</td>\n",
       "      <td>Bundesliga</td>\n",
       "      <td>22</td>\n",
       "      <td>2.27</td>\n",
       "      <td>5</td>\n",
       "      <td>3</td>\n",
       "      <td>1.317'</td>\n",
       "      <td>20</td>\n",
       "      <td>0</td>\n",
       "      <td>0</td>\n",
       "      <td>0</td>\n",
       "      <td>8.0</td>\n",
       "    </tr>\n",
       "    <tr>\n",
       "      <th>2927</th>\n",
       "      <td>Roque Santa Cruz</td>\n",
       "      <td>19.08</td>\n",
       "      <td>Aug 16, 1981</td>\n",
       "      <td>2001</td>\n",
       "      <td>Champions League</td>\n",
       "      <td>11</td>\n",
       "      <td>2.18</td>\n",
       "      <td>3</td>\n",
       "      <td>1</td>\n",
       "      <td>731'</td>\n",
       "      <td>20</td>\n",
       "      <td>0</td>\n",
       "      <td>0</td>\n",
       "      <td>0</td>\n",
       "      <td>4.0</td>\n",
       "    </tr>\n",
       "    <tr>\n",
       "      <th>2928</th>\n",
       "      <td>Roque Santa Cruz</td>\n",
       "      <td>19.08</td>\n",
       "      <td>Aug 16, 1981</td>\n",
       "      <td>2001</td>\n",
       "      <td>DFB-Pokal</td>\n",
       "      <td>3</td>\n",
       "      <td>2.00</td>\n",
       "      <td>1</td>\n",
       "      <td>1</td>\n",
       "      <td>300'</td>\n",
       "      <td>20</td>\n",
       "      <td>0</td>\n",
       "      <td>0</td>\n",
       "      <td>0</td>\n",
       "      <td>2.0</td>\n",
       "    </tr>\n",
       "    <tr>\n",
       "      <th>2929</th>\n",
       "      <td>Roque Santa Cruz</td>\n",
       "      <td>19.08</td>\n",
       "      <td>Aug 16, 1981</td>\n",
       "      <td>2001</td>\n",
       "      <td>Ligapokal</td>\n",
       "      <td>1</td>\n",
       "      <td>000</td>\n",
       "      <td>0</td>\n",
       "      <td>0</td>\n",
       "      <td>88'</td>\n",
       "      <td>20</td>\n",
       "      <td>0</td>\n",
       "      <td>0</td>\n",
       "      <td>0</td>\n",
       "      <td>0.0</td>\n",
       "    </tr>\n",
       "    <tr>\n",
       "      <th>2930</th>\n",
       "      <td>Roque Santa Cruz</td>\n",
       "      <td>19.08</td>\n",
       "      <td>Aug 16, 1981</td>\n",
       "      <td>2001</td>\n",
       "      <td>UEFA Super Cup</td>\n",
       "      <td>1</td>\n",
       "      <td>000</td>\n",
       "      <td>0</td>\n",
       "      <td>0</td>\n",
       "      <td>18'</td>\n",
       "      <td>20</td>\n",
       "      <td>0</td>\n",
       "      <td>0</td>\n",
       "      <td>0</td>\n",
       "      <td>0.0</td>\n",
       "    </tr>\n",
       "  </tbody>\n",
       "</table>\n",
       "<p>2931 rows × 15 columns</p>\n",
       "</div>"
      ],
      "text/plain": [
       "                  Name   Value           DOB  Season       Competition  \\\n",
       "0               Neymar  199.80   Feb 5, 1992    2011    Club World Cup   \n",
       "1               Neymar  199.80   Feb 5, 1992    2013  Champions League   \n",
       "2               Neymar  199.80   Feb 5, 1992    2013      Copa del Rey   \n",
       "3               Neymar  199.80   Feb 5, 1992    2013            LaLiga   \n",
       "4               Neymar  199.80   Feb 5, 1992    2013         Supercopa   \n",
       "...                ...     ...           ...     ...               ...   \n",
       "2926  Roque Santa Cruz   19.08  Aug 16, 1981    2001        Bundesliga   \n",
       "2927  Roque Santa Cruz   19.08  Aug 16, 1981    2001  Champions League   \n",
       "2928  Roque Santa Cruz   19.08  Aug 16, 1981    2001         DFB-Pokal   \n",
       "2929  Roque Santa Cruz   19.08  Aug 16, 1981    2001         Ligapokal   \n",
       "2930  Roque Santa Cruz   19.08  Aug 16, 1981    2001    UEFA Super Cup   \n",
       "\n",
       "     Club ID#   PPG  Goals  Assists Minutes  Age  Yellow Cards  Double Yellow  \\\n",
       "0         2.0   1.5      1        0    180'   19             0              0   \n",
       "1        10.0   2.0      4        5    775'   21             1              0   \n",
       "2         3.0   2.0      1        0    206'   21             1              0   \n",
       "3        26.0  2.31      9       10  1.736'   21             6              0   \n",
       "4         2.0   1.0      1        0    121'   21             1              0   \n",
       "...       ...   ...    ...      ...     ...  ...           ...            ...   \n",
       "2926       22  2.27      5        3  1.317'   20             0              0   \n",
       "2927       11  2.18      3        1    731'   20             0              0   \n",
       "2928        3  2.00      1        1    300'   20             0              0   \n",
       "2929        1   000      0        0     88'   20             0              0   \n",
       "2930        1   000      0        0     18'   20             0              0   \n",
       "\n",
       "      Red Card  Goal Contribution  \n",
       "0            0                1.0  \n",
       "1            0                9.0  \n",
       "2            0                1.0  \n",
       "3            0               19.0  \n",
       "4            0                1.0  \n",
       "...        ...                ...  \n",
       "2926         0                8.0  \n",
       "2927         0                4.0  \n",
       "2928         0                2.0  \n",
       "2929         0                0.0  \n",
       "2930         0                0.0  \n",
       "\n",
       "[2931 rows x 15 columns]"
      ]
     },
     "execution_count": 9,
     "metadata": {},
     "output_type": "execute_result"
    }
   ],
   "source": [
    "df.head(-10)"
   ]
  },
  {
   "cell_type": "code",
   "execution_count": 4,
   "metadata": {},
   "outputs": [
    {
     "name": "stdout",
     "output_type": "stream",
     "text": [
      "<class 'pandas.core.frame.DataFrame'>\n",
      "RangeIndex: 2917 entries, 0 to 2916\n",
      "Data columns (total 15 columns):\n",
      " #   Column             Non-Null Count  Dtype  \n",
      "---  ------             --------------  -----  \n",
      " 0   Name               2917 non-null   object \n",
      " 1   Value              2917 non-null   float64\n",
      " 2   DOB                2917 non-null   object \n",
      " 3   Season             2917 non-null   int64  \n",
      " 4   Competition        2917 non-null   object \n",
      " 5   Club ID#           2917 non-null   object \n",
      " 6   PPG                2917 non-null   object \n",
      " 7   Goals              2917 non-null   int64  \n",
      " 8   Assists            2917 non-null   int64  \n",
      " 9   Minutes            2917 non-null   object \n",
      " 10  Age                2917 non-null   int64  \n",
      " 11  Yellow Cards       2917 non-null   int64  \n",
      " 12  Double Yellow      2917 non-null   int64  \n",
      " 13  Red Card           2917 non-null   int64  \n",
      " 14  Goal Contribution  2917 non-null   float64\n",
      "dtypes: float64(2), int64(7), object(6)\n",
      "memory usage: 342.0+ KB\n"
     ]
    }
   ],
   "source": [
    "df.info()"
   ]
  },
  {
   "cell_type": "code",
   "execution_count": 5,
   "metadata": {},
   "outputs": [
    {
     "data": {
      "text/plain": [
       "Name                 0\n",
       "Value                0\n",
       "DOB                  0\n",
       "Season               0\n",
       "Competition          0\n",
       "Club ID#             0\n",
       "PPG                  0\n",
       "Goals                0\n",
       "Assists              0\n",
       "Minutes              0\n",
       "Age                  0\n",
       "Yellow Cards         0\n",
       "Double Yellow        0\n",
       "Red Card             0\n",
       "Goal Contribution    0\n",
       "dtype: int64"
      ]
     },
     "execution_count": 5,
     "metadata": {},
     "output_type": "execute_result"
    }
   ],
   "source": [
    "df.isna().sum()"
   ]
  },
  {
   "cell_type": "code",
   "execution_count": 6,
   "metadata": {
    "scrolled": true
   },
   "outputs": [
    {
     "name": "stdout",
     "output_type": "stream",
     "text": [
      "Name                  191\n",
      "Value                  96\n",
      "DOB                   188\n",
      "Season                 32\n",
      "Competition           163\n",
      "Club ID#               89\n",
      "PPG                   222\n",
      "Goals                  36\n",
      "Assists                19\n",
      "Minutes              1284\n",
      "Age                     5\n",
      "Yellow Cards           15\n",
      "Double Yellow           4\n",
      "Red Card                3\n",
      "Goal Contribution      44\n",
      "dtype: int64\n"
     ]
    }
   ],
   "source": [
    "print(df.nunique())"
   ]
  },
  {
   "cell_type": "code",
   "execution_count": 7,
   "metadata": {},
   "outputs": [
    {
     "data": {
      "text/plain": [
       "array(['Club World Cup', 'Champions League', 'Copa del Rey', 'LaLiga',\n",
       "       'Supercopa', 'Libertadores', 'Série A', 'Recopa Sudamericana',\n",
       "       'Coupe de France', 'Coupe de la Ligue', 'Ligue 1',\n",
       "       'Trophée des Champions', 'Bundesliga', 'DFB-Pokal', 'DFL-Supercup',\n",
       "       'Allianz Cup', 'Champions League Qualifying', 'Europa League',\n",
       "       'Liga NOS', 'Taça de Portugal Placard', 'FA Cup', 'League Cup',\n",
       "       'Premier League', 'Community Shield', 'Europa League Qualifying',\n",
       "       'UEFA Super Cup', 'UEFA Cup', 'Torneo Inicial', 'EFL Cup',\n",
       "       'Eredivisie', 'Play-Offs Europa League', 'TOTO KNVB beker',\n",
       "       'Johan Cruijff Schaal', 'Ligue 2', 'Championnat National',\n",
       "       'Beker van Belgie', 'JPL Playoff II', 'Jupiler Pro League',\n",
       "       'Jupiler Pro League playoff Europa League', 'Serie A',\n",
       "       'Amstel Cup', 'KPN Eredivisie', 'Championship', 'U21 PL',\n",
       "       '2ª B - Grupo I', 'Promoción LaLiga2', 'LaLiga2', 'Coppa Italia',\n",
       "       'Supercoppa Italiana', 'Liga Portugal 2', 'Liga BBVA', 'UI Cup',\n",
       "       'Supertaça', \"Emperor's Cup\", 'J. League Cup', 'J.League Div.1',\n",
       "       'J.League Div.2', 'Premier League 2', 'KNVB Beker', 'Premier Liga',\n",
       "       'Ukrainian Cup', 'Ukrainian Super Cup', 'Série B', 'JPL Playoff I',\n",
       "       'Belgian Supercup', 'Serie B', 'Intercontinental Cup',\n",
       "       'PTT Telecomp.', \"Cup Winners' Cup\", 'Play-Out Serie A', 'ÖFB-Cup',\n",
       "       'Torneo Final', 'Copa Sudamericana', 'MOL Cup', 'Synot Liga',\n",
       "       'Super League', 'Swiss Cup', 'Schweizer Cup', 'Primera Clausura',\n",
       "       'Fase Final LP II', 'Liga DIMAYOR II', 'Russian Cup',\n",
       "       'Russian Super Cup', 'Bundesliga Playoffs', 'Beloften Eredivisie',\n",
       "       'Beloften nacompetitie', 'Primavera C', 'Serie B Play-off',\n",
       "       'Primavera A', 'Süper Lig', 'Türkiye Kupasi',\n",
       "       'UEFA-Cup Qualifikation', '2ª División',\n",
       "       'CONCACAF Champions League', 'Liga MX Apertura',\n",
       "       'Liga MX Clausura', 'Liguilla Apertura', 'Liguilla Clausura',\n",
       "       'Copa MX Apertura', 'Copa MX Clausura', 'Campeón de Campeones',\n",
       "       'Primera Apertura', 'Oberliga Nordrhein', 'Ligapokal',\n",
       "       'Fortuna Liga', 'Serie C1 - A', '2ª B - Grupo II',\n",
       "       'Promoción LaLiga', 'Vyshcha Liga', 'Taça CTT', 'J1 - 1st Stage',\n",
       "       'J1 - 2nd Stage', 'J3 League', 'J1 League', '1 Liga', 'Polish Cup',\n",
       "       'Ekstraklasa', 'TFF Süper Kupa', 'FNL', 'Regionalliga West',\n",
       "       'Jupiler League', 'First Division', \"Coupe d'Algerie\",\n",
       "       'Division 1', 'Ligue Professionnelle 1', 'EFL Trophy',\n",
       "       'League Two', 'League Two Play-Offs', 'UEFA Youth League',\n",
       "       'Reserve League', 'Regionalliga Süd', 'Campeonato Carioca - Final',\n",
       "       'League One', 'Championship Play-Offs', 'KPN Telecomp.',\n",
       "       '2ª B - Grupo III', 'Eerste Divisie', 'Gatorade Cup',\n",
       "       'Oberliga Westfalen', 'Primavera B', 'Slovnaft Cup',\n",
       "       'Primera División', 'Superliga', 'Jelen SuperLiga',\n",
       "       'Liga DIMAYOR I', 'Torneo Intermedio', 'Playoffs Primera Division',\n",
       "       'Primera División Apertura', '1.HNL', 'Primavera Fase Finale',\n",
       "       'Tippeligaen', 'Hrvatski nogometni kup', 'Primavera 1',\n",
       "       'Auf-/Abstiegsrunde NLA/NLB', 'LaLiga 1|2|3',\n",
       "       'Reserve League North', 'Reserve League Play Offs', 'Conference',\n",
       "       'Premiership', 'SFA Cup', 'Scottish Premiership Meisterrunde',\n",
       "       'Transición', 'Play-Offs Promotie/Deg.'], dtype=object)"
      ]
     },
     "execution_count": 7,
     "metadata": {},
     "output_type": "execute_result"
    }
   ],
   "source": [
    "df['Competition'].unique()"
   ]
  },
  {
   "cell_type": "code",
   "execution_count": 8,
   "metadata": {},
   "outputs": [],
   "source": [
    "a = pd.DataFrame(df['Competition'].value_counts().head(40)).reset_index()"
   ]
  },
  {
   "cell_type": "code",
   "execution_count": null,
   "metadata": {},
   "outputs": [],
   "source": []
  },
  {
   "cell_type": "code",
   "execution_count": 9,
   "metadata": {},
   "outputs": [
    {
     "data": {
      "text/html": [
       "<div>\n",
       "<style scoped>\n",
       "    .dataframe tbody tr th:only-of-type {\n",
       "        vertical-align: middle;\n",
       "    }\n",
       "\n",
       "    .dataframe tbody tr th {\n",
       "        vertical-align: top;\n",
       "    }\n",
       "\n",
       "    .dataframe thead th {\n",
       "        text-align: right;\n",
       "    }\n",
       "</style>\n",
       "<table border=\"1\" class=\"dataframe\">\n",
       "  <thead>\n",
       "    <tr style=\"text-align: right;\">\n",
       "      <th></th>\n",
       "      <th>Name</th>\n",
       "      <th>Value</th>\n",
       "      <th>DOB</th>\n",
       "      <th>Season</th>\n",
       "      <th>Competition</th>\n",
       "      <th>Club ID#</th>\n",
       "      <th>PPG</th>\n",
       "      <th>Goals</th>\n",
       "      <th>Assists</th>\n",
       "      <th>Minutes</th>\n",
       "      <th>Age</th>\n",
       "      <th>Yellow Cards</th>\n",
       "      <th>Double Yellow</th>\n",
       "      <th>Red Card</th>\n",
       "      <th>Goal Contribution</th>\n",
       "    </tr>\n",
       "  </thead>\n",
       "  <tbody>\n",
       "  </tbody>\n",
       "</table>\n",
       "</div>"
      ],
      "text/plain": [
       "Empty DataFrame\n",
       "Columns: [Name, Value, DOB, Season, Competition, Club ID#, PPG, Goals, Assists, Minutes, Age, Yellow Cards, Double Yellow, Red Card, Goal Contribution]\n",
       "Index: []"
      ]
     },
     "execution_count": 9,
     "metadata": {},
     "output_type": "execute_result"
    }
   ],
   "source": [
    "duplicateRowsDF = df[df.duplicated()]\n",
    "duplicateRowsDF"
   ]
  },
  {
   "cell_type": "code",
   "execution_count": 10,
   "metadata": {
    "scrolled": false
   },
   "outputs": [
    {
     "data": {
      "image/png": "[encoded data removed]",
      "text/plain": [
       "<Figure size 864x288 with 1 Axes>"
      ]
     },
     "metadata": {
      "needs_background": "light"
     },
     "output_type": "display_data"
    }
   ],
   "source": [
    "legend = ['Goals']\n",
    "df1 = df[['Goals', 'Age']]\n",
    "plt.figure(figsize=(12, 4))\n",
    "plt.hist(df['Goals'], color=['red'], bins=40, ec='black')\n",
    "plt.ylabel('Count')\n",
    "plt.xlabel('Goals Scored')\n",
    "plt.legend(legend)\n",
    "plt.show()"
   ]
  },
  {
   "cell_type": "code",
   "execution_count": 11,
   "metadata": {},
   "outputs": [
    {
     "data": {
      "text/plain": [
       "count    2917.000000\n",
       "mean       37.042472\n",
       "std        23.942031\n",
       "min        19.170000\n",
       "25%        22.500000\n",
       "50%        28.800000\n",
       "75%        38.700000\n",
       "max       199.800000\n",
       "Name: Value, dtype: float64"
      ]
     },
     "execution_count": 11,
     "metadata": {},
     "output_type": "execute_result"
    }
   ],
   "source": [
    "df.Value.describe()"
   ]
  },
  {
   "cell_type": "code",
   "execution_count": 12,
   "metadata": {},
   "outputs": [
    {
     "data": {
      "text/plain": [
       "(2917, 15)"
      ]
     },
     "execution_count": 12,
     "metadata": {},
     "output_type": "execute_result"
    }
   ],
   "source": [
    "df.shape"
   ]
  },
  {
   "cell_type": "code",
   "execution_count": 13,
   "metadata": {
    "scrolled": true
   },
   "outputs": [
    {
     "data": {
      "text/plain": [
       "<matplotlib.axes._subplots.AxesSubplot at 0x2932c89ed60>"
      ]
     },
     "execution_count": 13,
     "metadata": {},
     "output_type": "execute_result"
    },
    {
     "data": {
      "image/png": "[encoded data removed]",
      "text/plain": [
       "<Figure size 720x288 with 1 Axes>"
      ]
     },
     "metadata": {
      "needs_background": "light"
     },
     "output_type": "display_data"
    }
   ],
   "source": [
    "plt.subplots(figsize=(10,4))\n",
    "sns.boxplot(x='Value', data=df)"
   ]
  },
  {
   "cell_type": "code",
   "execution_count": 14,
   "metadata": {
    "scrolled": false
   },
   "outputs": [
    {
     "data": {
      "text/plain": [
       "<matplotlib.axes._subplots.AxesSubplot at 0x2932c902a00>"
      ]
     },
     "execution_count": 14,
     "metadata": {},
     "output_type": "execute_result"
    },
    {
     "data": {
      "image/png": "[encoded data removed]",
      "text/plain": [
       "<Figure size 432x576 with 1 Axes>"
      ]
     },
     "metadata": {
      "needs_background": "light"
     },
     "output_type": "display_data"
    }
   ],
   "source": [
    "plt.subplots(figsize=(6,8))\n",
    "sns.boxplot(x='Age', y='Goals', data= df , linewidth=2.5)"
   ]
  },
  {
   "cell_type": "code",
   "execution_count": 15,
   "metadata": {
    "scrolled": false
   },
   "outputs": [
    {
     "data": {
      "text/plain": [
       "<matplotlib.axes._subplots.AxesSubplot at 0x2932c9cd520>"
      ]
     },
     "execution_count": 15,
     "metadata": {},
     "output_type": "execute_result"
    },
    {
     "data": {
      "image/png": "[encoded data removed]",
      "text/plain": [
       "<Figure size 432x576 with 1 Axes>"
      ]
     },
     "metadata": {
      "needs_background": "light"
     },
     "output_type": "display_data"
    }
   ],
   "source": [
    "plt.subplots(figsize=(6,8))\n",
    "sns.boxplot(x='Age', y='Assists', data= df , linewidth=2.5)"
   ]
  },
  {
   "cell_type": "code",
   "execution_count": 16,
   "metadata": {
    "scrolled": false
   },
   "outputs": [
    {
     "data": {
      "text/plain": [
       "<matplotlib.axes._subplots.AxesSubplot at 0x2932ca61370>"
      ]
     },
     "execution_count": 16,
     "metadata": {},
     "output_type": "execute_result"
    },
    {
     "data": {
      "image/png": "[encoded data removed]",
      "text/plain": [
       "<Figure size 432x576 with 1 Axes>"
      ]
     },
     "metadata": {
      "needs_background": "light"
     },
     "output_type": "display_data"
    }
   ],
   "source": [
    "plt.subplots(figsize=(6,8))\n",
    "sns.boxplot(x='Age', y='Goal Contribution', data= df , linewidth=2.5)"
   ]
  },
  {
   "cell_type": "code",
   "execution_count": 17,
   "metadata": {},
   "outputs": [
    {
     "data": {
      "text/plain": [
       "<matplotlib.axes._subplots.AxesSubplot at 0x2932cb15880>"
      ]
     },
     "execution_count": 17,
     "metadata": {},
     "output_type": "execute_result"
    },
    {
     "data": {
      "image/png": "[encoded data removed]",
      "text/plain": [
       "<Figure size 2160x576 with 1 Axes>"
      ]
     },
     "metadata": {
      "needs_background": "light"
     },
     "output_type": "display_data"
    }
   ],
   "source": [
    "plt.subplots(figsize=(30,8))\n",
    "sns.boxplot(x='Value', y='Goal Contribution', data= df , linewidth=2.5)"
   ]
  },
  {
   "cell_type": "code",
   "execution_count": 18,
   "metadata": {
    "scrolled": true
   },
   "outputs": [
    {
     "data": {
      "image/png": "[encoded data removed]",
      "text/plain": [
       "<Figure size 288x288 with 1 Axes>"
      ]
     },
     "metadata": {
      "needs_background": "light"
     },
     "output_type": "display_data"
    }
   ],
   "source": [
    "legend = ['Age']\n",
    "plt.figure(figsize=(4, 4))\n",
    "plt.hist(df['Age'], color=['blue'], bins=4, ec='black')\n",
    "plt.ylabel('Count')\n",
    "plt.xlabel('Age')\n",
    "plt.legend(legend)\n",
    "plt.show()\n"
   ]
  },
  {
   "cell_type": "code",
   "execution_count": 19,
   "metadata": {},
   "outputs": [
    {
     "data": {
      "text/plain": [
       "count    2917.000000\n",
       "mean       21.089133\n",
       "std         1.384416\n",
       "min        19.000000\n",
       "25%        20.000000\n",
       "50%        21.000000\n",
       "75%        22.000000\n",
       "max        23.000000\n",
       "Name: Age, dtype: float64"
      ]
     },
     "execution_count": 19,
     "metadata": {},
     "output_type": "execute_result"
    }
   ],
   "source": [
    "df.Age.describe()"
   ]
  },
  {
   "cell_type": "code",
   "execution_count": 20,
   "metadata": {},
   "outputs": [
    {
     "data": {
      "text/html": [
       "<div>\n",
       "<style scoped>\n",
       "    .dataframe tbody tr th:only-of-type {\n",
       "        vertical-align: middle;\n",
       "    }\n",
       "\n",
       "    .dataframe tbody tr th {\n",
       "        vertical-align: top;\n",
       "    }\n",
       "\n",
       "    .dataframe thead th {\n",
       "        text-align: right;\n",
       "    }\n",
       "</style>\n",
       "<table border=\"1\" class=\"dataframe\">\n",
       "  <thead>\n",
       "    <tr style=\"text-align: right;\">\n",
       "      <th></th>\n",
       "      <th>Goals</th>\n",
       "      <th>Assists</th>\n",
       "      <th>Age</th>\n",
       "      <th>Value</th>\n",
       "      <th>Goal Contribution</th>\n",
       "      <th>Yellow Cards</th>\n",
       "      <th>Double Yellow</th>\n",
       "      <th>Red Card</th>\n",
       "    </tr>\n",
       "  </thead>\n",
       "  <tbody>\n",
       "    <tr>\n",
       "      <th>Goals</th>\n",
       "      <td>1.000000</td>\n",
       "      <td>0.605062</td>\n",
       "      <td>0.092287</td>\n",
       "      <td>0.072124</td>\n",
       "      <td>0.953677</td>\n",
       "      <td>0.618986</td>\n",
       "      <td>0.188852</td>\n",
       "      <td>0.166931</td>\n",
       "    </tr>\n",
       "    <tr>\n",
       "      <th>Assists</th>\n",
       "      <td>0.605062</td>\n",
       "      <td>1.000000</td>\n",
       "      <td>0.056937</td>\n",
       "      <td>0.142492</td>\n",
       "      <td>0.816550</td>\n",
       "      <td>0.513390</td>\n",
       "      <td>0.138981</td>\n",
       "      <td>0.095447</td>\n",
       "    </tr>\n",
       "    <tr>\n",
       "      <th>Age</th>\n",
       "      <td>0.092287</td>\n",
       "      <td>0.056937</td>\n",
       "      <td>1.000000</td>\n",
       "      <td>-0.039608</td>\n",
       "      <td>0.088427</td>\n",
       "      <td>0.023075</td>\n",
       "      <td>0.035661</td>\n",
       "      <td>-0.006678</td>\n",
       "    </tr>\n",
       "    <tr>\n",
       "      <th>Value</th>\n",
       "      <td>0.072124</td>\n",
       "      <td>0.142492</td>\n",
       "      <td>-0.039608</td>\n",
       "      <td>1.000000</td>\n",
       "      <td>0.106134</td>\n",
       "      <td>0.066627</td>\n",
       "      <td>0.025613</td>\n",
       "      <td>0.009339</td>\n",
       "    </tr>\n",
       "    <tr>\n",
       "      <th>Goal Contribution</th>\n",
       "      <td>0.953677</td>\n",
       "      <td>0.816550</td>\n",
       "      <td>0.088427</td>\n",
       "      <td>0.106134</td>\n",
       "      <td>1.000000</td>\n",
       "      <td>0.642782</td>\n",
       "      <td>0.189442</td>\n",
       "      <td>0.157099</td>\n",
       "    </tr>\n",
       "    <tr>\n",
       "      <th>Yellow Cards</th>\n",
       "      <td>0.618986</td>\n",
       "      <td>0.513390</td>\n",
       "      <td>0.023075</td>\n",
       "      <td>0.066627</td>\n",
       "      <td>0.642782</td>\n",
       "      <td>1.000000</td>\n",
       "      <td>0.227605</td>\n",
       "      <td>0.215437</td>\n",
       "    </tr>\n",
       "    <tr>\n",
       "      <th>Double Yellow</th>\n",
       "      <td>0.188852</td>\n",
       "      <td>0.138981</td>\n",
       "      <td>0.035661</td>\n",
       "      <td>0.025613</td>\n",
       "      <td>0.189442</td>\n",
       "      <td>0.227605</td>\n",
       "      <td>1.000000</td>\n",
       "      <td>0.042548</td>\n",
       "    </tr>\n",
       "    <tr>\n",
       "      <th>Red Card</th>\n",
       "      <td>0.166931</td>\n",
       "      <td>0.095447</td>\n",
       "      <td>-0.006678</td>\n",
       "      <td>0.009339</td>\n",
       "      <td>0.157099</td>\n",
       "      <td>0.215437</td>\n",
       "      <td>0.042548</td>\n",
       "      <td>1.000000</td>\n",
       "    </tr>\n",
       "  </tbody>\n",
       "</table>\n",
       "</div>"
      ],
      "text/plain": [
       "                      Goals   Assists       Age     Value  Goal Contribution  \\\n",
       "Goals              1.000000  0.605062  0.092287  0.072124           0.953677   \n",
       "Assists            0.605062  1.000000  0.056937  0.142492           0.816550   \n",
       "Age                0.092287  0.056937  1.000000 -0.039608           0.088427   \n",
       "Value              0.072124  0.142492 -0.039608  1.000000           0.106134   \n",
       "Goal Contribution  0.953677  0.816550  0.088427  0.106134           1.000000   \n",
       "Yellow Cards       0.618986  0.513390  0.023075  0.066627           0.642782   \n",
       "Double Yellow      0.188852  0.138981  0.035661  0.025613           0.189442   \n",
       "Red Card           0.166931  0.095447 -0.006678  0.009339           0.157099   \n",
       "\n",
       "                   Yellow Cards  Double Yellow  Red Card  \n",
       "Goals                  0.618986       0.188852  0.166931  \n",
       "Assists                0.513390       0.138981  0.095447  \n",
       "Age                    0.023075       0.035661 -0.006678  \n",
       "Value                  0.066627       0.025613  0.009339  \n",
       "Goal Contribution      0.642782       0.189442  0.157099  \n",
       "Yellow Cards           1.000000       0.227605  0.215437  \n",
       "Double Yellow          0.227605       1.000000  0.042548  \n",
       "Red Card               0.215437       0.042548  1.000000  "
      ]
     },
     "execution_count": 20,
     "metadata": {},
     "output_type": "execute_result"
    },
    {
     "data": {
      "image/png": "[encoded data removed]",
      "text/plain": [
       "<Figure size 432x288 with 2 Axes>"
      ]
     },
     "metadata": {
      "needs_background": "light"
     },
     "output_type": "display_data"
    }
   ],
   "source": [
    "data = df[['Goals', 'Assists', 'Age', 'Minutes', 'Value', 'Goal Contribution', 'Yellow Cards', 'Double Yellow', 'Red Card']]\n",
    "corr = data.corr()\n",
    "\n",
    "#sns.heatmap(df.corr(['Goals', 'Assists']), cmap='RdYlGn')\n",
    "\n",
    "sns.heatmap(corr)\n",
    "corr"
   ]
  },
  {
   "cell_type": "code",
   "execution_count": 21,
   "metadata": {},
   "outputs": [
    {
     "data": {
      "text/html": [
       "<div>\n",
       "<style scoped>\n",
       "    .dataframe tbody tr th:only-of-type {\n",
       "        vertical-align: middle;\n",
       "    }\n",
       "\n",
       "    .dataframe tbody tr th {\n",
       "        vertical-align: top;\n",
       "    }\n",
       "\n",
       "    .dataframe thead th {\n",
       "        text-align: right;\n",
       "    }\n",
       "</style>\n",
       "<table border=\"1\" class=\"dataframe\">\n",
       "  <thead>\n",
       "    <tr style=\"text-align: right;\">\n",
       "      <th></th>\n",
       "      <th>Value</th>\n",
       "      <th>Season</th>\n",
       "      <th>Goals</th>\n",
       "      <th>Assists</th>\n",
       "      <th>Age</th>\n",
       "      <th>Yellow Cards</th>\n",
       "      <th>Double Yellow</th>\n",
       "      <th>Red Card</th>\n",
       "      <th>Goal Contribution</th>\n",
       "    </tr>\n",
       "  </thead>\n",
       "  <tbody>\n",
       "    <tr>\n",
       "      <th>count</th>\n",
       "      <td>2917.000000</td>\n",
       "      <td>2917.000000</td>\n",
       "      <td>2917.000000</td>\n",
       "      <td>2917.000000</td>\n",
       "      <td>2917.000000</td>\n",
       "      <td>2917.000000</td>\n",
       "      <td>2917.000000</td>\n",
       "      <td>2917.000000</td>\n",
       "      <td>2917.000000</td>\n",
       "    </tr>\n",
       "    <tr>\n",
       "      <th>mean</th>\n",
       "      <td>37.042472</td>\n",
       "      <td>2010.964004</td>\n",
       "      <td>3.320535</td>\n",
       "      <td>1.552965</td>\n",
       "      <td>21.089133</td>\n",
       "      <td>1.101474</td>\n",
       "      <td>0.028797</td>\n",
       "      <td>0.040795</td>\n",
       "      <td>4.873500</td>\n",
       "    </tr>\n",
       "    <tr>\n",
       "      <th>std</th>\n",
       "      <td>23.942031</td>\n",
       "      <td>6.215032</td>\n",
       "      <td>5.144593</td>\n",
       "      <td>2.680972</td>\n",
       "      <td>1.384416</td>\n",
       "      <td>1.874488</td>\n",
       "      <td>0.177219</td>\n",
       "      <td>0.207990</td>\n",
       "      <td>7.095428</td>\n",
       "    </tr>\n",
       "    <tr>\n",
       "      <th>min</th>\n",
       "      <td>19.170000</td>\n",
       "      <td>1988.000000</td>\n",
       "      <td>0.000000</td>\n",
       "      <td>0.000000</td>\n",
       "      <td>19.000000</td>\n",
       "      <td>0.000000</td>\n",
       "      <td>0.000000</td>\n",
       "      <td>0.000000</td>\n",
       "      <td>0.000000</td>\n",
       "    </tr>\n",
       "    <tr>\n",
       "      <th>25%</th>\n",
       "      <td>22.500000</td>\n",
       "      <td>2007.000000</td>\n",
       "      <td>0.000000</td>\n",
       "      <td>0.000000</td>\n",
       "      <td>20.000000</td>\n",
       "      <td>0.000000</td>\n",
       "      <td>0.000000</td>\n",
       "      <td>0.000000</td>\n",
       "      <td>0.000000</td>\n",
       "    </tr>\n",
       "    <tr>\n",
       "      <th>50%</th>\n",
       "      <td>28.800000</td>\n",
       "      <td>2012.000000</td>\n",
       "      <td>1.000000</td>\n",
       "      <td>0.000000</td>\n",
       "      <td>21.000000</td>\n",
       "      <td>0.000000</td>\n",
       "      <td>0.000000</td>\n",
       "      <td>0.000000</td>\n",
       "      <td>2.000000</td>\n",
       "    </tr>\n",
       "    <tr>\n",
       "      <th>75%</th>\n",
       "      <td>38.700000</td>\n",
       "      <td>2016.000000</td>\n",
       "      <td>4.000000</td>\n",
       "      <td>2.000000</td>\n",
       "      <td>22.000000</td>\n",
       "      <td>1.000000</td>\n",
       "      <td>0.000000</td>\n",
       "      <td>0.000000</td>\n",
       "      <td>6.000000</td>\n",
       "    </tr>\n",
       "    <tr>\n",
       "      <th>max</th>\n",
       "      <td>199.800000</td>\n",
       "      <td>2020.000000</td>\n",
       "      <td>37.000000</td>\n",
       "      <td>18.000000</td>\n",
       "      <td>23.000000</td>\n",
       "      <td>14.000000</td>\n",
       "      <td>3.000000</td>\n",
       "      <td>2.000000</td>\n",
       "      <td>52.000000</td>\n",
       "    </tr>\n",
       "  </tbody>\n",
       "</table>\n",
       "</div>"
      ],
      "text/plain": [
       "             Value       Season        Goals      Assists          Age  \\\n",
       "count  2917.000000  2917.000000  2917.000000  2917.000000  2917.000000   \n",
       "mean     37.042472  2010.964004     3.320535     1.552965    21.089133   \n",
       "std      23.942031     6.215032     5.144593     2.680972     1.384416   \n",
       "min      19.170000  1988.000000     0.000000     0.000000    19.000000   \n",
       "25%      22.500000  2007.000000     0.000000     0.000000    20.000000   \n",
       "50%      28.800000  2012.000000     1.000000     0.000000    21.000000   \n",
       "75%      38.700000  2016.000000     4.000000     2.000000    22.000000   \n",
       "max     199.800000  2020.000000    37.000000    18.000000    23.000000   \n",
       "\n",
       "       Yellow Cards  Double Yellow     Red Card  Goal Contribution  \n",
       "count   2917.000000    2917.000000  2917.000000        2917.000000  \n",
       "mean       1.101474       0.028797     0.040795           4.873500  \n",
       "std        1.874488       0.177219     0.207990           7.095428  \n",
       "min        0.000000       0.000000     0.000000           0.000000  \n",
       "25%        0.000000       0.000000     0.000000           0.000000  \n",
       "50%        0.000000       0.000000     0.000000           2.000000  \n",
       "75%        1.000000       0.000000     0.000000           6.000000  \n",
       "max       14.000000       3.000000     2.000000          52.000000  "
      ]
     },
     "execution_count": 21,
     "metadata": {},
     "output_type": "execute_result"
    }
   ],
   "source": [
    "df.describe()"
   ]
  },
  {
   "cell_type": "code",
   "execution_count": 22,
   "metadata": {},
   "outputs": [
    {
     "data": {
      "text/plain": [
       "Name                 0\n",
       "Value                0\n",
       "DOB                  0\n",
       "Season               0\n",
       "Competition          0\n",
       "Club ID#             0\n",
       "PPG                  0\n",
       "Goals                0\n",
       "Assists              0\n",
       "Minutes              0\n",
       "Age                  0\n",
       "Yellow Cards         0\n",
       "Double Yellow        0\n",
       "Red Card             0\n",
       "Goal Contribution    0\n",
       "dtype: int64"
      ]
     },
     "execution_count": 22,
     "metadata": {},
     "output_type": "execute_result"
    }
   ],
   "source": [
    "df.isna().sum()"
   ]
  },
  {
   "cell_type": "code",
   "execution_count": null,
   "metadata": {},
   "outputs": [],
   "source": []
  }
 ],
 "metadata": {
  "kernelspec": {
   "display_name": "Python 3",
   "language": "python",
   "name": "python3"
  },
  "language_info": {
   "codemirror_mode": {
    "name": "ipython",
    "version": 3
   },
   "file_extension": ".py",
   "mimetype": "text/x-python",
   "name": "python",
   "nbconvert_exporter": "python",
   "pygments_lexer": "ipython3",
   "version": "3.8.3"
  }
 },
 "nbformat": 4,
 "nbformat_minor": 4
}
