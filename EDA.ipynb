{
 "cells": [
  {
   "cell_type": "code",
   "execution_count": 1,
   "metadata": {},
   "outputs": [],
   "source": [
    "#load the libraries\n",
    "import requests\n",
    "from bs4 import BeautifulSoup\n",
    "import pandas as pd\n",
    "import numpy as np\n",
    "import re\n",
    "import html5lib\n",
    "from pandasql import sqldf\n",
    "import seaborn as sns\n",
    "import matplotlib.pyplot as plt"
   ]
  },
  {
   "cell_type": "code",
   "execution_count": 2,
   "metadata": {},
   "outputs": [],
   "source": [
    "#Load the data\n",
    "df = pd.read_csv('data/players2.csv')"
   ]
  },
  {
   "cell_type": "code",
   "execution_count": 3,
   "metadata": {},
   "outputs": [
    {
     "data": {
      "text/html": [
       "<div>\n",
       "<style scoped>\n",
       "    .dataframe tbody tr th:only-of-type {\n",
       "        vertical-align: middle;\n",
       "    }\n",
       "\n",
       "    .dataframe tbody tr th {\n",
       "        vertical-align: top;\n",
       "    }\n",
       "\n",
       "    .dataframe thead th {\n",
       "        text-align: right;\n",
       "    }\n",
       "</style>\n",
       "<table border=\"1\" class=\"dataframe\">\n",
       "  <thead>\n",
       "    <tr style=\"text-align: right;\">\n",
       "      <th></th>\n",
       "      <th>Name</th>\n",
       "      <th>Value</th>\n",
       "      <th>DOB</th>\n",
       "      <th>Season</th>\n",
       "      <th>Competition</th>\n",
       "      <th>Club ID#</th>\n",
       "      <th>PPG</th>\n",
       "      <th>Goals</th>\n",
       "      <th>Assists</th>\n",
       "      <th>Minutes</th>\n",
       "      <th>Age</th>\n",
       "      <th>Yellow Cards</th>\n",
       "      <th>Double Yellow</th>\n",
       "      <th>Red Card</th>\n",
       "    </tr>\n",
       "  </thead>\n",
       "  <tbody>\n",
       "    <tr>\n",
       "      <th>0</th>\n",
       "      <td>Neymar</td>\n",
       "      <td>199.8</td>\n",
       "      <td>Feb 5, 1992</td>\n",
       "      <td>2011</td>\n",
       "      <td>Club World Cup</td>\n",
       "      <td>2.0</td>\n",
       "      <td>1.5</td>\n",
       "      <td>1</td>\n",
       "      <td>-</td>\n",
       "      <td>180'</td>\n",
       "      <td>19</td>\n",
       "      <td>-</td>\n",
       "      <td>-</td>\n",
       "      <td>-</td>\n",
       "    </tr>\n",
       "    <tr>\n",
       "      <th>1</th>\n",
       "      <td>Neymar</td>\n",
       "      <td>199.8</td>\n",
       "      <td>Feb 5, 1992</td>\n",
       "      <td>2013</td>\n",
       "      <td>Champions League</td>\n",
       "      <td>10.0</td>\n",
       "      <td>2.0</td>\n",
       "      <td>4</td>\n",
       "      <td>5</td>\n",
       "      <td>775'</td>\n",
       "      <td>21</td>\n",
       "      <td>1</td>\n",
       "      <td>-</td>\n",
       "      <td>-</td>\n",
       "    </tr>\n",
       "    <tr>\n",
       "      <th>2</th>\n",
       "      <td>Neymar</td>\n",
       "      <td>199.8</td>\n",
       "      <td>Feb 5, 1992</td>\n",
       "      <td>2013</td>\n",
       "      <td>Copa del Rey</td>\n",
       "      <td>3.0</td>\n",
       "      <td>2.0</td>\n",
       "      <td>1</td>\n",
       "      <td>-</td>\n",
       "      <td>206'</td>\n",
       "      <td>21</td>\n",
       "      <td>1</td>\n",
       "      <td>-</td>\n",
       "      <td>-</td>\n",
       "    </tr>\n",
       "    <tr>\n",
       "      <th>3</th>\n",
       "      <td>Neymar</td>\n",
       "      <td>199.8</td>\n",
       "      <td>Feb 5, 1992</td>\n",
       "      <td>2013</td>\n",
       "      <td>LaLiga</td>\n",
       "      <td>26.0</td>\n",
       "      <td>2.31</td>\n",
       "      <td>9</td>\n",
       "      <td>10</td>\n",
       "      <td>1.736'</td>\n",
       "      <td>21</td>\n",
       "      <td>6</td>\n",
       "      <td>-</td>\n",
       "      <td>-</td>\n",
       "    </tr>\n",
       "    <tr>\n",
       "      <th>4</th>\n",
       "      <td>Neymar</td>\n",
       "      <td>199.8</td>\n",
       "      <td>Feb 5, 1992</td>\n",
       "      <td>2013</td>\n",
       "      <td>Supercopa</td>\n",
       "      <td>2.0</td>\n",
       "      <td>1.0</td>\n",
       "      <td>1</td>\n",
       "      <td>-</td>\n",
       "      <td>121'</td>\n",
       "      <td>21</td>\n",
       "      <td>1</td>\n",
       "      <td>-</td>\n",
       "      <td>-</td>\n",
       "    </tr>\n",
       "  </tbody>\n",
       "</table>\n",
       "</div>"
      ],
      "text/plain": [
       "     Name  Value          DOB  Season       Competition Club ID#   PPG Goals  \\\n",
       "0  Neymar  199.8  Feb 5, 1992    2011    Club World Cup      2.0   1.5     1   \n",
       "1  Neymar  199.8  Feb 5, 1992    2013  Champions League     10.0   2.0     4   \n",
       "2  Neymar  199.8  Feb 5, 1992    2013      Copa del Rey      3.0   2.0     1   \n",
       "3  Neymar  199.8  Feb 5, 1992    2013            LaLiga     26.0  2.31     9   \n",
       "4  Neymar  199.8  Feb 5, 1992    2013         Supercopa      2.0   1.0     1   \n",
       "\n",
       "  Assists Minutes  Age Yellow Cards Double Yellow Red Card  \n",
       "0       -    180'   19           -             -         -  \n",
       "1       5    775'   21           1             -         -  \n",
       "2       -    206'   21           1             -         -  \n",
       "3      10  1.736'   21           6             -         -  \n",
       "4       -    121'   21           1             -         -  "
      ]
     },
     "execution_count": 3,
     "metadata": {},
     "output_type": "execute_result"
    }
   ],
   "source": [
    "df.head()"
   ]
  },
  {
   "cell_type": "code",
   "execution_count": 4,
   "metadata": {},
   "outputs": [],
   "source": [
    "#for i in\n",
    "df['Minutes'] = df['Minutes'].apply(lambda x: x.split(\"'\")[0],0)"
   ]
  },
  {
   "cell_type": "code",
   "execution_count": 5,
   "metadata": {},
   "outputs": [],
   "source": [
    "# Replace dashes with zeros\n",
    "\n",
    "df['Assists'] = df['Assists'].replace('-', 0)\n",
    "df['Goals'] = df['Goals'].replace('-', 0)\n",
    "df['Minutes'] = df['Minutes'].replace('-', 0)\n",
    "df['Yellow Cards'] = df['Yellow Cards'].str.replace('-', '0')\n",
    "df['Double Yellow'] = df['Double Yellow'].str.replace('-', '0')\n",
    "df['Red Card'] = df['Red Card'].str.replace('-', '0')"
   ]
  },
  {
   "cell_type": "code",
   "execution_count": 6,
   "metadata": {},
   "outputs": [],
   "source": [
    "df['Yellow Cards'] = df['Yellow Cards'].str.strip()\n",
    "df['Double Yellow'] = df['Double Yellow'].str.strip()\n",
    "df['Red Card'] = df['Red Card'].str.strip()"
   ]
  },
  {
   "cell_type": "code",
   "execution_count": 7,
   "metadata": {},
   "outputs": [],
   "source": [
    "# Covert to numeric \n",
    "df['Goals'] = pd.to_numeric(df['Goals'])\n",
    "df['Assists'] = pd.to_numeric(df['Assists'])\n",
    "df['Yellow Cards'] = pd.to_numeric(df['Yellow Cards'])\n",
    "df['Double Yellow'] = pd.to_numeric(df['Double Yellow'])\n",
    "df['Red Card'] = pd.to_numeric(df['Red Card'])"
   ]
  },
  {
   "cell_type": "code",
   "execution_count": 8,
   "metadata": {},
   "outputs": [
    {
     "name": "stderr",
     "output_type": "stream",
     "text": [
      "<ipython-input-8-8c95775155cd>:5: SettingWithCopyWarning: \n",
      "A value is trying to be set on a copy of a slice from a DataFrame\n",
      "\n",
      "See the caveats in the documentation: https://pandas.pydata.org/pandas-docs/stable/user_guide/indexing.html#returning-a-view-versus-a-copy\n",
      "  df['Goal Contribution'][i] = df['Goals'][i] + df['Assists'][i]\n"
     ]
    }
   ],
   "source": [
    "# Create a new column goal contribution and assign it the total number of assists and goals\n",
    "\n",
    "df['Goal Contribution'] = np.nan\n",
    "for i in range(len(df)):\n",
    "    df['Goal Contribution'][i] = df['Goals'][i] + df['Assists'][i]"
   ]
  },
  {
   "cell_type": "code",
   "execution_count": 9,
   "metadata": {},
   "outputs": [
    {
     "data": {
      "text/html": [
       "<div>\n",
       "<style scoped>\n",
       "    .dataframe tbody tr th:only-of-type {\n",
       "        vertical-align: middle;\n",
       "    }\n",
       "\n",
       "    .dataframe tbody tr th {\n",
       "        vertical-align: top;\n",
       "    }\n",
       "\n",
       "    .dataframe thead th {\n",
       "        text-align: right;\n",
       "    }\n",
       "</style>\n",
       "<table border=\"1\" class=\"dataframe\">\n",
       "  <thead>\n",
       "    <tr style=\"text-align: right;\">\n",
       "      <th></th>\n",
       "      <th>Name</th>\n",
       "      <th>Value</th>\n",
       "      <th>DOB</th>\n",
       "      <th>Season</th>\n",
       "      <th>Competition</th>\n",
       "      <th>Club ID#</th>\n",
       "      <th>PPG</th>\n",
       "      <th>Goals</th>\n",
       "      <th>Assists</th>\n",
       "      <th>Minutes</th>\n",
       "      <th>Age</th>\n",
       "      <th>Yellow Cards</th>\n",
       "      <th>Double Yellow</th>\n",
       "      <th>Red Card</th>\n",
       "      <th>Goal Contribution</th>\n",
       "    </tr>\n",
       "  </thead>\n",
       "  <tbody>\n",
       "    <tr>\n",
       "      <th>0</th>\n",
       "      <td>Neymar</td>\n",
       "      <td>199.8</td>\n",
       "      <td>Feb 5, 1992</td>\n",
       "      <td>2011</td>\n",
       "      <td>Club World Cup</td>\n",
       "      <td>2.0</td>\n",
       "      <td>1.5</td>\n",
       "      <td>1</td>\n",
       "      <td>0</td>\n",
       "      <td>180</td>\n",
       "      <td>19</td>\n",
       "      <td>0</td>\n",
       "      <td>0</td>\n",
       "      <td>0</td>\n",
       "      <td>1.0</td>\n",
       "    </tr>\n",
       "    <tr>\n",
       "      <th>1</th>\n",
       "      <td>Neymar</td>\n",
       "      <td>199.8</td>\n",
       "      <td>Feb 5, 1992</td>\n",
       "      <td>2013</td>\n",
       "      <td>Champions League</td>\n",
       "      <td>10.0</td>\n",
       "      <td>2.0</td>\n",
       "      <td>4</td>\n",
       "      <td>5</td>\n",
       "      <td>775</td>\n",
       "      <td>21</td>\n",
       "      <td>1</td>\n",
       "      <td>0</td>\n",
       "      <td>0</td>\n",
       "      <td>9.0</td>\n",
       "    </tr>\n",
       "    <tr>\n",
       "      <th>2</th>\n",
       "      <td>Neymar</td>\n",
       "      <td>199.8</td>\n",
       "      <td>Feb 5, 1992</td>\n",
       "      <td>2013</td>\n",
       "      <td>Copa del Rey</td>\n",
       "      <td>3.0</td>\n",
       "      <td>2.0</td>\n",
       "      <td>1</td>\n",
       "      <td>0</td>\n",
       "      <td>206</td>\n",
       "      <td>21</td>\n",
       "      <td>1</td>\n",
       "      <td>0</td>\n",
       "      <td>0</td>\n",
       "      <td>1.0</td>\n",
       "    </tr>\n",
       "    <tr>\n",
       "      <th>3</th>\n",
       "      <td>Neymar</td>\n",
       "      <td>199.8</td>\n",
       "      <td>Feb 5, 1992</td>\n",
       "      <td>2013</td>\n",
       "      <td>LaLiga</td>\n",
       "      <td>26.0</td>\n",
       "      <td>2.31</td>\n",
       "      <td>9</td>\n",
       "      <td>10</td>\n",
       "      <td>1.736</td>\n",
       "      <td>21</td>\n",
       "      <td>6</td>\n",
       "      <td>0</td>\n",
       "      <td>0</td>\n",
       "      <td>19.0</td>\n",
       "    </tr>\n",
       "    <tr>\n",
       "      <th>4</th>\n",
       "      <td>Neymar</td>\n",
       "      <td>199.8</td>\n",
       "      <td>Feb 5, 1992</td>\n",
       "      <td>2013</td>\n",
       "      <td>Supercopa</td>\n",
       "      <td>2.0</td>\n",
       "      <td>1.0</td>\n",
       "      <td>1</td>\n",
       "      <td>0</td>\n",
       "      <td>121</td>\n",
       "      <td>21</td>\n",
       "      <td>1</td>\n",
       "      <td>0</td>\n",
       "      <td>0</td>\n",
       "      <td>1.0</td>\n",
       "    </tr>\n",
       "  </tbody>\n",
       "</table>\n",
       "</div>"
      ],
      "text/plain": [
       "     Name  Value          DOB  Season       Competition Club ID#   PPG  Goals  \\\n",
       "0  Neymar  199.8  Feb 5, 1992    2011    Club World Cup      2.0   1.5      1   \n",
       "1  Neymar  199.8  Feb 5, 1992    2013  Champions League     10.0   2.0      4   \n",
       "2  Neymar  199.8  Feb 5, 1992    2013      Copa del Rey      3.0   2.0      1   \n",
       "3  Neymar  199.8  Feb 5, 1992    2013            LaLiga     26.0  2.31      9   \n",
       "4  Neymar  199.8  Feb 5, 1992    2013         Supercopa      2.0   1.0      1   \n",
       "\n",
       "   Assists Minutes  Age  Yellow Cards  Double Yellow  Red Card  \\\n",
       "0        0     180   19             0              0         0   \n",
       "1        5     775   21             1              0         0   \n",
       "2        0     206   21             1              0         0   \n",
       "3       10   1.736   21             6              0         0   \n",
       "4        0     121   21             1              0         0   \n",
       "\n",
       "   Goal Contribution  \n",
       "0                1.0  \n",
       "1                9.0  \n",
       "2                1.0  \n",
       "3               19.0  \n",
       "4                1.0  "
      ]
     },
     "execution_count": 9,
     "metadata": {},
     "output_type": "execute_result"
    }
   ],
   "source": [
    "df.head()"
   ]
  },
  {
   "cell_type": "code",
   "execution_count": 10,
   "metadata": {},
   "outputs": [
    {
     "name": "stdout",
     "output_type": "stream",
     "text": [
      "<class 'pandas.core.frame.DataFrame'>\n",
      "RangeIndex: 2917 entries, 0 to 2916\n",
      "Data columns (total 15 columns):\n",
      " #   Column             Non-Null Count  Dtype  \n",
      "---  ------             --------------  -----  \n",
      " 0   Name               2917 non-null   object \n",
      " 1   Value              2917 non-null   float64\n",
      " 2   DOB                2917 non-null   object \n",
      " 3   Season             2917 non-null   int64  \n",
      " 4   Competition        2917 non-null   object \n",
      " 5   Club ID#           2917 non-null   object \n",
      " 6   PPG                2917 non-null   object \n",
      " 7   Goals              2917 non-null   int64  \n",
      " 8   Assists            2917 non-null   int64  \n",
      " 9   Minutes            2917 non-null   object \n",
      " 10  Age                2917 non-null   int64  \n",
      " 11  Yellow Cards       2917 non-null   int64  \n",
      " 12  Double Yellow      2917 non-null   int64  \n",
      " 13  Red Card           2917 non-null   int64  \n",
      " 14  Goal Contribution  2917 non-null   float64\n",
      "dtypes: float64(2), int64(7), object(6)\n",
      "memory usage: 342.0+ KB\n"
     ]
    }
   ],
   "source": [
    "df.info()"
   ]
  },
  {
   "cell_type": "code",
   "execution_count": 11,
   "metadata": {},
   "outputs": [
    {
     "data": {
      "text/plain": [
       "Name                 0\n",
       "Value                0\n",
       "DOB                  0\n",
       "Season               0\n",
       "Competition          0\n",
       "Club ID#             0\n",
       "PPG                  0\n",
       "Goals                0\n",
       "Assists              0\n",
       "Minutes              0\n",
       "Age                  0\n",
       "Yellow Cards         0\n",
       "Double Yellow        0\n",
       "Red Card             0\n",
       "Goal Contribution    0\n",
       "dtype: int64"
      ]
     },
     "execution_count": 11,
     "metadata": {},
     "output_type": "execute_result"
    }
   ],
   "source": [
    "df.isna().sum()"
   ]
  },
  {
   "cell_type": "code",
   "execution_count": 12,
   "metadata": {
    "scrolled": true
   },
   "outputs": [
    {
     "name": "stdout",
     "output_type": "stream",
     "text": [
      "Name                  192\n",
      "Value                  95\n",
      "DOB                   189\n",
      "Season                 31\n",
      "Competition           165\n",
      "Club ID#               89\n",
      "PPG                   223\n",
      "Goals                  36\n",
      "Assists                19\n",
      "Minutes              1281\n",
      "Age                     5\n",
      "Yellow Cards           15\n",
      "Double Yellow           4\n",
      "Red Card                3\n",
      "Goal Contribution      44\n",
      "dtype: int64\n"
     ]
    }
   ],
   "source": [
    "print(df.nunique())"
   ]
  },
  {
   "cell_type": "code",
   "execution_count": 13,
   "metadata": {},
   "outputs": [
    {
     "data": {
      "text/plain": [
       "array(['Club World Cup', 'Champions League', 'Copa del Rey', 'LaLiga',\n",
       "       'Supercopa', 'Libertadores', 'Série A', 'Recopa Sudamericana',\n",
       "       'Coupe de France', 'Coupe de la Ligue', 'Ligue 1',\n",
       "       'Trophée des Champions', 'Bundesliga', 'DFB-Pokal', 'DFL-Supercup',\n",
       "       'Allianz Cup', 'Champions League Qualifying', 'Europa League',\n",
       "       'Liga NOS', 'Taça de Portugal Placard', 'FA Cup', 'League Cup',\n",
       "       'Premier League', 'Community Shield', 'Europa League Qualifying',\n",
       "       'UEFA Super Cup', 'UEFA Cup', 'Torneo Inicial', 'EFL Cup',\n",
       "       'Eredivisie', 'Play-Offs Europa League', 'TOTO KNVB beker',\n",
       "       'Johan Cruijff Schaal', 'Ligue 2', 'Championnat National',\n",
       "       'Beker van Belgie', 'JPL Playoff II', 'Jupiler Pro League',\n",
       "       'Jupiler Pro League playoff Europa League', 'Serie A',\n",
       "       'Amstel Cup', 'KPN Eredivisie', 'Championship', 'U21 PL',\n",
       "       'Liga BBVA', 'LaLiga2', '2ª B - Grupo I', 'Promoción LaLiga2',\n",
       "       'Coppa Italia', 'Supercoppa Italiana', 'Liga Pro', 'UI Cup',\n",
       "       'Supertaça', \"Emperor's Cup\", 'J. League Cup', 'J.League Div.1',\n",
       "       'J.League Div.2', 'Premier League 2', 'KNVB Beker', 'Premier Liga',\n",
       "       'Ukrainian Cup', 'Ukrainian Super Cup', 'Série B', 'JPL Playoff I',\n",
       "       'Belgian Supercup', 'Serie B', 'Intercontinental Cup',\n",
       "       'PTT Telecomp.', \"Cup Winners' Cup\", 'Play-Out Serie A', 'ÖFB-Cup',\n",
       "       'Torneo Final', 'Copa Sudamericana', 'MOL Cup', 'Synot Liga',\n",
       "       'Super League', 'Swiss Cup', 'Schweizer Cup', 'Primera Clausura',\n",
       "       'Fase Final LP II', 'Liga DIMAYOR II', 'Russian Cup',\n",
       "       'Russian Super Cup', 'Bundesliga Playoffs', 'Beloften Eredivisie',\n",
       "       'Beloften nacompetitie', 'Primavera C', 'Serie B Play-off',\n",
       "       'Primavera A', 'Süper Lig', 'Türkiye Kupasi',\n",
       "       'UEFA-Cup Qualifikation', '2ª División',\n",
       "       'CONCACAF Champions League', 'Liga MX Apertura',\n",
       "       'Liga MX Clausura', 'Liguilla Apertura', 'Liguilla Clausura',\n",
       "       'Copa MX Apertura', 'Copa MX Clausura', 'Campeón de Campeones',\n",
       "       'Primera Apertura', 'Oberliga Nordrhein', 'Ligapokal',\n",
       "       'Fortuna Liga', 'Serie C1 - A', '2ª B - Grupo II',\n",
       "       'Promoción LaLiga', 'Vyshcha Liga', 'Taça CTT', 'J1 - 1st Stage',\n",
       "       'J1 - 2nd Stage', 'J3 League', 'J1 League', '1 Liga', 'Polish Cup',\n",
       "       'Ekstraklasa', 'TFF Süper Kupa', 'FNL', 'Regionalliga West',\n",
       "       'Jupiler League', 'First Division', 'EFL Trophy', 'League Two',\n",
       "       'League Two Play-Offs', \"Coupe d'Algerie\", 'Division 1',\n",
       "       'Ligue Professionnelle 1', 'UEFA Youth League', 'Reserve League',\n",
       "       'Regionalliga Süd', 'Campeonato Carioca - Final', 'League One',\n",
       "       'Championship Play-Offs', 'KPN Telecomp.', '2ª B - Grupo III',\n",
       "       'Eerste Divisie', 'Gatorade Cup', 'Oberliga Westfalen',\n",
       "       'Primavera B', 'Slovnaft Cup', 'Primera División', 'Superliga',\n",
       "       'Jelen SuperLiga', 'Primavera Fase Finale', 'Viareggio',\n",
       "       'Liga DIMAYOR I', 'U21 PL Elite Group', 'Torneo Intermedio',\n",
       "       'Playoffs Primera Division', 'Primera División Apertura', '1.HNL',\n",
       "       'Tippeligaen', 'Hrvatski nogometni kup', 'Primavera 1',\n",
       "       'Auf-/Abstiegsrunde NLA/NLB', 'LaLiga 1|2|3',\n",
       "       'Reserve League North', 'Reserve League Play Offs', 'Conference',\n",
       "       'Premiership', 'SFA Cup', 'Scottish Premiership Meisterrunde',\n",
       "       'Transición', 'Play-Offs Promotie/Deg.'], dtype=object)"
      ]
     },
     "execution_count": 13,
     "metadata": {},
     "output_type": "execute_result"
    }
   ],
   "source": [
    "df['Competition'].unique()"
   ]
  },
  {
   "cell_type": "code",
   "execution_count": 14,
   "metadata": {},
   "outputs": [
    {
     "data": {
      "text/plain": [
       "Champions League               281\n",
       "Premier League                 166\n",
       "FA Cup                         143\n",
       "Serie A                        139\n",
       "Europa League                  129\n",
       "Coppa Italia                   120\n",
       "LaLiga                         116\n",
       "Ligue 1                        111\n",
       "Champions League Qualifying    105\n",
       "Coupe de la Ligue               99\n",
       "Copa del Rey                    97\n",
       "Coupe de France                 97\n",
       "League Cup                      93\n",
       "UEFA Cup                        83\n",
       "Bundesliga                      66\n",
       "DFB-Pokal                       56\n",
       "EFL Cup                         56\n",
       "Europa League Qualifying        44\n",
       "Eredivisie                      41\n",
       "Liga NOS                        38\n",
       "Libertadores                    29\n",
       "Taça de Portugal Placard        27\n",
       "Premier Liga                    27\n",
       "Ukrainian Cup                   24\n",
       "Championship                    24\n",
       "Allianz Cup                     23\n",
       "Community Shield                21\n",
       "Série A                         21\n",
       "Supercopa                       20\n",
       "Trophée des Champions           18\n",
       "Ligue 2                         18\n",
       "Jupiler Pro League              18\n",
       "UEFA Super Cup                  18\n",
       "Supercoppa Italiana             17\n",
       "TOTO KNVB beker                 16\n",
       "Süper Lig                       15\n",
       "Copa Sudamericana               15\n",
       "Ukrainian Super Cup             15\n",
       "Torneo Inicial                  14\n",
       "Türkiye Kupasi                  14\n",
       "Name: Competition, dtype: int64"
      ]
     },
     "execution_count": 14,
     "metadata": {},
     "output_type": "execute_result"
    }
   ],
   "source": [
    "a = df['Competition'].value_counts()\n",
    "a.head(40)"
   ]
  },
  {
   "cell_type": "code",
   "execution_count": 15,
   "metadata": {},
   "outputs": [
    {
     "data": {
      "text/html": [
       "<div>\n",
       "<style scoped>\n",
       "    .dataframe tbody tr th:only-of-type {\n",
       "        vertical-align: middle;\n",
       "    }\n",
       "\n",
       "    .dataframe tbody tr th {\n",
       "        vertical-align: top;\n",
       "    }\n",
       "\n",
       "    .dataframe thead th {\n",
       "        text-align: right;\n",
       "    }\n",
       "</style>\n",
       "<table border=\"1\" class=\"dataframe\">\n",
       "  <thead>\n",
       "    <tr style=\"text-align: right;\">\n",
       "      <th></th>\n",
       "      <th>Name</th>\n",
       "      <th>Value</th>\n",
       "      <th>DOB</th>\n",
       "      <th>Season</th>\n",
       "      <th>Competition</th>\n",
       "      <th>Club ID#</th>\n",
       "      <th>PPG</th>\n",
       "      <th>Goals</th>\n",
       "      <th>Assists</th>\n",
       "      <th>Minutes</th>\n",
       "      <th>Age</th>\n",
       "      <th>Yellow Cards</th>\n",
       "      <th>Double Yellow</th>\n",
       "      <th>Red Card</th>\n",
       "      <th>Goal Contribution</th>\n",
       "    </tr>\n",
       "  </thead>\n",
       "  <tbody>\n",
       "  </tbody>\n",
       "</table>\n",
       "</div>"
      ],
      "text/plain": [
       "Empty DataFrame\n",
       "Columns: [Name, Value, DOB, Season, Competition, Club ID#, PPG, Goals, Assists, Minutes, Age, Yellow Cards, Double Yellow, Red Card, Goal Contribution]\n",
       "Index: []"
      ]
     },
     "execution_count": 15,
     "metadata": {},
     "output_type": "execute_result"
    }
   ],
   "source": [
    "duplicateRowsDF = df[df.duplicated()]\n",
    "duplicateRowsDF"
   ]
  },
  {
   "cell_type": "code",
   "execution_count": 16,
   "metadata": {
    "scrolled": false
   },
   "outputs": [
    {
     "data": {
      "image/png": "[encoded data removed]",
      "text/plain": [
       "<Figure size 864x288 with 1 Axes>"
      ]
     },
     "metadata": {
      "needs_background": "light"
     },
     "output_type": "display_data"
    }
   ],
   "source": [
    "legend = ['Goals']\n",
    "df1 = df[['Goals', 'Age']]\n",
    "plt.figure(figsize=(12, 4))\n",
    "plt.hist(df['Goals'], color=['red'], bins=40, ec='black')\n",
    "plt.ylabel('Count')\n",
    "plt.xlabel('Goals Scored')\n",
    "plt.legend(legend)\n",
    "plt.show()"
   ]
  },
  {
   "cell_type": "code",
   "execution_count": 17,
   "metadata": {},
   "outputs": [
    {
     "data": {
      "text/plain": [
       "count    2917.000000\n",
       "mean       36.764796\n",
       "std        23.959349\n",
       "min        19.080000\n",
       "25%        22.500000\n",
       "50%        28.800000\n",
       "75%        38.250000\n",
       "max       199.800000\n",
       "Name: Value, dtype: float64"
      ]
     },
     "execution_count": 17,
     "metadata": {},
     "output_type": "execute_result"
    }
   ],
   "source": [
    "df.Value.describe()"
   ]
  },
  {
   "cell_type": "code",
   "execution_count": 18,
   "metadata": {},
   "outputs": [
    {
     "data": {
      "text/plain": [
       "(2917, 15)"
      ]
     },
     "execution_count": 18,
     "metadata": {},
     "output_type": "execute_result"
    }
   ],
   "source": [
    "df.shape"
   ]
  },
  {
   "cell_type": "code",
   "execution_count": 19,
   "metadata": {
    "scrolled": true
   },
   "outputs": [
    {
     "data": {
      "text/plain": [
       "<matplotlib.axes._subplots.AxesSubplot at 0x24ea9ab2190>"
      ]
     },
     "execution_count": 19,
     "metadata": {},
     "output_type": "execute_result"
    },
    {
     "data": {
      "image/png": "[encoded data removed]",
      "text/plain": [
       "<Figure size 720x288 with 1 Axes>"
      ]
     },
     "metadata": {
      "needs_background": "light"
     },
     "output_type": "display_data"
    }
   ],
   "source": [
    "plt.subplots(figsize=(10,4))\n",
    "sns.boxplot(x='Value', data=df)"
   ]
  },
  {
   "cell_type": "code",
   "execution_count": 20,
   "metadata": {
    "scrolled": false
   },
   "outputs": [
    {
     "data": {
      "text/plain": [
       "<matplotlib.axes._subplots.AxesSubplot at 0x24eaa2bad00>"
      ]
     },
     "execution_count": 20,
     "metadata": {},
     "output_type": "execute_result"
    },
    {
     "data": {
      "image/png": "[encoded data removed]",
      "text/plain": [
       "<Figure size 432x576 with 1 Axes>"
      ]
     },
     "metadata": {
      "needs_background": "light"
     },
     "output_type": "display_data"
    }
   ],
   "source": [
    "plt.subplots(figsize=(6,8))\n",
    "sns.boxplot(x='Age', y='Goals', data= df , linewidth=2.5)"
   ]
  },
  {
   "cell_type": "code",
   "execution_count": 21,
   "metadata": {
    "scrolled": true
   },
   "outputs": [
    {
     "data": {
      "text/plain": [
       "<matplotlib.axes._subplots.AxesSubplot at 0x24eaa37c310>"
      ]
     },
     "execution_count": 21,
     "metadata": {},
     "output_type": "execute_result"
    },
    {
     "data": {
      "image/png": "[encoded data removed]",
      "text/plain": [
       "<Figure size 432x576 with 1 Axes>"
      ]
     },
     "metadata": {
      "needs_background": "light"
     },
     "output_type": "display_data"
    }
   ],
   "source": [
    "plt.subplots(figsize=(6,8))\n",
    "sns.boxplot(x='Age', y='Assists', data= df , linewidth=2.5)"
   ]
  },
  {
   "cell_type": "code",
   "execution_count": 22,
   "metadata": {
    "scrolled": true
   },
   "outputs": [
    {
     "data": {
      "text/plain": [
       "<matplotlib.axes._subplots.AxesSubplot at 0x24eaa408370>"
      ]
     },
     "execution_count": 22,
     "metadata": {},
     "output_type": "execute_result"
    },
    {
     "data": {
      "image/png": "[encoded data removed]",
      "text/plain": [
       "<Figure size 432x576 with 1 Axes>"
      ]
     },
     "metadata": {
      "needs_background": "light"
     },
     "output_type": "display_data"
    }
   ],
   "source": [
    "plt.subplots(figsize=(6,8))\n",
    "sns.boxplot(x='Age', y='Goal Contribution', data= df , linewidth=2.5)"
   ]
  },
  {
   "cell_type": "code",
   "execution_count": 23,
   "metadata": {},
   "outputs": [
    {
     "data": {
      "text/plain": [
       "<matplotlib.axes._subplots.AxesSubplot at 0x24eaa256ee0>"
      ]
     },
     "execution_count": 23,
     "metadata": {},
     "output_type": "execute_result"
    },
    {
     "data": {
      "image/png": "[encoded data removed]",
      "text/plain": [
       "<Figure size 2160x576 with 1 Axes>"
      ]
     },
     "metadata": {
      "needs_background": "light"
     },
     "output_type": "display_data"
    }
   ],
   "source": [
    "plt.subplots(figsize=(30,8))\n",
    "sns.boxplot(x='Value', y='Goal Contribution', data= df , linewidth=2.5)"
   ]
  },
  {
   "cell_type": "code",
   "execution_count": 24,
   "metadata": {
    "scrolled": true
   },
   "outputs": [
    {
     "data": {
      "image/png": "[encoded data removed]",
      "text/plain": [
       "<Figure size 288x288 with 1 Axes>"
      ]
     },
     "metadata": {
      "needs_background": "light"
     },
     "output_type": "display_data"
    }
   ],
   "source": [
    "legend = ['Age']\n",
    "plt.figure(figsize=(4, 4))\n",
    "plt.hist(df['Age'], color=['blue'], bins=4, ec='black')\n",
    "plt.ylabel('Count')\n",
    "plt.xlabel('Age')\n",
    "plt.legend(legend)\n",
    "plt.show()\n"
   ]
  },
  {
   "cell_type": "code",
   "execution_count": 25,
   "metadata": {},
   "outputs": [
    {
     "data": {
      "text/plain": [
       "count    2917.000000\n",
       "mean       21.095303\n",
       "std         1.381028\n",
       "min        19.000000\n",
       "25%        20.000000\n",
       "50%        21.000000\n",
       "75%        22.000000\n",
       "max        23.000000\n",
       "Name: Age, dtype: float64"
      ]
     },
     "execution_count": 25,
     "metadata": {},
     "output_type": "execute_result"
    }
   ],
   "source": [
    "df.Age.describe()"
   ]
  },
  {
   "cell_type": "code",
   "execution_count": 26,
   "metadata": {},
   "outputs": [
    {
     "data": {
      "text/html": [
       "<div>\n",
       "<style scoped>\n",
       "    .dataframe tbody tr th:only-of-type {\n",
       "        vertical-align: middle;\n",
       "    }\n",
       "\n",
       "    .dataframe tbody tr th {\n",
       "        vertical-align: top;\n",
       "    }\n",
       "\n",
       "    .dataframe thead th {\n",
       "        text-align: right;\n",
       "    }\n",
       "</style>\n",
       "<table border=\"1\" class=\"dataframe\">\n",
       "  <thead>\n",
       "    <tr style=\"text-align: right;\">\n",
       "      <th></th>\n",
       "      <th>Goals</th>\n",
       "      <th>Assists</th>\n",
       "      <th>Age</th>\n",
       "      <th>Value</th>\n",
       "      <th>Goal Contribution</th>\n",
       "      <th>Yellow Cards</th>\n",
       "      <th>Double Yellow</th>\n",
       "      <th>Red Card</th>\n",
       "    </tr>\n",
       "  </thead>\n",
       "  <tbody>\n",
       "    <tr>\n",
       "      <th>Goals</th>\n",
       "      <td>1.000000</td>\n",
       "      <td>0.602850</td>\n",
       "      <td>0.094768</td>\n",
       "      <td>0.076793</td>\n",
       "      <td>0.953706</td>\n",
       "      <td>0.617272</td>\n",
       "      <td>0.190759</td>\n",
       "      <td>0.165989</td>\n",
       "    </tr>\n",
       "    <tr>\n",
       "      <th>Assists</th>\n",
       "      <td>0.602850</td>\n",
       "      <td>1.000000</td>\n",
       "      <td>0.057340</td>\n",
       "      <td>0.148304</td>\n",
       "      <td>0.814888</td>\n",
       "      <td>0.518796</td>\n",
       "      <td>0.133223</td>\n",
       "      <td>0.099871</td>\n",
       "    </tr>\n",
       "    <tr>\n",
       "      <th>Age</th>\n",
       "      <td>0.094768</td>\n",
       "      <td>0.057340</td>\n",
       "      <td>1.000000</td>\n",
       "      <td>-0.044823</td>\n",
       "      <td>0.090460</td>\n",
       "      <td>0.026317</td>\n",
       "      <td>0.031411</td>\n",
       "      <td>-0.009958</td>\n",
       "    </tr>\n",
       "    <tr>\n",
       "      <th>Value</th>\n",
       "      <td>0.076793</td>\n",
       "      <td>0.148304</td>\n",
       "      <td>-0.044823</td>\n",
       "      <td>1.000000</td>\n",
       "      <td>0.111688</td>\n",
       "      <td>0.071699</td>\n",
       "      <td>0.028530</td>\n",
       "      <td>0.011854</td>\n",
       "    </tr>\n",
       "    <tr>\n",
       "      <th>Goal Contribution</th>\n",
       "      <td>0.953706</td>\n",
       "      <td>0.814888</td>\n",
       "      <td>0.090460</td>\n",
       "      <td>0.111688</td>\n",
       "      <td>1.000000</td>\n",
       "      <td>0.643982</td>\n",
       "      <td>0.188798</td>\n",
       "      <td>0.158231</td>\n",
       "    </tr>\n",
       "    <tr>\n",
       "      <th>Yellow Cards</th>\n",
       "      <td>0.617272</td>\n",
       "      <td>0.518796</td>\n",
       "      <td>0.026317</td>\n",
       "      <td>0.071699</td>\n",
       "      <td>0.643982</td>\n",
       "      <td>1.000000</td>\n",
       "      <td>0.229534</td>\n",
       "      <td>0.221772</td>\n",
       "    </tr>\n",
       "    <tr>\n",
       "      <th>Double Yellow</th>\n",
       "      <td>0.190759</td>\n",
       "      <td>0.133223</td>\n",
       "      <td>0.031411</td>\n",
       "      <td>0.028530</td>\n",
       "      <td>0.188798</td>\n",
       "      <td>0.229534</td>\n",
       "      <td>1.000000</td>\n",
       "      <td>0.043760</td>\n",
       "    </tr>\n",
       "    <tr>\n",
       "      <th>Red Card</th>\n",
       "      <td>0.165989</td>\n",
       "      <td>0.099871</td>\n",
       "      <td>-0.009958</td>\n",
       "      <td>0.011854</td>\n",
       "      <td>0.158231</td>\n",
       "      <td>0.221772</td>\n",
       "      <td>0.043760</td>\n",
       "      <td>1.000000</td>\n",
       "    </tr>\n",
       "  </tbody>\n",
       "</table>\n",
       "</div>"
      ],
      "text/plain": [
       "                      Goals   Assists       Age     Value  Goal Contribution  \\\n",
       "Goals              1.000000  0.602850  0.094768  0.076793           0.953706   \n",
       "Assists            0.602850  1.000000  0.057340  0.148304           0.814888   \n",
       "Age                0.094768  0.057340  1.000000 -0.044823           0.090460   \n",
       "Value              0.076793  0.148304 -0.044823  1.000000           0.111688   \n",
       "Goal Contribution  0.953706  0.814888  0.090460  0.111688           1.000000   \n",
       "Yellow Cards       0.617272  0.518796  0.026317  0.071699           0.643982   \n",
       "Double Yellow      0.190759  0.133223  0.031411  0.028530           0.188798   \n",
       "Red Card           0.165989  0.099871 -0.009958  0.011854           0.158231   \n",
       "\n",
       "                   Yellow Cards  Double Yellow  Red Card  \n",
       "Goals                  0.617272       0.190759  0.165989  \n",
       "Assists                0.518796       0.133223  0.099871  \n",
       "Age                    0.026317       0.031411 -0.009958  \n",
       "Value                  0.071699       0.028530  0.011854  \n",
       "Goal Contribution      0.643982       0.188798  0.158231  \n",
       "Yellow Cards           1.000000       0.229534  0.221772  \n",
       "Double Yellow          0.229534       1.000000  0.043760  \n",
       "Red Card               0.221772       0.043760  1.000000  "
      ]
     },
     "execution_count": 26,
     "metadata": {},
     "output_type": "execute_result"
    },
    {
     "data": {
      "image/png": "[encoded data removed]",
      "text/plain": [
       "<Figure size 432x288 with 2 Axes>"
      ]
     },
     "metadata": {
      "needs_background": "light"
     },
     "output_type": "display_data"
    }
   ],
   "source": [
    "data = df[['Goals', 'Assists', 'Age', 'Minutes', 'Value', 'Goal Contribution', 'Yellow Cards', 'Double Yellow', 'Red Card']]\n",
    "corr = data.corr()\n",
    "\n",
    "#sns.heatmap(df.corr(['Goals', 'Assists']), cmap='RdYlGn')\n",
    "\n",
    "sns.heatmap(corr)\n",
    "corr"
   ]
  },
  {
   "cell_type": "code",
   "execution_count": null,
   "metadata": {},
   "outputs": [],
   "source": []
  }
 ],
 "metadata": {
  "kernelspec": {
   "display_name": "Python 3",
   "language": "python",
   "name": "python3"
  },
  "language_info": {
   "codemirror_mode": {
    "name": "ipython",
    "version": 3
   },
   "file_extension": ".py",
   "mimetype": "text/x-python",
   "name": "python",
   "nbconvert_exporter": "python",
   "pygments_lexer": "ipython3",
   "version": "3.8.3"
  }
 },
 "nbformat": 4,
 "nbformat_minor": 4
}
