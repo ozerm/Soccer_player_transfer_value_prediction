{
 "cells": [
  {
   "cell_type": "code",
   "execution_count": 20,
   "metadata": {},
   "outputs": [],
   "source": [
    "#load the libraries\n",
    "import requests\n",
    "from bs4 import BeautifulSoup\n",
    "import pandas as pd\n",
    "import numpy as np\n",
    "import re\n",
    "import html5lib\n",
    "from pandasql import sqldf\n",
    "import seaborn as sns\n",
    "import matplotlib.pyplot as plt"
   ]
  },
  {
   "cell_type": "code",
   "execution_count": 21,
   "metadata": {},
   "outputs": [],
   "source": [
    "#Load the data\n",
    "df = pd.read_csv('data/players2.csv')"
   ]
  },
  {
   "cell_type": "code",
   "execution_count": 22,
   "metadata": {
    "scrolled": true
   },
   "outputs": [
    {
     "data": {
      "image/png": "[encoded data removed]",
      "text/plain": [
       "<Figure size 432x288 with 1 Axes>"
      ]
     },
     "metadata": {
      "needs_background": "light"
     },
     "output_type": "display_data"
    }
   ],
   "source": [
    "sns.countplot(data=df,\n",
    "              x='Value')\n",
    "plt.xlabel('')\n",
    "plt.ylabel('Frequency')\n",
    "plt.title('School Shooting Type (2010-2018)')\n",
    "sns.despine()\n",
    "plt.show()"
   ]
  },
  {
   "cell_type": "code",
   "execution_count": 70,
   "metadata": {
    "scrolled": false
   },
   "outputs": [
    {
     "data": {
      "image/png": "[encoded data removed]",
      "text/plain": [
       "<Figure size 864x288 with 1 Axes>"
      ]
     },
     "metadata": {
      "needs_background": "light"
     },
     "output_type": "display_data"
    }
   ],
   "source": [
    "legend = ['Goals']\n",
    "df1 = df[['Goals', 'Age']]\n",
    "plt.figure(figsize=(12, 4))\n",
    "plt.hist(df['Goals'], color=['red'], bins=40, ec='black')\n",
    "plt.ylabel('Count')\n",
    "plt.xlabel('Goals Scored')\n",
    "plt.legend(legend)\n",
    "plt.show()"
   ]
  },
  {
   "cell_type": "code",
   "execution_count": 24,
   "metadata": {},
   "outputs": [
    {
     "data": {
      "text/plain": [
       "count    2917.000000\n",
       "mean       36.764796\n",
       "std        23.959349\n",
       "min        19.080000\n",
       "25%        22.500000\n",
       "50%        28.800000\n",
       "75%        38.250000\n",
       "max       199.800000\n",
       "Name: Value, dtype: float64"
      ]
     },
     "execution_count": 24,
     "metadata": {},
     "output_type": "execute_result"
    }
   ],
   "source": [
    "df.Value.describe()"
   ]
  },
  {
   "cell_type": "code",
   "execution_count": 67,
   "metadata": {},
   "outputs": [
    {
     "data": {
      "text/html": [
       "<style  type=\"text/css\" >\n",
       "    #T_50535041_0985_11eb_a875_08d23ee92879row0_col0 {\n",
       "            background-color:  #b40426;\n",
       "            color:  #f1f1f1;\n",
       "        }    #T_50535041_0985_11eb_a875_08d23ee92879row0_col1 {\n",
       "            background-color:  #3d50c3;\n",
       "            color:  #f1f1f1;\n",
       "        }    #T_50535041_0985_11eb_a875_08d23ee92879row0_col2 {\n",
       "            background-color:  #3b4cc0;\n",
       "            color:  #f1f1f1;\n",
       "        }    #T_50535041_0985_11eb_a875_08d23ee92879row1_col0 {\n",
       "            background-color:  #6282ea;\n",
       "            color:  #000000;\n",
       "        }    #T_50535041_0985_11eb_a875_08d23ee92879row1_col1 {\n",
       "            background-color:  #b40426;\n",
       "            color:  #f1f1f1;\n",
       "        }    #T_50535041_0985_11eb_a875_08d23ee92879row1_col2 {\n",
       "            background-color:  #5f7fe8;\n",
       "            color:  #000000;\n",
       "        }    #T_50535041_0985_11eb_a875_08d23ee92879row2_col0 {\n",
       "            background-color:  #3b4cc0;\n",
       "            color:  #f1f1f1;\n",
       "        }    #T_50535041_0985_11eb_a875_08d23ee92879row2_col1 {\n",
       "            background-color:  #3b4cc0;\n",
       "            color:  #f1f1f1;\n",
       "        }    #T_50535041_0985_11eb_a875_08d23ee92879row2_col2 {\n",
       "            background-color:  #b40426;\n",
       "            color:  #f1f1f1;\n",
       "        }</style><table id=\"T_50535041_0985_11eb_a875_08d23ee92879\" ><thead>    <tr>        <th class=\"blank level0\" ></th>        <th class=\"col_heading level0 col0\" >Value</th>        <th class=\"col_heading level0 col1\" >Season</th>        <th class=\"col_heading level0 col2\" >Age</th>    </tr></thead><tbody>\n",
       "                <tr>\n",
       "                        <th id=\"T_50535041_0985_11eb_a875_08d23ee92879level0_row0\" class=\"row_heading level0 row0\" >Value</th>\n",
       "                        <td id=\"T_50535041_0985_11eb_a875_08d23ee92879row0_col0\" class=\"data row0 col0\" >1.000000</td>\n",
       "                        <td id=\"T_50535041_0985_11eb_a875_08d23ee92879row0_col1\" class=\"data row0 col1\" >0.088837</td>\n",
       "                        <td id=\"T_50535041_0985_11eb_a875_08d23ee92879row0_col2\" class=\"data row0 col2\" >-0.044823</td>\n",
       "            </tr>\n",
       "            <tr>\n",
       "                        <th id=\"T_50535041_0985_11eb_a875_08d23ee92879level0_row1\" class=\"row_heading level0 row1\" >Season</th>\n",
       "                        <td id=\"T_50535041_0985_11eb_a875_08d23ee92879row1_col0\" class=\"data row1 col0\" >0.088837</td>\n",
       "                        <td id=\"T_50535041_0985_11eb_a875_08d23ee92879row1_col1\" class=\"data row1 col1\" >1.000000</td>\n",
       "                        <td id=\"T_50535041_0985_11eb_a875_08d23ee92879row1_col2\" class=\"data row1 col2\" >0.080645</td>\n",
       "            </tr>\n",
       "            <tr>\n",
       "                        <th id=\"T_50535041_0985_11eb_a875_08d23ee92879level0_row2\" class=\"row_heading level0 row2\" >Age</th>\n",
       "                        <td id=\"T_50535041_0985_11eb_a875_08d23ee92879row2_col0\" class=\"data row2 col0\" >-0.044823</td>\n",
       "                        <td id=\"T_50535041_0985_11eb_a875_08d23ee92879row2_col1\" class=\"data row2 col1\" >0.080645</td>\n",
       "                        <td id=\"T_50535041_0985_11eb_a875_08d23ee92879row2_col2\" class=\"data row2 col2\" >1.000000</td>\n",
       "            </tr>\n",
       "    </tbody></table>"
      ],
      "text/plain": [
       "<pandas.io.formats.style.Styler at 0x11f9bbd10d0>"
      ]
     },
     "execution_count": 67,
     "metadata": {},
     "output_type": "execute_result"
    }
   ],
   "source": []
  },
  {
   "cell_type": "code",
   "execution_count": 61,
   "metadata": {},
   "outputs": [
    {
     "data": {
      "text/plain": [
       "(2917, 14)"
      ]
     },
     "execution_count": 61,
     "metadata": {},
     "output_type": "execute_result"
    }
   ],
   "source": [
    "df.shape"
   ]
  },
  {
   "cell_type": "code",
   "execution_count": 37,
   "metadata": {
    "scrolled": true
   },
   "outputs": [
    {
     "data": {
      "text/plain": [
       "<matplotlib.axes._subplots.AxesSubplot at 0x11f96c4c520>"
      ]
     },
     "execution_count": 37,
     "metadata": {},
     "output_type": "execute_result"
    },
    {
     "data": {
      "image/png": "[encoded data removed]",
      "text/plain": [
       "<Figure size 432x288 with 1 Axes>"
      ]
     },
     "metadata": {
      "needs_background": "light"
     },
     "output_type": "display_data"
    }
   ],
   "source": [
    "\n",
    "sns.boxplot(x=df['Value'])"
   ]
  },
  {
   "cell_type": "code",
   "execution_count": 68,
   "metadata": {},
   "outputs": [
    {
     "data": {
      "text/plain": [
       "<matplotlib.axes._subplots.AxesSubplot at 0x11f9a2a02e0>"
      ]
     },
     "execution_count": 68,
     "metadata": {},
     "output_type": "execute_result"
    },
    {
     "data": {
      "image/png": "[encoded data removed]",
      "text/plain": [
       "<Figure size 792x1584 with 1 Axes>"
      ]
     },
     "metadata": {
      "needs_background": "light"
     },
     "output_type": "display_data"
    }
   ],
   "source": [
    "plt.subplots(figsize=(11,22))\n",
    "sns.boxplot(x='Goals', y='Age', data= df , linewidth=2.5)"
   ]
  },
  {
   "cell_type": "code",
   "execution_count": 16,
   "metadata": {
    "scrolled": true
   },
   "outputs": [
    {
     "data": {
      "image/png": "[encoded data removed]",
      "text/plain": [
       "<Figure size 288x288 with 1 Axes>"
      ]
     },
     "metadata": {
      "needs_background": "light"
     },
     "output_type": "display_data"
    }
   ],
   "source": [
    "legend = ['Age']\n",
    "plt.figure(figsize=(4, 4))\n",
    "plt.hist(df['Age'], color=['blue'], bins=4, ec='black')\n",
    "plt.ylabel('Count')\n",
    "plt.xlabel('Age')\n",
    "plt.legend(legend)\n",
    "plt.show()\n"
   ]
  },
  {
   "cell_type": "code",
   "execution_count": 17,
   "metadata": {},
   "outputs": [
    {
     "data": {
      "text/plain": [
       "count    2917.000000\n",
       "mean       21.095303\n",
       "std         1.381028\n",
       "min        19.000000\n",
       "25%        20.000000\n",
       "50%        21.000000\n",
       "75%        22.000000\n",
       "max        23.000000\n",
       "Name: Age, dtype: float64"
      ]
     },
     "execution_count": 17,
     "metadata": {},
     "output_type": "execute_result"
    }
   ],
   "source": [
    "df.Age.describe()"
   ]
  },
  {
   "cell_type": "code",
   "execution_count": 19,
   "metadata": {},
   "outputs": [
    {
     "data": {
      "text/html": [
       "<div>\n",
       "<style scoped>\n",
       "    .dataframe tbody tr th:only-of-type {\n",
       "        vertical-align: middle;\n",
       "    }\n",
       "\n",
       "    .dataframe tbody tr th {\n",
       "        vertical-align: top;\n",
       "    }\n",
       "\n",
       "    .dataframe thead th {\n",
       "        text-align: right;\n",
       "    }\n",
       "</style>\n",
       "<table border=\"1\" class=\"dataframe\">\n",
       "  <thead>\n",
       "    <tr style=\"text-align: right;\">\n",
       "      <th></th>\n",
       "      <th>Name</th>\n",
       "      <th>Value</th>\n",
       "      <th>DOB</th>\n",
       "      <th>Season</th>\n",
       "      <th>Competition</th>\n",
       "      <th>Club ID#</th>\n",
       "      <th>PPG</th>\n",
       "      <th>Goals</th>\n",
       "      <th>Assists</th>\n",
       "      <th>Minutes</th>\n",
       "      <th>Age</th>\n",
       "      <th>Yellow Cards</th>\n",
       "      <th>Double Yellow</th>\n",
       "      <th>Red Card</th>\n",
       "    </tr>\n",
       "  </thead>\n",
       "  <tbody>\n",
       "    <tr>\n",
       "      <th>0</th>\n",
       "      <td>Neymar</td>\n",
       "      <td>£199.80m</td>\n",
       "      <td>Feb 5, 1992</td>\n",
       "      <td>2011</td>\n",
       "      <td>Club World Cup</td>\n",
       "      <td>2.0</td>\n",
       "      <td>1.5</td>\n",
       "      <td>1</td>\n",
       "      <td>-</td>\n",
       "      <td>180'</td>\n",
       "      <td>19</td>\n",
       "      <td>-</td>\n",
       "      <td>-</td>\n",
       "      <td>-</td>\n",
       "    </tr>\n",
       "    <tr>\n",
       "      <th>1</th>\n",
       "      <td>Neymar</td>\n",
       "      <td>£199.80m</td>\n",
       "      <td>Feb 5, 1992</td>\n",
       "      <td>2013</td>\n",
       "      <td>Champions League</td>\n",
       "      <td>10.0</td>\n",
       "      <td>2.0</td>\n",
       "      <td>4</td>\n",
       "      <td>5</td>\n",
       "      <td>775'</td>\n",
       "      <td>21</td>\n",
       "      <td>1</td>\n",
       "      <td>-</td>\n",
       "      <td>-</td>\n",
       "    </tr>\n",
       "    <tr>\n",
       "      <th>2</th>\n",
       "      <td>Neymar</td>\n",
       "      <td>£199.80m</td>\n",
       "      <td>Feb 5, 1992</td>\n",
       "      <td>2013</td>\n",
       "      <td>Copa del Rey</td>\n",
       "      <td>3.0</td>\n",
       "      <td>2.0</td>\n",
       "      <td>1</td>\n",
       "      <td>-</td>\n",
       "      <td>206'</td>\n",
       "      <td>21</td>\n",
       "      <td>1</td>\n",
       "      <td>-</td>\n",
       "      <td>-</td>\n",
       "    </tr>\n",
       "    <tr>\n",
       "      <th>3</th>\n",
       "      <td>Neymar</td>\n",
       "      <td>£199.80m</td>\n",
       "      <td>Feb 5, 1992</td>\n",
       "      <td>2013</td>\n",
       "      <td>LaLiga</td>\n",
       "      <td>26.0</td>\n",
       "      <td>2.31</td>\n",
       "      <td>9</td>\n",
       "      <td>10</td>\n",
       "      <td>1.736'</td>\n",
       "      <td>21</td>\n",
       "      <td>6</td>\n",
       "      <td>-</td>\n",
       "      <td>-</td>\n",
       "    </tr>\n",
       "    <tr>\n",
       "      <th>4</th>\n",
       "      <td>Neymar</td>\n",
       "      <td>£199.80m</td>\n",
       "      <td>Feb 5, 1992</td>\n",
       "      <td>2013</td>\n",
       "      <td>Supercopa</td>\n",
       "      <td>2.0</td>\n",
       "      <td>1.0</td>\n",
       "      <td>1</td>\n",
       "      <td>-</td>\n",
       "      <td>121'</td>\n",
       "      <td>21</td>\n",
       "      <td>1</td>\n",
       "      <td>-</td>\n",
       "      <td>-</td>\n",
       "    </tr>\n",
       "    <tr>\n",
       "      <th>...</th>\n",
       "      <td>...</td>\n",
       "      <td>...</td>\n",
       "      <td>...</td>\n",
       "      <td>...</td>\n",
       "      <td>...</td>\n",
       "      <td>...</td>\n",
       "      <td>...</td>\n",
       "      <td>...</td>\n",
       "      <td>...</td>\n",
       "      <td>...</td>\n",
       "      <td>...</td>\n",
       "      <td>...</td>\n",
       "      <td>...</td>\n",
       "      <td>...</td>\n",
       "    </tr>\n",
       "    <tr>\n",
       "      <th>2912</th>\n",
       "      <td>Roque Santa Cruz</td>\n",
       "      <td>£19.08m</td>\n",
       "      <td>Aug 16, 1981</td>\n",
       "      <td>2003</td>\n",
       "      <td>DFB-Pokal</td>\n",
       "      <td>4</td>\n",
       "      <td>2.25</td>\n",
       "      <td>3</td>\n",
       "      <td>-</td>\n",
       "      <td>283'</td>\n",
       "      <td>22</td>\n",
       "      <td>1</td>\n",
       "      <td>-</td>\n",
       "      <td>-</td>\n",
       "    </tr>\n",
       "    <tr>\n",
       "      <th>2913</th>\n",
       "      <td>Roque Santa Cruz</td>\n",
       "      <td>£19.08m</td>\n",
       "      <td>Aug 16, 1981</td>\n",
       "      <td>2004</td>\n",
       "      <td>Bundesliga</td>\n",
       "      <td>4</td>\n",
       "      <td>1.75</td>\n",
       "      <td>-</td>\n",
       "      <td>1</td>\n",
       "      <td>206'</td>\n",
       "      <td>23</td>\n",
       "      <td>-</td>\n",
       "      <td>-</td>\n",
       "      <td>-</td>\n",
       "    </tr>\n",
       "    <tr>\n",
       "      <th>2914</th>\n",
       "      <td>Roque Santa Cruz</td>\n",
       "      <td>£19.08m</td>\n",
       "      <td>Aug 16, 1981</td>\n",
       "      <td>2004</td>\n",
       "      <td>DFB-Pokal</td>\n",
       "      <td>1</td>\n",
       "      <td>3.00</td>\n",
       "      <td>4</td>\n",
       "      <td>1</td>\n",
       "      <td>90'</td>\n",
       "      <td>23</td>\n",
       "      <td>-</td>\n",
       "      <td>-</td>\n",
       "      <td>-</td>\n",
       "    </tr>\n",
       "    <tr>\n",
       "      <th>2915</th>\n",
       "      <td>Roque Santa Cruz</td>\n",
       "      <td>£19.08m</td>\n",
       "      <td>Aug 16, 1981</td>\n",
       "      <td>2004</td>\n",
       "      <td>Ligapokal</td>\n",
       "      <td>2</td>\n",
       "      <td>3.00</td>\n",
       "      <td>-</td>\n",
       "      <td>1</td>\n",
       "      <td>162'</td>\n",
       "      <td>23</td>\n",
       "      <td>-</td>\n",
       "      <td>-</td>\n",
       "      <td>-</td>\n",
       "    </tr>\n",
       "    <tr>\n",
       "      <th>2916</th>\n",
       "      <td>Roque Santa Cruz</td>\n",
       "      <td>£19.08m</td>\n",
       "      <td>Aug 16, 1981</td>\n",
       "      <td>2004</td>\n",
       "      <td>Regionalliga Süd</td>\n",
       "      <td>5</td>\n",
       "      <td>1.00</td>\n",
       "      <td>2</td>\n",
       "      <td>-</td>\n",
       "      <td>450'</td>\n",
       "      <td>23</td>\n",
       "      <td>-</td>\n",
       "      <td>-</td>\n",
       "      <td>-</td>\n",
       "    </tr>\n",
       "  </tbody>\n",
       "</table>\n",
       "<p>2917 rows × 14 columns</p>\n",
       "</div>"
      ],
      "text/plain": [
       "                  Name     Value           DOB  Season       Competition  \\\n",
       "0               Neymar  £199.80m   Feb 5, 1992    2011    Club World Cup   \n",
       "1               Neymar  £199.80m   Feb 5, 1992    2013  Champions League   \n",
       "2               Neymar  £199.80m   Feb 5, 1992    2013      Copa del Rey   \n",
       "3               Neymar  £199.80m   Feb 5, 1992    2013            LaLiga   \n",
       "4               Neymar  £199.80m   Feb 5, 1992    2013         Supercopa   \n",
       "...                ...       ...           ...     ...               ...   \n",
       "2912  Roque Santa Cruz   £19.08m  Aug 16, 1981    2003         DFB-Pokal   \n",
       "2913  Roque Santa Cruz   £19.08m  Aug 16, 1981    2004        Bundesliga   \n",
       "2914  Roque Santa Cruz   £19.08m  Aug 16, 1981    2004         DFB-Pokal   \n",
       "2915  Roque Santa Cruz   £19.08m  Aug 16, 1981    2004         Ligapokal   \n",
       "2916  Roque Santa Cruz   £19.08m  Aug 16, 1981    2004  Regionalliga Süd   \n",
       "\n",
       "     Club ID#   PPG Goals Assists Minutes  Age Yellow Cards Double Yellow  \\\n",
       "0         2.0   1.5     1       -    180'   19           -             -    \n",
       "1        10.0   2.0     4       5    775'   21           1             -    \n",
       "2         3.0   2.0     1       -    206'   21           1             -    \n",
       "3        26.0  2.31     9      10  1.736'   21           6             -    \n",
       "4         2.0   1.0     1       -    121'   21           1             -    \n",
       "...       ...   ...   ...     ...     ...  ...          ...           ...   \n",
       "2912        4  2.25     3       -    283'   22           1             -    \n",
       "2913        4  1.75     -       1    206'   23           -             -    \n",
       "2914        1  3.00     4       1     90'   23           -             -    \n",
       "2915        2  3.00     -       1    162'   23           -             -    \n",
       "2916        5  1.00     2       -    450'   23           -             -    \n",
       "\n",
       "     Red Card  \n",
       "0           -  \n",
       "1           -  \n",
       "2           -  \n",
       "3           -  \n",
       "4           -  \n",
       "...       ...  \n",
       "2912        -  \n",
       "2913        -  \n",
       "2914        -  \n",
       "2915        -  \n",
       "2916        -  \n",
       "\n",
       "[2917 rows x 14 columns]"
      ]
     },
     "execution_count": 19,
     "metadata": {},
     "output_type": "execute_result"
    }
   ],
   "source": [
    "df"
   ]
  },
  {
   "cell_type": "code",
   "execution_count": null,
   "metadata": {},
   "outputs": [],
   "source": []
  }
 ],
 "metadata": {
  "kernelspec": {
   "display_name": "Python 3",
   "language": "python",
   "name": "python3"
  },
  "language_info": {
   "codemirror_mode": {
    "name": "ipython",
    "version": 3
   },
   "file_extension": ".py",
   "mimetype": "text/x-python",
   "name": "python",
   "nbconvert_exporter": "python",
   "pygments_lexer": "ipython3",
   "version": "3.8.3"
  }
 },
 "nbformat": 4,
 "nbformat_minor": 4
}
