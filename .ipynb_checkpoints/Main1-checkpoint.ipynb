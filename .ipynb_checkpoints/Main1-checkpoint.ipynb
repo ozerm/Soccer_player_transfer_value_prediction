{
 "cells": [
  {
   "cell_type": "code",
   "execution_count": 119,
   "metadata": {},
   "outputs": [],
   "source": [
    "import requests\n",
    "from bs4 import BeautifulSoup\n",
    "import pandas as pd\n",
    "pd.options.display.max_colwidth = 200"
   ]
  },
  {
   "cell_type": "code",
   "execution_count": 120,
   "metadata": {},
   "outputs": [],
   "source": [
    "# We are telling the website that we are just a browser\n",
    "headers = {'User-Agent':\n",
    "'Mozilla/5.0 (X11; Linux x86_64) AppleWebKit/537.36 (KHTML, like Gecko) Chrome/47.0.2526.106 Safari/537.36'}\n",
    "\n",
    "# Creating a variable for our webpage\n",
    "page = \"https://www.transfermarkt.co.uk/transfers/transferrekorde/statistik/top/saison_id/alle/land_id//ausrichtung/Sturm/spielerposition_id//altersklasse//leihe//w_s//plus/0/galerie/0/page/\"\n",
    "#page = \"https://www.transfermarkt.co.uk/transfers/transferrekorde/statistik/top/ajax/yw2/saison_id/alle/land_id//ausrichtung/Sturm/spielerposition_id/14/altersklasse//leihe//w_s//plus/0/galerie/0/page/\""
   ]
  },
  {
   "cell_type": "code",
   "execution_count": 121,
   "metadata": {},
   "outputs": [],
   "source": [
    "pagelist = []\n",
    "for i in range (1, 5):\n",
    "    i_str = str(i)\n",
    "    pagelist.append(page + i_str)\n",
    "    "
   ]
  },
  {
   "cell_type": "code",
   "execution_count": 122,
   "metadata": {},
   "outputs": [
    {
     "name": "stdout",
     "output_type": "stream",
     "text": [
      "['https://www.transfermarkt.co.uk/transfers/transferrekorde/statistik/top/saison_id/alle/land_id//ausrichtung/Sturm/spielerposition_id//altersklasse//leihe//w_s//plus/0/galerie/0/page/1', 'https://www.transfermarkt.co.uk/transfers/transferrekorde/statistik/top/saison_id/alle/land_id//ausrichtung/Sturm/spielerposition_id//altersklasse//leihe//w_s//plus/0/galerie/0/page/2', 'https://www.transfermarkt.co.uk/transfers/transferrekorde/statistik/top/saison_id/alle/land_id//ausrichtung/Sturm/spielerposition_id//altersklasse//leihe//w_s//plus/0/galerie/0/page/3', 'https://www.transfermarkt.co.uk/transfers/transferrekorde/statistik/top/saison_id/alle/land_id//ausrichtung/Sturm/spielerposition_id//altersklasse//leihe//w_s//plus/0/galerie/0/page/4']\n"
     ]
    }
   ],
   "source": [
    "print(pagelist)"
   ]
  },
  {
   "cell_type": "code",
   "execution_count": 123,
   "metadata": {},
   "outputs": [],
   "source": [
    "Players = []\n",
    "Values = []\n",
    "pageTree_list = []\n",
    "pagesoup_list = []\n",
    "for i in pagelist:\n",
    "    pageTree = requests.get(i, headers=headers)\n",
    "    pageTree_list.append(pageTree)\n",
    "    pageSoup = BeautifulSoup(pageTree.content, 'html.parser')\n",
    "    pagesoup_list.append(pageSoup)\n",
    "    Players.append(pageSoup.find_all(\"a\", {\"class\": \"spielprofil_tooltip\"})[:25])\n",
    "    Values.append(pageSoup.find_all(\"td\", {\"class\": \"rechts hauptlink\"})[:25])"
   ]
  },
  {
   "cell_type": "code",
   "execution_count": 124,
   "metadata": {},
   "outputs": [],
   "source": [
    "players = []\n",
    "for sublist in Players:\n",
    "    for item in sublist:\n",
    "        players.append(item)"
   ]
  },
  {
   "cell_type": "code",
   "execution_count": 125,
   "metadata": {},
   "outputs": [],
   "source": [
    "values = []\n",
    "for sublist in Values:\n",
    "    for item in sublist:\n",
    "        values.append(item)"
   ]
  },
  {
   "cell_type": "code",
   "execution_count": 126,
   "metadata": {},
   "outputs": [
    {
     "data": {
      "text/plain": [
       "100"
      ]
     },
     "execution_count": 126,
     "metadata": {},
     "output_type": "execute_result"
    }
   ],
   "source": [
    "len(players)"
   ]
  },
  {
   "cell_type": "code",
   "execution_count": 127,
   "metadata": {},
   "outputs": [
    {
     "data": {
      "text/plain": [
       "100"
      ]
     },
     "execution_count": 127,
     "metadata": {},
     "output_type": "execute_result"
    }
   ],
   "source": [
    "len(values)"
   ]
  },
  {
   "cell_type": "code",
   "execution_count": 128,
   "metadata": {},
   "outputs": [],
   "source": [
    "list_player = []\n",
    "links = []\n",
    "for pageTree in pageTree_list:\n",
    "    soup = BeautifulSoup(pageTree.text, 'lxml')\n",
    "    for link in soup.find_all('a', href=True):\n",
    "        list_player.append((link['href']))\n",
    "\n"
   ]
  },
  {
   "cell_type": "code",
   "execution_count": 129,
   "metadata": {},
   "outputs": [
    {
     "data": {
      "text/plain": [
       "[]"
      ]
     },
     "execution_count": 129,
     "metadata": {},
     "output_type": "execute_result"
    }
   ],
   "source": [
    "links"
   ]
  },
  {
   "cell_type": "code",
   "execution_count": 130,
   "metadata": {},
   "outputs": [],
   "source": [
    "df_player = pd.DataFrame(list_player)\n",
    "df_player.columns = ['links']"
   ]
  },
  {
   "cell_type": "code",
   "execution_count": 131,
   "metadata": {},
   "outputs": [],
   "source": [
    "links = []\n",
    "for i in df_player['links']:\n",
    "    if 'profil/spieler' in i:\n",
    "        links.append(i)"
   ]
  },
  {
   "cell_type": "code",
   "execution_count": 132,
   "metadata": {},
   "outputs": [
    {
     "data": {
      "text/plain": [
       "120"
      ]
     },
     "execution_count": 132,
     "metadata": {},
     "output_type": "execute_result"
    }
   ],
   "source": [
    "len(links)"
   ]
  },
  {
   "cell_type": "code",
   "execution_count": null,
   "metadata": {},
   "outputs": [],
   "source": []
  }
 ],
 "metadata": {
  "kernelspec": {
   "display_name": "Python 3",
   "language": "python",
   "name": "python3"
  },
  "language_info": {
   "codemirror_mode": {
    "name": "ipython",
    "version": 3
   },
   "file_extension": ".py",
   "mimetype": "text/x-python",
   "name": "python",
   "nbconvert_exporter": "python",
   "pygments_lexer": "ipython3",
   "version": "3.8.3"
  }
 },
 "nbformat": 4,
 "nbformat_minor": 4
}
