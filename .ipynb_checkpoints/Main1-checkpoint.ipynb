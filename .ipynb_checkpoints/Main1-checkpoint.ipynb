{
 "cells": [
  {
   "cell_type": "code",
   "execution_count": 1,
   "metadata": {},
   "outputs": [],
   "source": [
    "import requests\n",
    "from bs4 import BeautifulSoup\n",
    "import pandas as pd\n",
    "pd.options.display.max_colwidth = 200"
   ]
  },
  {
   "cell_type": "code",
   "execution_count": 2,
   "metadata": {},
   "outputs": [],
   "source": [
    "# We are telling the website that we are just a browser\n",
    "headers = {'User-Agent':\n",
    "'Mozilla/5.0 (X11; Linux x86_64) AppleWebKit/537.36 (KHTML, like Gecko) Chrome/47.0.2526.106 Safari/537.36'}\n",
    "\n",
    "# Creating a variable for our webpage\n",
    "page = \"https://www.transfermarkt.co.uk/transfers/transferrekorde/statistik/top/saison_id/alle/land_id//ausrichtung/Sturm/spielerposition_id//altersklasse//leihe//w_s//plus/0/galerie/0/page/\"\n",
    "#page = \"https://www.transfermarkt.co.uk/transfers/transferrekorde/statistik/top/ajax/yw2/saison_id/alle/land_id//ausrichtung/Sturm/spielerposition_id/14/altersklasse//leihe//w_s//plus/0/galerie/0/page/\""
   ]
  },
  {
   "cell_type": "code",
   "execution_count": 3,
   "metadata": {},
   "outputs": [],
   "source": [
    "pagelist = []\n",
    "for i in range (1, 5):\n",
    "    i_str = str(i)\n",
    "    pagelist.append(page + i_str)\n",
    "    "
   ]
  },
  {
   "cell_type": "code",
   "execution_count": 4,
   "metadata": {},
   "outputs": [
    {
     "name": "stdout",
     "output_type": "stream",
     "text": [
      "['https://www.transfermarkt.co.uk/transfers/transferrekorde/statistik/top/saison_id/alle/land_id//ausrichtung/Sturm/spielerposition_id//altersklasse//leihe//w_s//plus/0/galerie/0/page/1', 'https://www.transfermarkt.co.uk/transfers/transferrekorde/statistik/top/saison_id/alle/land_id//ausrichtung/Sturm/spielerposition_id//altersklasse//leihe//w_s//plus/0/galerie/0/page/2', 'https://www.transfermarkt.co.uk/transfers/transferrekorde/statistik/top/saison_id/alle/land_id//ausrichtung/Sturm/spielerposition_id//altersklasse//leihe//w_s//plus/0/galerie/0/page/3', 'https://www.transfermarkt.co.uk/transfers/transferrekorde/statistik/top/saison_id/alle/land_id//ausrichtung/Sturm/spielerposition_id//altersklasse//leihe//w_s//plus/0/galerie/0/page/4']\n"
     ]
    }
   ],
   "source": [
    "print(pagelist)"
   ]
  },
  {
   "cell_type": "code",
   "execution_count": 5,
   "metadata": {},
   "outputs": [],
   "source": [
    "Players = []\n",
    "Values = []\n",
    "pageTree_list = []\n",
    "pagesoup_list = []\n",
    "for i in pagelist:\n",
    "    pageTree = requests.get(i, headers=headers)\n",
    "    pageTree_list.append(pageTree)\n",
    "    pageSoup = BeautifulSoup(pageTree.content, 'html.parser')\n",
    "    pagesoup_list.append(pageSoup)\n",
    "    Players.append(pageSoup.find_all(\"a\", {\"class\": \"spielprofil_tooltip\"}))\n",
    "    Values.append(pageSoup.find_all(\"td\", {\"class\": \"rechts hauptlink\"}))"
   ]
  },
  {
   "cell_type": "code",
   "execution_count": 6,
   "metadata": {},
   "outputs": [
    {
     "data": {
      "text/plain": [
       "4"
      ]
     },
     "execution_count": 6,
     "metadata": {},
     "output_type": "execute_result"
    }
   ],
   "source": [
    "len(Players)"
   ]
  },
  {
   "cell_type": "code",
   "execution_count": 7,
   "metadata": {},
   "outputs": [],
   "source": [
    "players = []\n",
    "for sublist in Players:\n",
    "    for item in sublist:\n",
    "        players.append(item)"
   ]
  },
  {
   "cell_type": "code",
   "execution_count": 8,
   "metadata": {},
   "outputs": [
    {
     "data": {
      "text/plain": [
       "120"
      ]
     },
     "execution_count": 8,
     "metadata": {},
     "output_type": "execute_result"
    }
   ],
   "source": [
    "len(players)"
   ]
  },
  {
   "cell_type": "code",
   "execution_count": 9,
   "metadata": {},
   "outputs": [],
   "source": [
    "values = []\n",
    "for sublist in Values:\n",
    "    for item in sublist:\n",
    "        values.append(item)"
   ]
  },
  {
   "cell_type": "code",
   "execution_count": 18,
   "metadata": {},
   "outputs": [
    {
     "data": {
      "text/plain": [
       "100"
      ]
     },
     "execution_count": 18,
     "metadata": {},
     "output_type": "execute_result"
    }
   ],
   "source": [
    "len(values)"
   ]
  },
  {
   "cell_type": "code",
   "execution_count": 11,
   "metadata": {},
   "outputs": [],
   "source": [
    "list_player = []\n",
    "for pageTree in pageTree_list:\n",
    "    soup = BeautifulSoup(pageTree.text, 'lxml')\n",
    "    for link in soup.find_all('a', href=True):\n",
    "        list_player.append(link['href'])"
   ]
  },
  {
   "cell_type": "code",
   "execution_count": 13,
   "metadata": {},
   "outputs": [],
   "source": [
    "df_player = pd.DataFrame(list_player)\n",
    "df_player.columns = ['links']"
   ]
  },
  {
   "cell_type": "code",
   "execution_count": 14,
   "metadata": {},
   "outputs": [],
   "source": [
    "links = []\n",
    "for i in df_player['links']:\n",
    "    if 'profil/spieler' in i:\n",
    "        links.append(i)"
   ]
  },
  {
   "cell_type": "code",
   "execution_count": 19,
   "metadata": {},
   "outputs": [
    {
     "data": {
      "text/plain": [
       "120"
      ]
     },
     "execution_count": 19,
     "metadata": {},
     "output_type": "execute_result"
    }
   ],
   "source": [
    "len(players)"
   ]
  },
  {
   "cell_type": "code",
   "execution_count": 20,
   "metadata": {},
   "outputs": [
    {
     "data": {
      "text/plain": [
       "[<td class=\"rechts hauptlink\"><a href=\"/jumplist/transfers/spieler/68290/transfer_id/1866385\">£199.80m</a></td>,\n",
       " <td class=\"rechts hauptlink\"><a href=\"/jumplist/transfers/spieler/288230/transfer_id/1893861\">£124.20m</a></td>,\n",
       " <td class=\"rechts hauptlink\"><a href=\"/jumplist/transfers/spieler/342229/transfer_id/2101599\">£121.50m</a></td>,\n",
       " <td class=\"rechts hauptlink\"><a href=\"/jumplist/transfers/spieler/462250/transfer_id/2536292\">£113.40m</a></td>,\n",
       " <td class=\"rechts hauptlink\"><a href=\"/jumplist/transfers/spieler/125781/transfer_id/2552096\">£108.00m</a></td>,\n",
       " <td class=\"rechts hauptlink\"><a href=\"/jumplist/transfers/spieler/8198/transfer_id/2168965\">£105.30m</a></td>,\n",
       " <td class=\"rechts hauptlink\"><a href=\"/jumplist/transfers/spieler/50202/transfer_id/2499860\">£103.50m</a></td>,\n",
       " <td class=\"rechts hauptlink\"><a href=\"/jumplist/transfers/spieler/39381/transfer_id/942395\">£90.90m</a></td>,\n",
       " <td class=\"rechts hauptlink\"><a href=\"/jumplist/transfers/spieler/8198/transfer_id/308498\">£84.60m</a></td>,\n",
       " <td class=\"rechts hauptlink\"><a href=\"/jumplist/transfers/spieler/39153/transfer_id/1550131\">£81.00m</a></td>,\n",
       " <td class=\"rechts hauptlink\"><a href=\"/jumplist/transfers/spieler/68290/transfer_id/874846\">£79.38m</a></td>,\n",
       " <td class=\"rechts hauptlink\"><a href=\"/jumplist/transfers/spieler/96341/transfer_id/1830053\">£76.23m</a></td>,\n",
       " <td class=\"rechts hauptlink\"><a href=\"/jumplist/transfers/spieler/44352/transfer_id/1083987\">£73.55m</a></td>,\n",
       " <td class=\"rechts hauptlink\"><a href=\"/jumplist/transfers/spieler/343052/transfer_id/2585250\">£72.00m</a></td>,\n",
       " <td class=\"rechts hauptlink\"><a href=\"/jumplist/transfers/spieler/45320/transfer_id/1119019\">£67.50m</a></td>,\n",
       " <td class=\"rechts hauptlink\"><a href=\"/jumplist/transfers/spieler/205562/transfer_id/2152323\">£63.00m</a></td>,\n",
       " <td class=\"rechts hauptlink\"><a href=\"/jumplist/transfers/spieler/3455/transfer_id/324955\">£62.55m</a></td>,\n",
       " <td class=\"rechts hauptlink\"><a href=\"/jumplist/transfers/spieler/171424/transfer_id/2169271\">£61.02m</a></td>,\n",
       " <td class=\"rechts hauptlink\"><a href=\"/jumplist/transfers/spieler/44779/transfer_id/1920218\">£59.40m</a></td>,\n",
       " <td class=\"rechts hauptlink\"><a href=\"/jumplist/transfers/spieler/128223/transfer_id/1848024\">£59.40m</a></td>,\n",
       " <td class=\"rechts hauptlink\"><a href=\"/jumplist/transfers/spieler/96341/transfer_id/2596904\">£58.50m</a></td>,\n",
       " <td class=\"rechts hauptlink\"><a href=\"/jumplist/transfers/spieler/48280/transfer_id/910223\">£58.05m</a></td>,\n",
       " <td class=\"rechts hauptlink\"><a href=\"/jumplist/transfers/spieler/315779/transfer_id/2354712\">£57.60m</a></td>,\n",
       " <td class=\"rechts hauptlink\"><a href=\"/jumplist/transfers/spieler/58864/transfer_id/2022025\">£57.38m</a></td>,\n",
       " <td class=\"rechts hauptlink\"><a href=\"/jumplist/transfers/spieler/134425/transfer_id/1286730\">£57.33m</a></td>,\n",
       " <td class=\"rechts hauptlink\"><a href=\"/jumplist/transfers/spieler/45320/transfer_id/1312332\">£56.70m</a></td>,\n",
       " <td class=\"rechts hauptlink\"><a href=\"/jumplist/transfers/spieler/257462/transfer_id/2494625\">£54.00m</a></td>,\n",
       " <td class=\"rechts hauptlink\"><a href=\"/jumplist/transfers/spieler/182877/transfer_id/1334155\">£54.00m</a></td>,\n",
       " <td class=\"rechts hauptlink\"><a href=\"/jumplist/transfers/spieler/3446/transfer_id/5480\">£54.00m</a></td>,\n",
       " <td class=\"rechts hauptlink\"><a href=\"/jumplist/transfers/spieler/7767/transfer_id/535052\">£52.65m</a></td>,\n",
       " <td class=\"rechts hauptlink\"><a href=\"/jumplist/transfers/spieler/3410/transfer_id/8309\">£51.13m</a></td>,\n",
       " <td class=\"rechts hauptlink\"><a href=\"/jumplist/transfers/spieler/128223/transfer_id/2541322\">£50.40m</a></td>,\n",
       " <td class=\"rechts hauptlink\"><a href=\"/jumplist/transfers/spieler/80562/transfer_id/1517450\">£50.22m</a></td>,\n",
       " <td class=\"rechts hauptlink\"><a href=\"/jumplist/transfers/spieler/125781/transfer_id/1097172\">£48.60m</a></td>,\n",
       " <td class=\"rechts hauptlink\"><a href=\"/jumplist/transfers/spieler/170527/transfer_id/2935785\">£47.70m</a></td>,\n",
       " <td class=\"rechts hauptlink\"><a href=\"/jumplist/transfers/spieler/93720/transfer_id/1823210\">£47.70m</a></td>,\n",
       " <td class=\"rechts hauptlink\"><a href=\"/jumplist/transfers/spieler/192565/transfer_id/1556750\">£46.80m</a></td>,\n",
       " <td class=\"rechts hauptlink\"><a href=\"/jumplist/transfers/spieler/68863/transfer_id/2915045\">£45.00m</a></td>,\n",
       " <td class=\"rechts hauptlink\"><a href=\"/jumplist/transfers/spieler/181375/transfer_id/2561224\">£45.00m</a></td>,\n",
       " <td class=\"rechts hauptlink\"><a href=\"/jumplist/transfers/spieler/241641/transfer_id/1775755\">£45.00m</a></td>,\n",
       " <td class=\"rechts hauptlink\"><a href=\"/jumplist/transfers/spieler/66515/transfer_id/1429033\">£45.00m</a></td>,\n",
       " <td class=\"rechts hauptlink\"><a href=\"/jumplist/transfers/spieler/50201/transfer_id/1295463\">£41.85m</a></td>,\n",
       " <td class=\"rechts hauptlink\"><a href=\"/jumplist/transfers/spieler/5797/transfer_id/18726\">£41.83m</a></td>,\n",
       " <td class=\"rechts hauptlink\"><a href=\"/jumplist/transfers/spieler/192565/transfer_id/2954050\">£40.50m</a></td>,\n",
       " <td class=\"rechts hauptlink\"><a href=\"/jumplist/transfers/spieler/412363/transfer_id/2134412\">£40.50m</a></td>,\n",
       " <td class=\"rechts hauptlink\"><a href=\"/jumplist/transfers/spieler/371998/transfer_id/1772257\">£40.50m</a></td>,\n",
       " <td class=\"rechts hauptlink\"><a href=\"/jumplist/transfers/spieler/3140/transfer_id/7031\">£40.50m</a></td>,\n",
       " <td class=\"rechts hauptlink\"><a href=\"/jumplist/transfers/spieler/333241/transfer_id/2571479\">£39.60m</a></td>,\n",
       " <td class=\"rechts hauptlink\"><a href=\"/jumplist/transfers/spieler/3522/transfer_id/91282\">£39.49m</a></td>,\n",
       " <td class=\"rechts hauptlink\"><a href=\"/jumplist/transfers/spieler/39152/transfer_id/877072\">£38.70m</a></td>,\n",
       " <td class=\"rechts hauptlink\"><a href=\"/jumplist/transfers/spieler/15511/transfer_id/226583\">£38.70m</a></td>,\n",
       " <td class=\"rechts hauptlink\"><a href=\"/jumplist/transfers/spieler/40433/transfer_id/1083737\">£38.25m</a></td>,\n",
       " <td class=\"rechts hauptlink\"><a href=\"/jumplist/transfers/spieler/242086/transfer_id/2049376\">£37.80m</a></td>,\n",
       " <td class=\"rechts hauptlink\"><a href=\"/jumplist/transfers/spieler/148455/transfer_id/1803721\">£37.80m</a></td>,\n",
       " <td class=\"rechts hauptlink\"><a href=\"/jumplist/transfers/spieler/74418/transfer_id/1427532\">£37.80m</a></td>,\n",
       " <td class=\"rechts hauptlink\"><a href=\"/jumplist/transfers/spieler/200512/transfer_id/1516746\">£37.08m</a></td>,\n",
       " <td class=\"rechts hauptlink\"><a href=\"/jumplist/transfers/spieler/323704/transfer_id/2193192\">£36.90m</a></td>,\n",
       " <td class=\"rechts hauptlink\"><a href=\"/jumplist/transfers/spieler/131789/transfer_id/1267014\">£36.90m</a></td>,\n",
       " <td class=\"rechts hauptlink\"><a href=\"/jumplist/transfers/spieler/48066/transfer_id/535053\">£36.90m</a></td>,\n",
       " <td class=\"rechts hauptlink\"><a href=\"/jumplist/transfers/spieler/217111/transfer_id/2799166\">£36.00m</a></td>,\n",
       " <td class=\"rechts hauptlink\"><a href=\"/jumplist/transfers/spieler/323704/transfer_id/2586557\">£36.00m</a></td>,\n",
       " <td class=\"rechts hauptlink\"><a href=\"/jumplist/transfers/spieler/146854/transfer_id/2605584\">£36.00m</a></td>,\n",
       " <td class=\"rechts hauptlink\"><a href=\"/jumplist/transfers/spieler/75615/transfer_id/1959285\">£36.00m</a></td>,\n",
       " <td class=\"rechts hauptlink\"><a href=\"/jumplist/transfers/spieler/225122/transfer_id/2241354\">£36.00m</a></td>,\n",
       " <td class=\"rechts hauptlink\"><a href=\"/jumplist/transfers/spieler/197300/transfer_id/1851391\">£36.00m</a></td>,\n",
       " <td class=\"rechts hauptlink\"><a href=\"/jumplist/transfers/spieler/127048/transfer_id/2007250\">£36.00m</a></td>,\n",
       " <td class=\"rechts hauptlink\"><a href=\"/jumplist/transfers/spieler/206050/transfer_id/1254235\">£36.00m</a></td>,\n",
       " <td class=\"rechts hauptlink\"><a href=\"/jumplist/transfers/spieler/80562/transfer_id/779812\">£36.00m</a></td>,\n",
       " <td class=\"rechts hauptlink\"><a href=\"/jumplist/transfers/spieler/77100/transfer_id/765235\">£36.00m</a></td>,\n",
       " <td class=\"rechts hauptlink\"><a href=\"/jumplist/transfers/spieler/26399/transfer_id/611890\">£36.00m</a></td>,\n",
       " <td class=\"rechts hauptlink\"><a href=\"/jumplist/transfers/spieler/39152/transfer_id/624714\">£36.00m</a></td>,\n",
       " <td class=\"rechts hauptlink\"><a href=\"/jumplist/transfers/spieler/7980/transfer_id/420175\">£36.00m</a></td>,\n",
       " <td class=\"rechts hauptlink\"><a href=\"/jumplist/transfers/spieler/3513/transfer_id/5546\">£36.00m</a></td>,\n",
       " <td class=\"rechts hauptlink\"><a href=\"/jumplist/transfers/spieler/378710/transfer_id/2193776\">£35.28m</a></td>,\n",
       " <td class=\"rechts hauptlink\"><a href=\"/jumplist/transfers/spieler/179184/transfer_id/1522789\">£35.10m</a></td>,\n",
       " <td class=\"rechts hauptlink\"><a href=\"/jumplist/transfers/spieler/39153/transfer_id/916754\">£35.10m</a></td>,\n",
       " <td class=\"rechts hauptlink\"><a href=\"/jumplist/transfers/spieler/3924/transfer_id/35191\">£34.65m</a></td>,\n",
       " <td class=\"rechts hauptlink\"><a href=\"/jumplist/transfers/spieler/316889/transfer_id/2618892\">£34.20m</a></td>,\n",
       " <td class=\"rechts hauptlink\"><a href=\"/jumplist/transfers/spieler/206040/transfer_id/2443967\">£34.20m</a></td>,\n",
       " <td class=\"rechts hauptlink\"><a href=\"/jumplist/transfers/spieler/159372/transfer_id/2176927\">£34.20m</a></td>,\n",
       " <td class=\"rechts hauptlink\"><a href=\"/jumplist/transfers/spieler/198008/transfer_id/1790981\">£34.20m</a></td>,\n",
       " <td class=\"rechts hauptlink\"><a href=\"/jumplist/transfers/spieler/44779/transfer_id/1077037\">£34.20m</a></td>,\n",
       " <td class=\"rechts hauptlink\"><a href=\"/jumplist/transfers/spieler/65/transfer_id/226591\">£34.20m</a></td>,\n",
       " <td class=\"rechts hauptlink\"><a href=\"/jumplist/transfers/spieler/7767/transfer_id/130697\">£34.20m</a></td>,\n",
       " <td class=\"rechts hauptlink\"><a href=\"/jumplist/transfers/spieler/74418/transfer_id/1269151\">£33.39m</a></td>,\n",
       " <td class=\"rechts hauptlink\"><a href=\"/jumplist/transfers/spieler/28396/transfer_id/520188\">£33.30m</a></td>,\n",
       " <td class=\"rechts hauptlink\"><a href=\"/jumplist/transfers/spieler/5821/transfer_id/11729\">£32.54m</a></td>,\n",
       " <td class=\"rechts hauptlink\"><a href=\"/jumplist/transfers/spieler/5959/transfer_id/18729\">£32.54m</a></td>,\n",
       " <td class=\"rechts hauptlink\"><a href=\"/jumplist/transfers/spieler/67082/transfer_id/1832475\">£32.40m</a></td>,\n",
       " <td class=\"rechts hauptlink\"><a href=\"/jumplist/transfers/spieler/3410/transfer_id/8311\">£32.40m</a></td>,\n",
       " <td class=\"rechts hauptlink\"><a href=\"/jumplist/transfers/spieler/7611/transfer_id/11625\">£32.31m</a></td>,\n",
       " <td class=\"rechts hauptlink\"><a href=\"/jumplist/transfers/spieler/52769/transfer_id/937326\">£31.95m</a></td>,\n",
       " <td class=\"rechts hauptlink\"><a href=\"/jumplist/transfers/spieler/96341/transfer_id/1099487\">£31.82m</a></td>,\n",
       " <td class=\"rechts hauptlink\"><a href=\"/jumplist/transfers/spieler/3226/transfer_id/5214\">£31.50m</a></td>,\n",
       " <td class=\"rechts hauptlink\"><a href=\"/jumplist/transfers/spieler/431755/transfer_id/2742036\">£31.50m</a></td>,\n",
       " <td class=\"rechts hauptlink\"><a href=\"/jumplist/transfers/spieler/188911/transfer_id/2393617\">£31.50m</a></td>,\n",
       " <td class=\"rechts hauptlink\"><a href=\"/jumplist/transfers/spieler/327757/transfer_id/2380204\">£31.50m</a></td>,\n",
       " <td class=\"rechts hauptlink\"><a href=\"/jumplist/transfers/spieler/50202/transfer_id/725165\">£31.50m</a></td>,\n",
       " <td class=\"rechts hauptlink\"><a href=\"/jumplist/transfers/spieler/52769/transfer_id/832527\">£31.50m</a></td>,\n",
       " <td class=\"rechts hauptlink\"><a href=\"/jumplist/transfers/spieler/18922/transfer_id/310931\">£31.50m</a></td>]"
      ]
     },
     "execution_count": 20,
     "metadata": {},
     "output_type": "execute_result"
    }
   ],
   "source": [
    "values"
   ]
  },
  {
   "cell_type": "code",
   "execution_count": null,
   "metadata": {},
   "outputs": [],
   "source": []
  }
 ],
 "metadata": {
  "kernelspec": {
   "display_name": "Python 3",
   "language": "python",
   "name": "python3"
  },
  "language_info": {
   "codemirror_mode": {
    "name": "ipython",
    "version": 3
   },
   "file_extension": ".py",
   "mimetype": "text/x-python",
   "name": "python",
   "nbconvert_exporter": "python",
   "pygments_lexer": "ipython3",
   "version": "3.8.3"
  }
 },
 "nbformat": 4,
 "nbformat_minor": 4
}
