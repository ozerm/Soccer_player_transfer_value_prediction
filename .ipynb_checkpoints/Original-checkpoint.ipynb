{
 "cells": [
  {
   "cell_type": "code",
   "execution_count": 1,
   "metadata": {},
   "outputs": [],
   "source": [
    "import requests\n",
    "from bs4 import BeautifulSoup\n",
    "import pandas as pd\n",
    "pd.options.display.max_colwidth = 200"
   ]
  },
  {
   "cell_type": "code",
   "execution_count": 2,
   "metadata": {},
   "outputs": [],
   "source": [
    "# We are telling the website that we are just a browser\n",
    "headers = {'User-Agent':\n",
    "'Mozilla/5.0 (X11; Linux x86_64) AppleWebKit/537.36 (KHTML, like Gecko) Chrome/47.0.2526.106 Safari/537.36'}\n",
    "\n",
    "# Creating a variable for our webpage\n",
    "page = \"https://www.transfermarkt.co.uk/transfers/transferrekorde/statistik/top/saison_id/alle/land_id//ausrichtung/Sturm/spielerposition_id//altersklasse//leihe//w_s//plus/0/galerie/0/page/1\"\n",
    "#page = \"https://www.transfermarkt.co.uk/transfers/transferrekorde/statistik/top/ajax/yw2/saison_id/alle/land_id//ausrichtung/Sturm/spielerposition_id/14/altersklasse//leihe//w_s//plus/0/galerie/0/page/2\""
   ]
  },
  {
   "cell_type": "code",
   "execution_count": 3,
   "metadata": {},
   "outputs": [],
   "source": [
    "# Using the requests library to grab the code of the page and assign it to ‘pageTree\n",
    "pageTree = requests.get(page, headers=headers)\n"
   ]
  },
  {
   "cell_type": "code",
   "execution_count": 4,
   "metadata": {},
   "outputs": [],
   "source": [
    "# BeautifulSoup module parsing the website code into html\n",
    "pageSoup = BeautifulSoup(pageTree.content, 'html.parser')"
   ]
  },
  {
   "cell_type": "code",
   "execution_count": 5,
   "metadata": {},
   "outputs": [],
   "source": [
    "# Extracting player names\n",
    "Players = pageSoup.find_all(\"a\", {\"class\": \"spielprofil_tooltip\"})\n"
   ]
  },
  {
   "cell_type": "code",
   "execution_count": 6,
   "metadata": {},
   "outputs": [],
   "source": [
    "# Assigning transfer values to Values variable\n",
    "Values = pageSoup.find_all(\"td\", {\"class\": \"rechts hauptlink\"})"
   ]
  },
  {
   "cell_type": "code",
   "execution_count": 7,
   "metadata": {},
   "outputs": [],
   "source": [
    "# Creating tbody var for extracting the players only in the main table\n",
    "tbody = pageSoup.select('tbody')[1]   "
   ]
  },
  {
   "cell_type": "code",
   "execution_count": 8,
   "metadata": {},
   "outputs": [],
   "source": [
    "# Extracting links in tbody var\n",
    "list_player = []\n",
    "for link in tbody.find_all('a', href=True):\n",
    "    list_player.append(link['href'])"
   ]
  },
  {
   "cell_type": "code",
   "execution_count": 10,
   "metadata": {},
   "outputs": [],
   "source": [
    "# Putting all the links into a dataframe\n",
    "df_player = pd.DataFrame(list_player)"
   ]
  },
  {
   "cell_type": "code",
   "execution_count": 11,
   "metadata": {},
   "outputs": [],
   "source": [
    "# Adding col name\n",
    "df_player.columns = ['links']"
   ]
  },
  {
   "cell_type": "code",
   "execution_count": 12,
   "metadata": {},
   "outputs": [],
   "source": [
    "# extracting only those links which are attached to a real player\n",
    "links = []\n",
    "for i in df_player['links']:\n",
    "    if 'profil/spieler' in i:\n",
    "        links.append(i)"
   ]
  },
  {
   "cell_type": "code",
   "execution_count": 13,
   "metadata": {},
   "outputs": [],
   "source": [
    "# Completing the links with adding the domain name\n",
    "full_links = []\n",
    "for i in links:\n",
    "    full_links.append('https://www.transfermarkt.com' + i)"
   ]
  },
  {
   "cell_type": "code",
   "execution_count": 36,
   "metadata": {},
   "outputs": [],
   "source": [
    "# Let's put all these into a dataframe\n",
    "PlayersList = []\n",
    "ValuesList = []\n",
    "\n"
   ]
  },
  {
   "cell_type": "code",
   "execution_count": 37,
   "metadata": {},
   "outputs": [],
   "source": [
    "for i in range(0,25):\n",
    "    PlayersList.append(Players[i].text)\n",
    "    ValuesList.append(Values[i].text)\n"
   ]
  },
  {
   "cell_type": "code",
   "execution_count": 38,
   "metadata": {},
   "outputs": [],
   "source": [
    "df = pd.DataFrame({\"Players\":PlayersList,\"Values\":ValuesList, 'links':full_links})\n"
   ]
  },
  {
   "cell_type": "code",
   "execution_count": 39,
   "metadata": {},
   "outputs": [
    {
     "data": {
      "text/html": [
       "<div>\n",
       "<style scoped>\n",
       "    .dataframe tbody tr th:only-of-type {\n",
       "        vertical-align: middle;\n",
       "    }\n",
       "\n",
       "    .dataframe tbody tr th {\n",
       "        vertical-align: top;\n",
       "    }\n",
       "\n",
       "    .dataframe thead th {\n",
       "        text-align: right;\n",
       "    }\n",
       "</style>\n",
       "<table border=\"1\" class=\"dataframe\">\n",
       "  <thead>\n",
       "    <tr style=\"text-align: right;\">\n",
       "      <th></th>\n",
       "      <th>Players</th>\n",
       "      <th>Values</th>\n",
       "      <th>links</th>\n",
       "    </tr>\n",
       "  </thead>\n",
       "  <tbody>\n",
       "    <tr>\n",
       "      <th>0</th>\n",
       "      <td>Neymar</td>\n",
       "      <td>£199.80m</td>\n",
       "      <td>https://www.transfermarkt.com/neymar/profil/spieler/68290</td>\n",
       "    </tr>\n",
       "    <tr>\n",
       "      <th>1</th>\n",
       "      <td>Ousmane Dembélé</td>\n",
       "      <td>£124.20m</td>\n",
       "      <td>https://www.transfermarkt.com/ousmane-dembele/profil/spieler/288230</td>\n",
       "    </tr>\n",
       "    <tr>\n",
       "      <th>2</th>\n",
       "      <td>Kylian Mbappé</td>\n",
       "      <td>£121.50m</td>\n",
       "      <td>https://www.transfermarkt.com/kylian-mbappe/profil/spieler/342229</td>\n",
       "    </tr>\n",
       "    <tr>\n",
       "      <th>3</th>\n",
       "      <td>João Félix</td>\n",
       "      <td>£113.40m</td>\n",
       "      <td>https://www.transfermarkt.com/joao-felix/profil/spieler/462250</td>\n",
       "    </tr>\n",
       "    <tr>\n",
       "      <th>4</th>\n",
       "      <td>Antoine Griezmann</td>\n",
       "      <td>£108.00m</td>\n",
       "      <td>https://www.transfermarkt.com/antoine-griezmann/profil/spieler/125781</td>\n",
       "    </tr>\n",
       "    <tr>\n",
       "      <th>5</th>\n",
       "      <td>Cristiano Ronaldo</td>\n",
       "      <td>£105.30m</td>\n",
       "      <td>https://www.transfermarkt.com/cristiano-ronaldo/profil/spieler/8198</td>\n",
       "    </tr>\n",
       "    <tr>\n",
       "      <th>6</th>\n",
       "      <td>Eden Hazard</td>\n",
       "      <td>£103.50m</td>\n",
       "      <td>https://www.transfermarkt.com/eden-hazard/profil/spieler/50202</td>\n",
       "    </tr>\n",
       "    <tr>\n",
       "      <th>7</th>\n",
       "      <td>Gareth Bale</td>\n",
       "      <td>£90.90m</td>\n",
       "      <td>https://www.transfermarkt.com/gareth-bale/profil/spieler/39381</td>\n",
       "    </tr>\n",
       "    <tr>\n",
       "      <th>8</th>\n",
       "      <td>Cristiano Ronaldo</td>\n",
       "      <td>£84.60m</td>\n",
       "      <td>https://www.transfermarkt.com/cristiano-ronaldo/profil/spieler/8198</td>\n",
       "    </tr>\n",
       "    <tr>\n",
       "      <th>9</th>\n",
       "      <td>Gonzalo Higuaín</td>\n",
       "      <td>£81.00m</td>\n",
       "      <td>https://www.transfermarkt.com/gonzalo-higuain/profil/spieler/39153</td>\n",
       "    </tr>\n",
       "    <tr>\n",
       "      <th>10</th>\n",
       "      <td>Neymar</td>\n",
       "      <td>£79.38m</td>\n",
       "      <td>https://www.transfermarkt.com/neymar/profil/spieler/68290</td>\n",
       "    </tr>\n",
       "    <tr>\n",
       "      <th>11</th>\n",
       "      <td>Romelu Lukaku</td>\n",
       "      <td>£76.23m</td>\n",
       "      <td>https://www.transfermarkt.com/romelu-lukaku/profil/spieler/96341</td>\n",
       "    </tr>\n",
       "    <tr>\n",
       "      <th>12</th>\n",
       "      <td>Luis Suárez</td>\n",
       "      <td>£73.55m</td>\n",
       "      <td>https://www.transfermarkt.com/luis-suarez/profil/spieler/44352</td>\n",
       "    </tr>\n",
       "    <tr>\n",
       "      <th>13</th>\n",
       "      <td>Nicolas Pépé</td>\n",
       "      <td>£72.00m</td>\n",
       "      <td>https://www.transfermarkt.com/nicolas-pepe/profil/spieler/343052</td>\n",
       "    </tr>\n",
       "    <tr>\n",
       "      <th>14</th>\n",
       "      <td>Ángel Di María</td>\n",
       "      <td>£67.50m</td>\n",
       "      <td>https://www.transfermarkt.com/angel-di-maria/profil/spieler/45320</td>\n",
       "    </tr>\n",
       "    <tr>\n",
       "      <th>15</th>\n",
       "      <td>Romelu Lukaku</td>\n",
       "      <td>£66.60m</td>\n",
       "      <td>https://www.transfermarkt.com/romelu-lukaku/profil/spieler/96341</td>\n",
       "    </tr>\n",
       "    <tr>\n",
       "      <th>16</th>\n",
       "      <td>Thomas Lemar</td>\n",
       "      <td>£63.00m</td>\n",
       "      <td>https://www.transfermarkt.com/thomas-lemar/profil/spieler/205562</td>\n",
       "    </tr>\n",
       "    <tr>\n",
       "      <th>17</th>\n",
       "      <td>Zlatan Ibrahimovic</td>\n",
       "      <td>£62.55m</td>\n",
       "      <td>https://www.transfermarkt.com/zlatan-ibrahimovic/profil/spieler/3455</td>\n",
       "    </tr>\n",
       "    <tr>\n",
       "      <th>18</th>\n",
       "      <td>Riyad Mahrez</td>\n",
       "      <td>£61.02m</td>\n",
       "      <td>https://www.transfermarkt.com/riyad-mahrez/profil/spieler/171424</td>\n",
       "    </tr>\n",
       "    <tr>\n",
       "      <th>19</th>\n",
       "      <td>Diego Costa</td>\n",
       "      <td>£59.40m</td>\n",
       "      <td>https://www.transfermarkt.com/diego-costa/profil/spieler/44779</td>\n",
       "    </tr>\n",
       "    <tr>\n",
       "      <th>20</th>\n",
       "      <td>Álvaro Morata</td>\n",
       "      <td>£59.40m</td>\n",
       "      <td>https://www.transfermarkt.com/alvaro-morata/profil/spieler/128223</td>\n",
       "    </tr>\n",
       "    <tr>\n",
       "      <th>21</th>\n",
       "      <td>Edinson Cavani</td>\n",
       "      <td>£58.05m</td>\n",
       "      <td>https://www.transfermarkt.com/edinson-cavani/profil/spieler/48280</td>\n",
       "    </tr>\n",
       "    <tr>\n",
       "      <th>22</th>\n",
       "      <td>Christian Pulisic</td>\n",
       "      <td>£57.60m</td>\n",
       "      <td>https://www.transfermarkt.com/christian-pulisic/profil/spieler/315779</td>\n",
       "    </tr>\n",
       "    <tr>\n",
       "      <th>23</th>\n",
       "      <td>Pierre-Emerick Aubameyang</td>\n",
       "      <td>£57.38m</td>\n",
       "      <td>https://www.transfermarkt.com/pierre-emerick-aubameyang/profil/spieler/58864</td>\n",
       "    </tr>\n",
       "    <tr>\n",
       "      <th>24</th>\n",
       "      <td>Raheem Sterling</td>\n",
       "      <td>£57.33m</td>\n",
       "      <td>https://www.transfermarkt.com/raheem-sterling/profil/spieler/134425</td>\n",
       "    </tr>\n",
       "  </tbody>\n",
       "</table>\n",
       "</div>"
      ],
      "text/plain": [
       "                      Players    Values  \\\n",
       "0                      Neymar  £199.80m   \n",
       "1             Ousmane Dembélé  £124.20m   \n",
       "2               Kylian Mbappé  £121.50m   \n",
       "3                  João Félix  £113.40m   \n",
       "4           Antoine Griezmann  £108.00m   \n",
       "5           Cristiano Ronaldo  £105.30m   \n",
       "6                 Eden Hazard  £103.50m   \n",
       "7                 Gareth Bale   £90.90m   \n",
       "8           Cristiano Ronaldo   £84.60m   \n",
       "9             Gonzalo Higuaín   £81.00m   \n",
       "10                     Neymar   £79.38m   \n",
       "11              Romelu Lukaku   £76.23m   \n",
       "12                Luis Suárez   £73.55m   \n",
       "13               Nicolas Pépé   £72.00m   \n",
       "14             Ángel Di María   £67.50m   \n",
       "15              Romelu Lukaku   £66.60m   \n",
       "16               Thomas Lemar   £63.00m   \n",
       "17         Zlatan Ibrahimovic   £62.55m   \n",
       "18               Riyad Mahrez   £61.02m   \n",
       "19                Diego Costa   £59.40m   \n",
       "20              Álvaro Morata   £59.40m   \n",
       "21             Edinson Cavani   £58.05m   \n",
       "22          Christian Pulisic   £57.60m   \n",
       "23  Pierre-Emerick Aubameyang   £57.38m   \n",
       "24            Raheem Sterling   £57.33m   \n",
       "\n",
       "                                                                           links  \n",
       "0                      https://www.transfermarkt.com/neymar/profil/spieler/68290  \n",
       "1            https://www.transfermarkt.com/ousmane-dembele/profil/spieler/288230  \n",
       "2              https://www.transfermarkt.com/kylian-mbappe/profil/spieler/342229  \n",
       "3                 https://www.transfermarkt.com/joao-felix/profil/spieler/462250  \n",
       "4          https://www.transfermarkt.com/antoine-griezmann/profil/spieler/125781  \n",
       "5            https://www.transfermarkt.com/cristiano-ronaldo/profil/spieler/8198  \n",
       "6                 https://www.transfermarkt.com/eden-hazard/profil/spieler/50202  \n",
       "7                 https://www.transfermarkt.com/gareth-bale/profil/spieler/39381  \n",
       "8            https://www.transfermarkt.com/cristiano-ronaldo/profil/spieler/8198  \n",
       "9             https://www.transfermarkt.com/gonzalo-higuain/profil/spieler/39153  \n",
       "10                     https://www.transfermarkt.com/neymar/profil/spieler/68290  \n",
       "11              https://www.transfermarkt.com/romelu-lukaku/profil/spieler/96341  \n",
       "12                https://www.transfermarkt.com/luis-suarez/profil/spieler/44352  \n",
       "13              https://www.transfermarkt.com/nicolas-pepe/profil/spieler/343052  \n",
       "14             https://www.transfermarkt.com/angel-di-maria/profil/spieler/45320  \n",
       "15              https://www.transfermarkt.com/romelu-lukaku/profil/spieler/96341  \n",
       "16              https://www.transfermarkt.com/thomas-lemar/profil/spieler/205562  \n",
       "17          https://www.transfermarkt.com/zlatan-ibrahimovic/profil/spieler/3455  \n",
       "18              https://www.transfermarkt.com/riyad-mahrez/profil/spieler/171424  \n",
       "19                https://www.transfermarkt.com/diego-costa/profil/spieler/44779  \n",
       "20             https://www.transfermarkt.com/alvaro-morata/profil/spieler/128223  \n",
       "21             https://www.transfermarkt.com/edinson-cavani/profil/spieler/48280  \n",
       "22         https://www.transfermarkt.com/christian-pulisic/profil/spieler/315779  \n",
       "23  https://www.transfermarkt.com/pierre-emerick-aubameyang/profil/spieler/58864  \n",
       "24           https://www.transfermarkt.com/raheem-sterling/profil/spieler/134425  "
      ]
     },
     "execution_count": 39,
     "metadata": {},
     "output_type": "execute_result"
    }
   ],
   "source": [
    "df"
   ]
  },
  {
   "cell_type": "code",
   "execution_count": null,
   "metadata": {},
   "outputs": [],
   "source": []
  }
 ],
 "metadata": {
  "kernelspec": {
   "display_name": "Python 3",
   "language": "python",
   "name": "python3"
  },
  "language_info": {
   "codemirror_mode": {
    "name": "ipython",
    "version": 3
   },
   "file_extension": ".py",
   "mimetype": "text/x-python",
   "name": "python",
   "nbconvert_exporter": "python",
   "pygments_lexer": "ipython3",
   "version": "3.8.3"
  }
 },
 "nbformat": 4,
 "nbformat_minor": 4
}
