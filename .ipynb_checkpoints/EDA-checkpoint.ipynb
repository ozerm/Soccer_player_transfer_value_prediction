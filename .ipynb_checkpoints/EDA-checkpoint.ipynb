{
 "cells": [
  {
   "cell_type": "code",
   "execution_count": 1,
   "metadata": {},
   "outputs": [],
   "source": [
    "#load the libraries\n",
    "import requests\n",
    "from bs4 import BeautifulSoup\n",
    "import pandas as pd\n",
    "import numpy as np\n",
    "import re\n",
    "import html5lib\n",
    "from pandasql import sqldf\n",
    "import seaborn as sns\n",
    "import matplotlib.pyplot as plt"
   ]
  },
  {
   "cell_type": "code",
   "execution_count": 2,
   "metadata": {},
   "outputs": [],
   "source": [
    "#Load the data\n",
    "df = pd.read_csv('data/players2.csv')"
   ]
  },
  {
   "cell_type": "code",
   "execution_count": 3,
   "metadata": {},
   "outputs": [
    {
     "data": {
      "text/html": [
       "<div>\n",
       "<style scoped>\n",
       "    .dataframe tbody tr th:only-of-type {\n",
       "        vertical-align: middle;\n",
       "    }\n",
       "\n",
       "    .dataframe tbody tr th {\n",
       "        vertical-align: top;\n",
       "    }\n",
       "\n",
       "    .dataframe thead th {\n",
       "        text-align: right;\n",
       "    }\n",
       "</style>\n",
       "<table border=\"1\" class=\"dataframe\">\n",
       "  <thead>\n",
       "    <tr style=\"text-align: right;\">\n",
       "      <th></th>\n",
       "      <th>Name</th>\n",
       "      <th>Value</th>\n",
       "      <th>DOB</th>\n",
       "      <th>Season</th>\n",
       "      <th>Competition</th>\n",
       "      <th>Club ID#</th>\n",
       "      <th>PPG</th>\n",
       "      <th>Goals</th>\n",
       "      <th>Assists</th>\n",
       "      <th>Minutes</th>\n",
       "      <th>Age</th>\n",
       "      <th>Yellow Cards</th>\n",
       "      <th>Double Yellow</th>\n",
       "      <th>Red Card</th>\n",
       "      <th>Goal Contribution</th>\n",
       "    </tr>\n",
       "  </thead>\n",
       "  <tbody>\n",
       "    <tr>\n",
       "      <th>0</th>\n",
       "      <td>Neymar</td>\n",
       "      <td>199.80</td>\n",
       "      <td>Feb 5, 1992</td>\n",
       "      <td>2011</td>\n",
       "      <td>Club World Cup</td>\n",
       "      <td>2.0</td>\n",
       "      <td>1.5</td>\n",
       "      <td>1</td>\n",
       "      <td>0</td>\n",
       "      <td>180'</td>\n",
       "      <td>19</td>\n",
       "      <td>0</td>\n",
       "      <td>0</td>\n",
       "      <td>0</td>\n",
       "      <td>1.0</td>\n",
       "    </tr>\n",
       "    <tr>\n",
       "      <th>1</th>\n",
       "      <td>Neymar</td>\n",
       "      <td>199.80</td>\n",
       "      <td>Feb 5, 1992</td>\n",
       "      <td>2013</td>\n",
       "      <td>Champions League</td>\n",
       "      <td>10.0</td>\n",
       "      <td>2.0</td>\n",
       "      <td>4</td>\n",
       "      <td>5</td>\n",
       "      <td>775'</td>\n",
       "      <td>21</td>\n",
       "      <td>1</td>\n",
       "      <td>0</td>\n",
       "      <td>0</td>\n",
       "      <td>9.0</td>\n",
       "    </tr>\n",
       "    <tr>\n",
       "      <th>2</th>\n",
       "      <td>Neymar</td>\n",
       "      <td>199.80</td>\n",
       "      <td>Feb 5, 1992</td>\n",
       "      <td>2013</td>\n",
       "      <td>Copa del Rey</td>\n",
       "      <td>3.0</td>\n",
       "      <td>2.0</td>\n",
       "      <td>1</td>\n",
       "      <td>0</td>\n",
       "      <td>206'</td>\n",
       "      <td>21</td>\n",
       "      <td>1</td>\n",
       "      <td>0</td>\n",
       "      <td>0</td>\n",
       "      <td>1.0</td>\n",
       "    </tr>\n",
       "    <tr>\n",
       "      <th>3</th>\n",
       "      <td>Neymar</td>\n",
       "      <td>199.80</td>\n",
       "      <td>Feb 5, 1992</td>\n",
       "      <td>2013</td>\n",
       "      <td>LaLiga</td>\n",
       "      <td>26.0</td>\n",
       "      <td>2.31</td>\n",
       "      <td>9</td>\n",
       "      <td>10</td>\n",
       "      <td>1.736'</td>\n",
       "      <td>21</td>\n",
       "      <td>6</td>\n",
       "      <td>0</td>\n",
       "      <td>0</td>\n",
       "      <td>19.0</td>\n",
       "    </tr>\n",
       "    <tr>\n",
       "      <th>4</th>\n",
       "      <td>Neymar</td>\n",
       "      <td>199.80</td>\n",
       "      <td>Feb 5, 1992</td>\n",
       "      <td>2013</td>\n",
       "      <td>Supercopa</td>\n",
       "      <td>2.0</td>\n",
       "      <td>1.0</td>\n",
       "      <td>1</td>\n",
       "      <td>0</td>\n",
       "      <td>121'</td>\n",
       "      <td>21</td>\n",
       "      <td>1</td>\n",
       "      <td>0</td>\n",
       "      <td>0</td>\n",
       "      <td>1.0</td>\n",
       "    </tr>\n",
       "    <tr>\n",
       "      <th>...</th>\n",
       "      <td>...</td>\n",
       "      <td>...</td>\n",
       "      <td>...</td>\n",
       "      <td>...</td>\n",
       "      <td>...</td>\n",
       "      <td>...</td>\n",
       "      <td>...</td>\n",
       "      <td>...</td>\n",
       "      <td>...</td>\n",
       "      <td>...</td>\n",
       "      <td>...</td>\n",
       "      <td>...</td>\n",
       "      <td>...</td>\n",
       "      <td>...</td>\n",
       "      <td>...</td>\n",
       "    </tr>\n",
       "    <tr>\n",
       "      <th>2926</th>\n",
       "      <td>Roque Santa Cruz</td>\n",
       "      <td>19.08</td>\n",
       "      <td>Aug 16, 1981</td>\n",
       "      <td>2001</td>\n",
       "      <td>Bundesliga</td>\n",
       "      <td>22</td>\n",
       "      <td>2.27</td>\n",
       "      <td>5</td>\n",
       "      <td>3</td>\n",
       "      <td>1.317'</td>\n",
       "      <td>20</td>\n",
       "      <td>0</td>\n",
       "      <td>0</td>\n",
       "      <td>0</td>\n",
       "      <td>8.0</td>\n",
       "    </tr>\n",
       "    <tr>\n",
       "      <th>2927</th>\n",
       "      <td>Roque Santa Cruz</td>\n",
       "      <td>19.08</td>\n",
       "      <td>Aug 16, 1981</td>\n",
       "      <td>2001</td>\n",
       "      <td>Champions League</td>\n",
       "      <td>11</td>\n",
       "      <td>2.18</td>\n",
       "      <td>3</td>\n",
       "      <td>1</td>\n",
       "      <td>731'</td>\n",
       "      <td>20</td>\n",
       "      <td>0</td>\n",
       "      <td>0</td>\n",
       "      <td>0</td>\n",
       "      <td>4.0</td>\n",
       "    </tr>\n",
       "    <tr>\n",
       "      <th>2928</th>\n",
       "      <td>Roque Santa Cruz</td>\n",
       "      <td>19.08</td>\n",
       "      <td>Aug 16, 1981</td>\n",
       "      <td>2001</td>\n",
       "      <td>DFB-Pokal</td>\n",
       "      <td>3</td>\n",
       "      <td>2.00</td>\n",
       "      <td>1</td>\n",
       "      <td>1</td>\n",
       "      <td>300'</td>\n",
       "      <td>20</td>\n",
       "      <td>0</td>\n",
       "      <td>0</td>\n",
       "      <td>0</td>\n",
       "      <td>2.0</td>\n",
       "    </tr>\n",
       "    <tr>\n",
       "      <th>2929</th>\n",
       "      <td>Roque Santa Cruz</td>\n",
       "      <td>19.08</td>\n",
       "      <td>Aug 16, 1981</td>\n",
       "      <td>2001</td>\n",
       "      <td>Ligapokal</td>\n",
       "      <td>1</td>\n",
       "      <td>000</td>\n",
       "      <td>0</td>\n",
       "      <td>0</td>\n",
       "      <td>88'</td>\n",
       "      <td>20</td>\n",
       "      <td>0</td>\n",
       "      <td>0</td>\n",
       "      <td>0</td>\n",
       "      <td>0.0</td>\n",
       "    </tr>\n",
       "    <tr>\n",
       "      <th>2930</th>\n",
       "      <td>Roque Santa Cruz</td>\n",
       "      <td>19.08</td>\n",
       "      <td>Aug 16, 1981</td>\n",
       "      <td>2001</td>\n",
       "      <td>UEFA Super Cup</td>\n",
       "      <td>1</td>\n",
       "      <td>000</td>\n",
       "      <td>0</td>\n",
       "      <td>0</td>\n",
       "      <td>18'</td>\n",
       "      <td>20</td>\n",
       "      <td>0</td>\n",
       "      <td>0</td>\n",
       "      <td>0</td>\n",
       "      <td>0.0</td>\n",
       "    </tr>\n",
       "  </tbody>\n",
       "</table>\n",
       "<p>2931 rows × 15 columns</p>\n",
       "</div>"
      ],
      "text/plain": [
       "                  Name   Value           DOB  Season       Competition  \\\n",
       "0               Neymar  199.80   Feb 5, 1992    2011    Club World Cup   \n",
       "1               Neymar  199.80   Feb 5, 1992    2013  Champions League   \n",
       "2               Neymar  199.80   Feb 5, 1992    2013      Copa del Rey   \n",
       "3               Neymar  199.80   Feb 5, 1992    2013            LaLiga   \n",
       "4               Neymar  199.80   Feb 5, 1992    2013         Supercopa   \n",
       "...                ...     ...           ...     ...               ...   \n",
       "2926  Roque Santa Cruz   19.08  Aug 16, 1981    2001        Bundesliga   \n",
       "2927  Roque Santa Cruz   19.08  Aug 16, 1981    2001  Champions League   \n",
       "2928  Roque Santa Cruz   19.08  Aug 16, 1981    2001         DFB-Pokal   \n",
       "2929  Roque Santa Cruz   19.08  Aug 16, 1981    2001         Ligapokal   \n",
       "2930  Roque Santa Cruz   19.08  Aug 16, 1981    2001    UEFA Super Cup   \n",
       "\n",
       "     Club ID#   PPG  Goals  Assists Minutes  Age  Yellow Cards  Double Yellow  \\\n",
       "0         2.0   1.5      1        0    180'   19             0              0   \n",
       "1        10.0   2.0      4        5    775'   21             1              0   \n",
       "2         3.0   2.0      1        0    206'   21             1              0   \n",
       "3        26.0  2.31      9       10  1.736'   21             6              0   \n",
       "4         2.0   1.0      1        0    121'   21             1              0   \n",
       "...       ...   ...    ...      ...     ...  ...           ...            ...   \n",
       "2926       22  2.27      5        3  1.317'   20             0              0   \n",
       "2927       11  2.18      3        1    731'   20             0              0   \n",
       "2928        3  2.00      1        1    300'   20             0              0   \n",
       "2929        1   000      0        0     88'   20             0              0   \n",
       "2930        1   000      0        0     18'   20             0              0   \n",
       "\n",
       "      Red Card  Goal Contribution  \n",
       "0            0                1.0  \n",
       "1            0                9.0  \n",
       "2            0                1.0  \n",
       "3            0               19.0  \n",
       "4            0                1.0  \n",
       "...        ...                ...  \n",
       "2926         0                8.0  \n",
       "2927         0                4.0  \n",
       "2928         0                2.0  \n",
       "2929         0                0.0  \n",
       "2930         0                0.0  \n",
       "\n",
       "[2931 rows x 15 columns]"
      ]
     },
     "execution_count": 3,
     "metadata": {},
     "output_type": "execute_result"
    }
   ],
   "source": [
    "df.head(-10)"
   ]
  },
  {
   "cell_type": "code",
   "execution_count": 4,
   "metadata": {},
   "outputs": [],
   "source": [
    "#for i in\n",
    "#df['Minutes'] = df['Minutes'].apply(lambda x: x.split(\"'\")[0],0)"
   ]
  },
  {
   "cell_type": "code",
   "execution_count": 5,
   "metadata": {},
   "outputs": [],
   "source": [
    "# Replace dashes with zeros\n",
    "\n",
    "#df['Assists'] = df['Assists'].replace('-', 0)\n",
    "#df['Goals'] = df['Goals'].replace('-', 0)\n",
    "#df['Minutes'] = df['Minutes'].replace('-', 0)\n",
    "#df['Yellow Cards'] = df['Yellow Cards'].str.replace('-', '0')\n",
    "#df['Double Yellow'] = df['Double Yellow'].str.replace('-', '0')\n",
    "#df['Red Card'] = df['Red Card'].str.replace('-', '0')"
   ]
  },
  {
   "cell_type": "code",
   "execution_count": 6,
   "metadata": {},
   "outputs": [],
   "source": [
    "#df['Yellow Cards'] = df['Yellow Cards'].str.strip()\n",
    "#df['Double Yellow'] = df['Double Yellow'].str.strip()\n",
    "#df['Red Card'] = df['Red Card'].str.strip()"
   ]
  },
  {
   "cell_type": "code",
   "execution_count": 7,
   "metadata": {},
   "outputs": [],
   "source": [
    "# Covert to numeric \n",
    "#df['Goals'] = pd.to_numeric(df['Goals'])\n",
    "#df['Assists'] = pd.to_numeric(df['Assists'])\n",
    "#df['Yellow Cards'] = pd.to_numeric(df['Yellow Cards'])\n",
    "#df['Double Yellow'] = pd.to_numeric(df['Double Yellow'])\n",
    "#df['Red Card'] = pd.to_numeric(df['Red Card'])"
   ]
  },
  {
   "cell_type": "code",
   "execution_count": 8,
   "metadata": {},
   "outputs": [],
   "source": [
    "# Create a new column goal contribution and assign it the total number of assists and goals\n",
    "\n",
    "#df['Goal Contribution'] = np.nan\n",
    "#for i in range(len(df)):\n",
    "#    df['Goal Contribution'][i] = df['Goals'][i] + df['Assists'][i]"
   ]
  },
  {
   "cell_type": "code",
   "execution_count": 9,
   "metadata": {},
   "outputs": [
    {
     "data": {
      "text/html": [
       "<div>\n",
       "<style scoped>\n",
       "    .dataframe tbody tr th:only-of-type {\n",
       "        vertical-align: middle;\n",
       "    }\n",
       "\n",
       "    .dataframe tbody tr th {\n",
       "        vertical-align: top;\n",
       "    }\n",
       "\n",
       "    .dataframe thead th {\n",
       "        text-align: right;\n",
       "    }\n",
       "</style>\n",
       "<table border=\"1\" class=\"dataframe\">\n",
       "  <thead>\n",
       "    <tr style=\"text-align: right;\">\n",
       "      <th></th>\n",
       "      <th>Name</th>\n",
       "      <th>Value</th>\n",
       "      <th>DOB</th>\n",
       "      <th>Season</th>\n",
       "      <th>Competition</th>\n",
       "      <th>Club ID#</th>\n",
       "      <th>PPG</th>\n",
       "      <th>Goals</th>\n",
       "      <th>Assists</th>\n",
       "      <th>Minutes</th>\n",
       "      <th>Age</th>\n",
       "      <th>Yellow Cards</th>\n",
       "      <th>Double Yellow</th>\n",
       "      <th>Red Card</th>\n",
       "      <th>Goal Contribution</th>\n",
       "    </tr>\n",
       "  </thead>\n",
       "  <tbody>\n",
       "    <tr>\n",
       "      <th>0</th>\n",
       "      <td>Neymar</td>\n",
       "      <td>199.80</td>\n",
       "      <td>Feb 5, 1992</td>\n",
       "      <td>2011</td>\n",
       "      <td>Club World Cup</td>\n",
       "      <td>2.0</td>\n",
       "      <td>1.5</td>\n",
       "      <td>1</td>\n",
       "      <td>0</td>\n",
       "      <td>180'</td>\n",
       "      <td>19</td>\n",
       "      <td>0</td>\n",
       "      <td>0</td>\n",
       "      <td>0</td>\n",
       "      <td>1.0</td>\n",
       "    </tr>\n",
       "    <tr>\n",
       "      <th>1</th>\n",
       "      <td>Neymar</td>\n",
       "      <td>199.80</td>\n",
       "      <td>Feb 5, 1992</td>\n",
       "      <td>2013</td>\n",
       "      <td>Champions League</td>\n",
       "      <td>10.0</td>\n",
       "      <td>2.0</td>\n",
       "      <td>4</td>\n",
       "      <td>5</td>\n",
       "      <td>775'</td>\n",
       "      <td>21</td>\n",
       "      <td>1</td>\n",
       "      <td>0</td>\n",
       "      <td>0</td>\n",
       "      <td>9.0</td>\n",
       "    </tr>\n",
       "    <tr>\n",
       "      <th>2</th>\n",
       "      <td>Neymar</td>\n",
       "      <td>199.80</td>\n",
       "      <td>Feb 5, 1992</td>\n",
       "      <td>2013</td>\n",
       "      <td>Copa del Rey</td>\n",
       "      <td>3.0</td>\n",
       "      <td>2.0</td>\n",
       "      <td>1</td>\n",
       "      <td>0</td>\n",
       "      <td>206'</td>\n",
       "      <td>21</td>\n",
       "      <td>1</td>\n",
       "      <td>0</td>\n",
       "      <td>0</td>\n",
       "      <td>1.0</td>\n",
       "    </tr>\n",
       "    <tr>\n",
       "      <th>3</th>\n",
       "      <td>Neymar</td>\n",
       "      <td>199.80</td>\n",
       "      <td>Feb 5, 1992</td>\n",
       "      <td>2013</td>\n",
       "      <td>LaLiga</td>\n",
       "      <td>26.0</td>\n",
       "      <td>2.31</td>\n",
       "      <td>9</td>\n",
       "      <td>10</td>\n",
       "      <td>1.736'</td>\n",
       "      <td>21</td>\n",
       "      <td>6</td>\n",
       "      <td>0</td>\n",
       "      <td>0</td>\n",
       "      <td>19.0</td>\n",
       "    </tr>\n",
       "    <tr>\n",
       "      <th>4</th>\n",
       "      <td>Neymar</td>\n",
       "      <td>199.80</td>\n",
       "      <td>Feb 5, 1992</td>\n",
       "      <td>2013</td>\n",
       "      <td>Supercopa</td>\n",
       "      <td>2.0</td>\n",
       "      <td>1.0</td>\n",
       "      <td>1</td>\n",
       "      <td>0</td>\n",
       "      <td>121'</td>\n",
       "      <td>21</td>\n",
       "      <td>1</td>\n",
       "      <td>0</td>\n",
       "      <td>0</td>\n",
       "      <td>1.0</td>\n",
       "    </tr>\n",
       "    <tr>\n",
       "      <th>...</th>\n",
       "      <td>...</td>\n",
       "      <td>...</td>\n",
       "      <td>...</td>\n",
       "      <td>...</td>\n",
       "      <td>...</td>\n",
       "      <td>...</td>\n",
       "      <td>...</td>\n",
       "      <td>...</td>\n",
       "      <td>...</td>\n",
       "      <td>...</td>\n",
       "      <td>...</td>\n",
       "      <td>...</td>\n",
       "      <td>...</td>\n",
       "      <td>...</td>\n",
       "      <td>...</td>\n",
       "    </tr>\n",
       "    <tr>\n",
       "      <th>2926</th>\n",
       "      <td>Roque Santa Cruz</td>\n",
       "      <td>19.08</td>\n",
       "      <td>Aug 16, 1981</td>\n",
       "      <td>2001</td>\n",
       "      <td>Bundesliga</td>\n",
       "      <td>22</td>\n",
       "      <td>2.27</td>\n",
       "      <td>5</td>\n",
       "      <td>3</td>\n",
       "      <td>1.317'</td>\n",
       "      <td>20</td>\n",
       "      <td>0</td>\n",
       "      <td>0</td>\n",
       "      <td>0</td>\n",
       "      <td>8.0</td>\n",
       "    </tr>\n",
       "    <tr>\n",
       "      <th>2927</th>\n",
       "      <td>Roque Santa Cruz</td>\n",
       "      <td>19.08</td>\n",
       "      <td>Aug 16, 1981</td>\n",
       "      <td>2001</td>\n",
       "      <td>Champions League</td>\n",
       "      <td>11</td>\n",
       "      <td>2.18</td>\n",
       "      <td>3</td>\n",
       "      <td>1</td>\n",
       "      <td>731'</td>\n",
       "      <td>20</td>\n",
       "      <td>0</td>\n",
       "      <td>0</td>\n",
       "      <td>0</td>\n",
       "      <td>4.0</td>\n",
       "    </tr>\n",
       "    <tr>\n",
       "      <th>2928</th>\n",
       "      <td>Roque Santa Cruz</td>\n",
       "      <td>19.08</td>\n",
       "      <td>Aug 16, 1981</td>\n",
       "      <td>2001</td>\n",
       "      <td>DFB-Pokal</td>\n",
       "      <td>3</td>\n",
       "      <td>2.00</td>\n",
       "      <td>1</td>\n",
       "      <td>1</td>\n",
       "      <td>300'</td>\n",
       "      <td>20</td>\n",
       "      <td>0</td>\n",
       "      <td>0</td>\n",
       "      <td>0</td>\n",
       "      <td>2.0</td>\n",
       "    </tr>\n",
       "    <tr>\n",
       "      <th>2929</th>\n",
       "      <td>Roque Santa Cruz</td>\n",
       "      <td>19.08</td>\n",
       "      <td>Aug 16, 1981</td>\n",
       "      <td>2001</td>\n",
       "      <td>Ligapokal</td>\n",
       "      <td>1</td>\n",
       "      <td>000</td>\n",
       "      <td>0</td>\n",
       "      <td>0</td>\n",
       "      <td>88'</td>\n",
       "      <td>20</td>\n",
       "      <td>0</td>\n",
       "      <td>0</td>\n",
       "      <td>0</td>\n",
       "      <td>0.0</td>\n",
       "    </tr>\n",
       "    <tr>\n",
       "      <th>2930</th>\n",
       "      <td>Roque Santa Cruz</td>\n",
       "      <td>19.08</td>\n",
       "      <td>Aug 16, 1981</td>\n",
       "      <td>2001</td>\n",
       "      <td>UEFA Super Cup</td>\n",
       "      <td>1</td>\n",
       "      <td>000</td>\n",
       "      <td>0</td>\n",
       "      <td>0</td>\n",
       "      <td>18'</td>\n",
       "      <td>20</td>\n",
       "      <td>0</td>\n",
       "      <td>0</td>\n",
       "      <td>0</td>\n",
       "      <td>0.0</td>\n",
       "    </tr>\n",
       "  </tbody>\n",
       "</table>\n",
       "<p>2931 rows × 15 columns</p>\n",
       "</div>"
      ],
      "text/plain": [
       "                  Name   Value           DOB  Season       Competition  \\\n",
       "0               Neymar  199.80   Feb 5, 1992    2011    Club World Cup   \n",
       "1               Neymar  199.80   Feb 5, 1992    2013  Champions League   \n",
       "2               Neymar  199.80   Feb 5, 1992    2013      Copa del Rey   \n",
       "3               Neymar  199.80   Feb 5, 1992    2013            LaLiga   \n",
       "4               Neymar  199.80   Feb 5, 1992    2013         Supercopa   \n",
       "...                ...     ...           ...     ...               ...   \n",
       "2926  Roque Santa Cruz   19.08  Aug 16, 1981    2001        Bundesliga   \n",
       "2927  Roque Santa Cruz   19.08  Aug 16, 1981    2001  Champions League   \n",
       "2928  Roque Santa Cruz   19.08  Aug 16, 1981    2001         DFB-Pokal   \n",
       "2929  Roque Santa Cruz   19.08  Aug 16, 1981    2001         Ligapokal   \n",
       "2930  Roque Santa Cruz   19.08  Aug 16, 1981    2001    UEFA Super Cup   \n",
       "\n",
       "     Club ID#   PPG  Goals  Assists Minutes  Age  Yellow Cards  Double Yellow  \\\n",
       "0         2.0   1.5      1        0    180'   19             0              0   \n",
       "1        10.0   2.0      4        5    775'   21             1              0   \n",
       "2         3.0   2.0      1        0    206'   21             1              0   \n",
       "3        26.0  2.31      9       10  1.736'   21             6              0   \n",
       "4         2.0   1.0      1        0    121'   21             1              0   \n",
       "...       ...   ...    ...      ...     ...  ...           ...            ...   \n",
       "2926       22  2.27      5        3  1.317'   20             0              0   \n",
       "2927       11  2.18      3        1    731'   20             0              0   \n",
       "2928        3  2.00      1        1    300'   20             0              0   \n",
       "2929        1   000      0        0     88'   20             0              0   \n",
       "2930        1   000      0        0     18'   20             0              0   \n",
       "\n",
       "      Red Card  Goal Contribution  \n",
       "0            0                1.0  \n",
       "1            0                9.0  \n",
       "2            0                1.0  \n",
       "3            0               19.0  \n",
       "4            0                1.0  \n",
       "...        ...                ...  \n",
       "2926         0                8.0  \n",
       "2927         0                4.0  \n",
       "2928         0                2.0  \n",
       "2929         0                0.0  \n",
       "2930         0                0.0  \n",
       "\n",
       "[2931 rows x 15 columns]"
      ]
     },
     "execution_count": 9,
     "metadata": {},
     "output_type": "execute_result"
    }
   ],
   "source": [
    "df.head(-10)"
   ]
  },
  {
   "cell_type": "code",
   "execution_count": 10,
   "metadata": {},
   "outputs": [
    {
     "name": "stdout",
     "output_type": "stream",
     "text": [
      "<class 'pandas.core.frame.DataFrame'>\n",
      "RangeIndex: 2941 entries, 0 to 2940\n",
      "Data columns (total 15 columns):\n",
      " #   Column             Non-Null Count  Dtype  \n",
      "---  ------             --------------  -----  \n",
      " 0   Name               2941 non-null   object \n",
      " 1   Value              2941 non-null   float64\n",
      " 2   DOB                2941 non-null   object \n",
      " 3   Season             2941 non-null   int64  \n",
      " 4   Competition        2941 non-null   object \n",
      " 5   Club ID#           2941 non-null   object \n",
      " 6   PPG                2941 non-null   object \n",
      " 7   Goals              2941 non-null   int64  \n",
      " 8   Assists            2941 non-null   int64  \n",
      " 9   Minutes            2941 non-null   object \n",
      " 10  Age                2941 non-null   int64  \n",
      " 11  Yellow Cards       2941 non-null   int64  \n",
      " 12  Double Yellow      2941 non-null   int64  \n",
      " 13  Red Card           2941 non-null   int64  \n",
      " 14  Goal Contribution  2941 non-null   float64\n",
      "dtypes: float64(2), int64(7), object(6)\n",
      "memory usage: 344.8+ KB\n"
     ]
    }
   ],
   "source": [
    "df.info()"
   ]
  },
  {
   "cell_type": "code",
   "execution_count": 11,
   "metadata": {},
   "outputs": [
    {
     "data": {
      "text/plain": [
       "Name                 0\n",
       "Value                0\n",
       "DOB                  0\n",
       "Season               0\n",
       "Competition          0\n",
       "Club ID#             0\n",
       "PPG                  0\n",
       "Goals                0\n",
       "Assists              0\n",
       "Minutes              0\n",
       "Age                  0\n",
       "Yellow Cards         0\n",
       "Double Yellow        0\n",
       "Red Card             0\n",
       "Goal Contribution    0\n",
       "dtype: int64"
      ]
     },
     "execution_count": 11,
     "metadata": {},
     "output_type": "execute_result"
    }
   ],
   "source": [
    "df.isna().sum()"
   ]
  },
  {
   "cell_type": "code",
   "execution_count": 12,
   "metadata": {
    "scrolled": true
   },
   "outputs": [
    {
     "name": "stdout",
     "output_type": "stream",
     "text": [
      "Name                  192\n",
      "Value                  95\n",
      "DOB                   189\n",
      "Season                 32\n",
      "Competition           165\n",
      "Club ID#               89\n",
      "PPG                   223\n",
      "Goals                  36\n",
      "Assists                19\n",
      "Minutes              1288\n",
      "Age                     5\n",
      "Yellow Cards           15\n",
      "Double Yellow           4\n",
      "Red Card                3\n",
      "Goal Contribution      44\n",
      "dtype: int64\n"
     ]
    }
   ],
   "source": [
    "print(df.nunique())"
   ]
  },
  {
   "cell_type": "code",
   "execution_count": 13,
   "metadata": {},
   "outputs": [
    {
     "data": {
      "text/plain": [
       "array(['Club World Cup', 'Champions League', 'Copa del Rey', 'LaLiga',\n",
       "       'Supercopa', 'Libertadores', 'Série A', 'Recopa Sudamericana',\n",
       "       'Coupe de France', 'Coupe de la Ligue', 'Ligue 1',\n",
       "       'Trophée des Champions', 'Bundesliga', 'DFB-Pokal', 'DFL-Supercup',\n",
       "       'Allianz Cup', 'Champions League Qualifying', 'Europa League',\n",
       "       'Liga NOS', 'Taça de Portugal Placard', 'FA Cup', 'League Cup',\n",
       "       'Premier League', 'Community Shield', 'Europa League Qualifying',\n",
       "       'UEFA Super Cup', 'UEFA Cup', 'Torneo Inicial', 'EFL Cup',\n",
       "       'Eredivisie', 'Play-Offs Europa League', 'TOTO KNVB beker',\n",
       "       'Johan Cruijff Schaal', 'Ligue 2', 'Championnat National',\n",
       "       'Beker van Belgie', 'JPL Playoff II', 'Jupiler Pro League',\n",
       "       'Jupiler Pro League playoff Europa League', 'Serie A',\n",
       "       'Amstel Cup', 'KPN Eredivisie', 'Championship', 'U21 PL',\n",
       "       'Liga BBVA', 'LaLiga2', '2ª B - Grupo I', 'Promoción LaLiga2',\n",
       "       'Coppa Italia', 'Supercoppa Italiana', 'Liga Portugal 2', 'UI Cup',\n",
       "       'Supertaça', \"Emperor's Cup\", 'J. League Cup', 'J.League Div.1',\n",
       "       'J.League Div.2', 'Premier League 2', 'KNVB Beker', 'Premier Liga',\n",
       "       'Ukrainian Cup', 'Ukrainian Super Cup', 'Série B', 'JPL Playoff I',\n",
       "       'Belgian Supercup', 'Serie B', 'Intercontinental Cup',\n",
       "       'PTT Telecomp.', \"Cup Winners' Cup\", 'Play-Out Serie A', 'ÖFB-Cup',\n",
       "       'Torneo Final', 'Copa Sudamericana', 'MOL Cup', 'Synot Liga',\n",
       "       'Super League', 'Swiss Cup', 'Schweizer Cup', 'Primera Clausura',\n",
       "       'Fase Final LP II', 'Liga DIMAYOR II', 'Russian Cup',\n",
       "       'Russian Super Cup', 'Bundesliga Playoffs', 'Beloften Eredivisie',\n",
       "       'Beloften nacompetitie', 'Primavera C', 'Serie B Play-off',\n",
       "       'Primavera A', 'Süper Lig', 'Türkiye Kupasi',\n",
       "       'UEFA-Cup Qualifikation', '2ª División',\n",
       "       'CONCACAF Champions League', 'Liga MX Apertura',\n",
       "       'Liga MX Clausura', 'Liguilla Apertura', 'Liguilla Clausura',\n",
       "       'Copa MX Apertura', 'Copa MX Clausura', 'Campeón de Campeones',\n",
       "       'Primera Apertura', 'Oberliga Nordrhein', 'Ligapokal',\n",
       "       'Fortuna Liga', 'Serie C1 - A', '2ª B - Grupo II',\n",
       "       'Promoción LaLiga', 'Vyshcha Liga', 'Taça CTT', 'J1 - 1st Stage',\n",
       "       'J1 - 2nd Stage', 'J3 League', 'J1 League', '1 Liga', 'Polish Cup',\n",
       "       'Ekstraklasa', 'TFF Süper Kupa', 'FNL', 'Regionalliga West',\n",
       "       'Jupiler League', 'First Division', 'EFL Trophy', 'League Two',\n",
       "       'League Two Play-Offs', \"Coupe d'Algerie\", 'Division 1',\n",
       "       'Ligue Professionnelle 1', 'UEFA Youth League', 'Reserve League',\n",
       "       'Regionalliga Süd', 'Campeonato Carioca - Final', 'League One',\n",
       "       'Championship Play-Offs', 'KPN Telecomp.', '2ª B - Grupo III',\n",
       "       'Eerste Divisie', 'Gatorade Cup', 'Oberliga Westfalen',\n",
       "       'Primavera B', 'Slovnaft Cup', 'Primera División', 'Superliga',\n",
       "       'Jelen SuperLiga', 'Primavera Fase Finale', 'Viareggio',\n",
       "       'Liga DIMAYOR I', 'U21 PL Elite Group', 'Torneo Intermedio',\n",
       "       'Playoffs Primera Division', 'Primera División Apertura', '1.HNL',\n",
       "       'Tippeligaen', 'Hrvatski nogometni kup', 'Primavera 1',\n",
       "       'Auf-/Abstiegsrunde NLA/NLB', 'LaLiga 1|2|3',\n",
       "       'Reserve League North', 'Reserve League Play Offs', 'Conference',\n",
       "       'Premiership', 'SFA Cup', 'Scottish Premiership Meisterrunde',\n",
       "       'Transición', 'Play-Offs Promotie/Deg.'], dtype=object)"
      ]
     },
     "execution_count": 13,
     "metadata": {},
     "output_type": "execute_result"
    }
   ],
   "source": [
    "df['Competition'].unique()"
   ]
  },
  {
   "cell_type": "code",
   "execution_count": 14,
   "metadata": {},
   "outputs": [],
   "source": [
    "a = pd.DataFrame(df['Competition'].value_counts().head(40)).reset_index()"
   ]
  },
  {
   "cell_type": "code",
   "execution_count": null,
   "metadata": {},
   "outputs": [],
   "source": []
  },
  {
   "cell_type": "code",
   "execution_count": 15,
   "metadata": {},
   "outputs": [
    {
     "data": {
      "text/html": [
       "<div>\n",
       "<style scoped>\n",
       "    .dataframe tbody tr th:only-of-type {\n",
       "        vertical-align: middle;\n",
       "    }\n",
       "\n",
       "    .dataframe tbody tr th {\n",
       "        vertical-align: top;\n",
       "    }\n",
       "\n",
       "    .dataframe thead th {\n",
       "        text-align: right;\n",
       "    }\n",
       "</style>\n",
       "<table border=\"1\" class=\"dataframe\">\n",
       "  <thead>\n",
       "    <tr style=\"text-align: right;\">\n",
       "      <th></th>\n",
       "      <th>Name</th>\n",
       "      <th>Value</th>\n",
       "      <th>DOB</th>\n",
       "      <th>Season</th>\n",
       "      <th>Competition</th>\n",
       "      <th>Club ID#</th>\n",
       "      <th>PPG</th>\n",
       "      <th>Goals</th>\n",
       "      <th>Assists</th>\n",
       "      <th>Minutes</th>\n",
       "      <th>Age</th>\n",
       "      <th>Yellow Cards</th>\n",
       "      <th>Double Yellow</th>\n",
       "      <th>Red Card</th>\n",
       "      <th>Goal Contribution</th>\n",
       "    </tr>\n",
       "  </thead>\n",
       "  <tbody>\n",
       "  </tbody>\n",
       "</table>\n",
       "</div>"
      ],
      "text/plain": [
       "Empty DataFrame\n",
       "Columns: [Name, Value, DOB, Season, Competition, Club ID#, PPG, Goals, Assists, Minutes, Age, Yellow Cards, Double Yellow, Red Card, Goal Contribution]\n",
       "Index: []"
      ]
     },
     "execution_count": 15,
     "metadata": {},
     "output_type": "execute_result"
    }
   ],
   "source": [
    "duplicateRowsDF = df[df.duplicated()]\n",
    "duplicateRowsDF"
   ]
  },
  {
   "cell_type": "code",
   "execution_count": 16,
   "metadata": {
    "scrolled": false
   },
   "outputs": [
    {
     "data": {
      "image/png": "[encoded data removed]",
      "text/plain": [
       "<Figure size 864x288 with 1 Axes>"
      ]
     },
     "metadata": {
      "needs_background": "light"
     },
     "output_type": "display_data"
    }
   ],
   "source": [
    "legend = ['Goals']\n",
    "df1 = df[['Goals', 'Age']]\n",
    "plt.figure(figsize=(12, 4))\n",
    "plt.hist(df['Goals'], color=['red'], bins=40, ec='black')\n",
    "plt.ylabel('Count')\n",
    "plt.xlabel('Goals Scored')\n",
    "plt.legend(legend)\n",
    "plt.show()"
   ]
  },
  {
   "cell_type": "code",
   "execution_count": 17,
   "metadata": {},
   "outputs": [
    {
     "data": {
      "text/plain": [
       "count    2941.000000\n",
       "mean       36.812401\n",
       "std        24.047874\n",
       "min        19.080000\n",
       "25%        22.500000\n",
       "50%        28.800000\n",
       "75%        38.250000\n",
       "max       199.800000\n",
       "Name: Value, dtype: float64"
      ]
     },
     "execution_count": 17,
     "metadata": {},
     "output_type": "execute_result"
    }
   ],
   "source": [
    "df.Value.describe()"
   ]
  },
  {
   "cell_type": "code",
   "execution_count": 18,
   "metadata": {},
   "outputs": [
    {
     "data": {
      "text/plain": [
       "(2941, 15)"
      ]
     },
     "execution_count": 18,
     "metadata": {},
     "output_type": "execute_result"
    }
   ],
   "source": [
    "df.shape"
   ]
  },
  {
   "cell_type": "code",
   "execution_count": 19,
   "metadata": {
    "scrolled": true
   },
   "outputs": [
    {
     "data": {
      "text/plain": [
       "<matplotlib.axes._subplots.AxesSubplot at 0x22ea2155d00>"
      ]
     },
     "execution_count": 19,
     "metadata": {},
     "output_type": "execute_result"
    },
    {
     "data": {
      "image/png": "[encoded data removed]",
      "text/plain": [
       "<Figure size 720x288 with 1 Axes>"
      ]
     },
     "metadata": {
      "needs_background": "light"
     },
     "output_type": "display_data"
    }
   ],
   "source": [
    "plt.subplots(figsize=(10,4))\n",
    "sns.boxplot(x='Value', data=df)"
   ]
  },
  {
   "cell_type": "code",
   "execution_count": 20,
   "metadata": {
    "scrolled": false
   },
   "outputs": [
    {
     "data": {
      "text/plain": [
       "<matplotlib.axes._subplots.AxesSubplot at 0x22ea21c70a0>"
      ]
     },
     "execution_count": 20,
     "metadata": {},
     "output_type": "execute_result"
    },
    {
     "data": {
      "image/png": "[encoded data removed]",
      "text/plain": [
       "<Figure size 432x576 with 1 Axes>"
      ]
     },
     "metadata": {
      "needs_background": "light"
     },
     "output_type": "display_data"
    }
   ],
   "source": [
    "plt.subplots(figsize=(6,8))\n",
    "sns.boxplot(x='Age', y='Goals', data= df , linewidth=2.5)"
   ]
  },
  {
   "cell_type": "code",
   "execution_count": 21,
   "metadata": {
    "scrolled": false
   },
   "outputs": [
    {
     "data": {
      "text/plain": [
       "<matplotlib.axes._subplots.AxesSubplot at 0x22ea227bca0>"
      ]
     },
     "execution_count": 21,
     "metadata": {},
     "output_type": "execute_result"
    },
    {
     "data": {
      "image/png": "[encoded data removed]",
      "text/plain": [
       "<Figure size 432x576 with 1 Axes>"
      ]
     },
     "metadata": {
      "needs_background": "light"
     },
     "output_type": "display_data"
    }
   ],
   "source": [
    "plt.subplots(figsize=(6,8))\n",
    "sns.boxplot(x='Age', y='Assists', data= df , linewidth=2.5)"
   ]
  },
  {
   "cell_type": "code",
   "execution_count": 22,
   "metadata": {
    "scrolled": false
   },
   "outputs": [
    {
     "data": {
      "text/plain": [
       "<matplotlib.axes._subplots.AxesSubplot at 0x22ea230df70>"
      ]
     },
     "execution_count": 22,
     "metadata": {},
     "output_type": "execute_result"
    },
    {
     "data": {
      "image/png": "[encoded data removed]",
      "text/plain": [
       "<Figure size 432x576 with 1 Axes>"
      ]
     },
     "metadata": {
      "needs_background": "light"
     },
     "output_type": "display_data"
    }
   ],
   "source": [
    "plt.subplots(figsize=(6,8))\n",
    "sns.boxplot(x='Age', y='Goal Contribution', data= df , linewidth=2.5)"
   ]
  },
  {
   "cell_type": "code",
   "execution_count": 23,
   "metadata": {},
   "outputs": [
    {
     "data": {
      "text/plain": [
       "<matplotlib.axes._subplots.AxesSubplot at 0x22ea199dd00>"
      ]
     },
     "execution_count": 23,
     "metadata": {},
     "output_type": "execute_result"
    },
    {
     "data": {
      "image/png": "[encoded data removed]",
      "text/plain": [
       "<Figure size 2160x576 with 1 Axes>"
      ]
     },
     "metadata": {
      "needs_background": "light"
     },
     "output_type": "display_data"
    }
   ],
   "source": [
    "plt.subplots(figsize=(30,8))\n",
    "sns.boxplot(x='Value', y='Goal Contribution', data= df , linewidth=2.5)"
   ]
  },
  {
   "cell_type": "code",
   "execution_count": 24,
   "metadata": {
    "scrolled": true
   },
   "outputs": [
    {
     "data": {
      "image/png": "[encoded data removed]",
      "text/plain": [
       "<Figure size 288x288 with 1 Axes>"
      ]
     },
     "metadata": {
      "needs_background": "light"
     },
     "output_type": "display_data"
    }
   ],
   "source": [
    "legend = ['Age']\n",
    "plt.figure(figsize=(4, 4))\n",
    "plt.hist(df['Age'], color=['blue'], bins=4, ec='black')\n",
    "plt.ylabel('Count')\n",
    "plt.xlabel('Age')\n",
    "plt.legend(legend)\n",
    "plt.show()\n"
   ]
  },
  {
   "cell_type": "code",
   "execution_count": 25,
   "metadata": {},
   "outputs": [
    {
     "data": {
      "text/plain": [
       "count    2941.000000\n",
       "mean       21.096226\n",
       "std         1.380842\n",
       "min        19.000000\n",
       "25%        20.000000\n",
       "50%        21.000000\n",
       "75%        22.000000\n",
       "max        23.000000\n",
       "Name: Age, dtype: float64"
      ]
     },
     "execution_count": 25,
     "metadata": {},
     "output_type": "execute_result"
    }
   ],
   "source": [
    "df.Age.describe()"
   ]
  },
  {
   "cell_type": "code",
   "execution_count": 26,
   "metadata": {},
   "outputs": [
    {
     "data": {
      "text/html": [
       "<div>\n",
       "<style scoped>\n",
       "    .dataframe tbody tr th:only-of-type {\n",
       "        vertical-align: middle;\n",
       "    }\n",
       "\n",
       "    .dataframe tbody tr th {\n",
       "        vertical-align: top;\n",
       "    }\n",
       "\n",
       "    .dataframe thead th {\n",
       "        text-align: right;\n",
       "    }\n",
       "</style>\n",
       "<table border=\"1\" class=\"dataframe\">\n",
       "  <thead>\n",
       "    <tr style=\"text-align: right;\">\n",
       "      <th></th>\n",
       "      <th>Goals</th>\n",
       "      <th>Assists</th>\n",
       "      <th>Age</th>\n",
       "      <th>Value</th>\n",
       "      <th>Goal Contribution</th>\n",
       "      <th>Yellow Cards</th>\n",
       "      <th>Double Yellow</th>\n",
       "      <th>Red Card</th>\n",
       "    </tr>\n",
       "  </thead>\n",
       "  <tbody>\n",
       "    <tr>\n",
       "      <th>Goals</th>\n",
       "      <td>1.000000</td>\n",
       "      <td>0.602870</td>\n",
       "      <td>0.094224</td>\n",
       "      <td>0.077100</td>\n",
       "      <td>0.953663</td>\n",
       "      <td>0.616899</td>\n",
       "      <td>0.188622</td>\n",
       "      <td>0.163821</td>\n",
       "    </tr>\n",
       "    <tr>\n",
       "      <th>Assists</th>\n",
       "      <td>0.602870</td>\n",
       "      <td>1.000000</td>\n",
       "      <td>0.056699</td>\n",
       "      <td>0.147577</td>\n",
       "      <td>0.814986</td>\n",
       "      <td>0.518349</td>\n",
       "      <td>0.131439</td>\n",
       "      <td>0.098616</td>\n",
       "    </tr>\n",
       "    <tr>\n",
       "      <th>Age</th>\n",
       "      <td>0.094224</td>\n",
       "      <td>0.056699</td>\n",
       "      <td>1.000000</td>\n",
       "      <td>-0.041382</td>\n",
       "      <td>0.089818</td>\n",
       "      <td>0.025997</td>\n",
       "      <td>0.032282</td>\n",
       "      <td>-0.007842</td>\n",
       "    </tr>\n",
       "    <tr>\n",
       "      <th>Value</th>\n",
       "      <td>0.077100</td>\n",
       "      <td>0.147577</td>\n",
       "      <td>-0.041382</td>\n",
       "      <td>1.000000</td>\n",
       "      <td>0.111652</td>\n",
       "      <td>0.068594</td>\n",
       "      <td>0.029953</td>\n",
       "      <td>0.009992</td>\n",
       "    </tr>\n",
       "    <tr>\n",
       "      <th>Goal Contribution</th>\n",
       "      <td>0.953663</td>\n",
       "      <td>0.814986</td>\n",
       "      <td>0.089818</td>\n",
       "      <td>0.111652</td>\n",
       "      <td>1.000000</td>\n",
       "      <td>0.643538</td>\n",
       "      <td>0.186566</td>\n",
       "      <td>0.156175</td>\n",
       "    </tr>\n",
       "    <tr>\n",
       "      <th>Yellow Cards</th>\n",
       "      <td>0.616899</td>\n",
       "      <td>0.518349</td>\n",
       "      <td>0.025997</td>\n",
       "      <td>0.068594</td>\n",
       "      <td>0.643538</td>\n",
       "      <td>1.000000</td>\n",
       "      <td>0.227250</td>\n",
       "      <td>0.220125</td>\n",
       "    </tr>\n",
       "    <tr>\n",
       "      <th>Double Yellow</th>\n",
       "      <td>0.188622</td>\n",
       "      <td>0.131439</td>\n",
       "      <td>0.032282</td>\n",
       "      <td>0.029953</td>\n",
       "      <td>0.186566</td>\n",
       "      <td>0.227250</td>\n",
       "      <td>1.000000</td>\n",
       "      <td>0.042561</td>\n",
       "    </tr>\n",
       "    <tr>\n",
       "      <th>Red Card</th>\n",
       "      <td>0.163821</td>\n",
       "      <td>0.098616</td>\n",
       "      <td>-0.007842</td>\n",
       "      <td>0.009992</td>\n",
       "      <td>0.156175</td>\n",
       "      <td>0.220125</td>\n",
       "      <td>0.042561</td>\n",
       "      <td>1.000000</td>\n",
       "    </tr>\n",
       "  </tbody>\n",
       "</table>\n",
       "</div>"
      ],
      "text/plain": [
       "                      Goals   Assists       Age     Value  Goal Contribution  \\\n",
       "Goals              1.000000  0.602870  0.094224  0.077100           0.953663   \n",
       "Assists            0.602870  1.000000  0.056699  0.147577           0.814986   \n",
       "Age                0.094224  0.056699  1.000000 -0.041382           0.089818   \n",
       "Value              0.077100  0.147577 -0.041382  1.000000           0.111652   \n",
       "Goal Contribution  0.953663  0.814986  0.089818  0.111652           1.000000   \n",
       "Yellow Cards       0.616899  0.518349  0.025997  0.068594           0.643538   \n",
       "Double Yellow      0.188622  0.131439  0.032282  0.029953           0.186566   \n",
       "Red Card           0.163821  0.098616 -0.007842  0.009992           0.156175   \n",
       "\n",
       "                   Yellow Cards  Double Yellow  Red Card  \n",
       "Goals                  0.616899       0.188622  0.163821  \n",
       "Assists                0.518349       0.131439  0.098616  \n",
       "Age                    0.025997       0.032282 -0.007842  \n",
       "Value                  0.068594       0.029953  0.009992  \n",
       "Goal Contribution      0.643538       0.186566  0.156175  \n",
       "Yellow Cards           1.000000       0.227250  0.220125  \n",
       "Double Yellow          0.227250       1.000000  0.042561  \n",
       "Red Card               0.220125       0.042561  1.000000  "
      ]
     },
     "execution_count": 26,
     "metadata": {},
     "output_type": "execute_result"
    },
    {
     "data": {
      "image/png": "[encoded data removed]",
      "text/plain": [
       "<Figure size 432x288 with 2 Axes>"
      ]
     },
     "metadata": {
      "needs_background": "light"
     },
     "output_type": "display_data"
    }
   ],
   "source": [
    "data = df[['Goals', 'Assists', 'Age', 'Minutes', 'Value', 'Goal Contribution', 'Yellow Cards', 'Double Yellow', 'Red Card']]\n",
    "corr = data.corr()\n",
    "\n",
    "#sns.heatmap(df.corr(['Goals', 'Assists']), cmap='RdYlGn')\n",
    "\n",
    "sns.heatmap(corr)\n",
    "corr"
   ]
  },
  {
   "cell_type": "code",
   "execution_count": 27,
   "metadata": {},
   "outputs": [
    {
     "data": {
      "text/html": [
       "<div>\n",
       "<style scoped>\n",
       "    .dataframe tbody tr th:only-of-type {\n",
       "        vertical-align: middle;\n",
       "    }\n",
       "\n",
       "    .dataframe tbody tr th {\n",
       "        vertical-align: top;\n",
       "    }\n",
       "\n",
       "    .dataframe thead th {\n",
       "        text-align: right;\n",
       "    }\n",
       "</style>\n",
       "<table border=\"1\" class=\"dataframe\">\n",
       "  <thead>\n",
       "    <tr style=\"text-align: right;\">\n",
       "      <th></th>\n",
       "      <th>Value</th>\n",
       "      <th>Season</th>\n",
       "      <th>Goals</th>\n",
       "      <th>Assists</th>\n",
       "      <th>Age</th>\n",
       "      <th>Yellow Cards</th>\n",
       "      <th>Double Yellow</th>\n",
       "      <th>Red Card</th>\n",
       "      <th>Goal Contribution</th>\n",
       "    </tr>\n",
       "  </thead>\n",
       "  <tbody>\n",
       "    <tr>\n",
       "      <th>count</th>\n",
       "      <td>2941.000000</td>\n",
       "      <td>2941.00000</td>\n",
       "      <td>2941.000000</td>\n",
       "      <td>2941.000000</td>\n",
       "      <td>2941.000000</td>\n",
       "      <td>2941.000000</td>\n",
       "      <td>2941.000000</td>\n",
       "      <td>2941.000000</td>\n",
       "      <td>2941.00000</td>\n",
       "    </tr>\n",
       "    <tr>\n",
       "      <th>mean</th>\n",
       "      <td>36.812401</td>\n",
       "      <td>2010.82761</td>\n",
       "      <td>3.290037</td>\n",
       "      <td>1.540292</td>\n",
       "      <td>21.096226</td>\n",
       "      <td>1.100306</td>\n",
       "      <td>0.028222</td>\n",
       "      <td>0.041142</td>\n",
       "      <td>4.83033</td>\n",
       "    </tr>\n",
       "    <tr>\n",
       "      <th>std</th>\n",
       "      <td>24.047874</td>\n",
       "      <td>6.21463</td>\n",
       "      <td>5.113261</td>\n",
       "      <td>2.654894</td>\n",
       "      <td>1.380842</td>\n",
       "      <td>1.872411</td>\n",
       "      <td>0.175602</td>\n",
       "      <td>0.208674</td>\n",
       "      <td>7.04003</td>\n",
       "    </tr>\n",
       "    <tr>\n",
       "      <th>min</th>\n",
       "      <td>19.080000</td>\n",
       "      <td>1988.00000</td>\n",
       "      <td>0.000000</td>\n",
       "      <td>0.000000</td>\n",
       "      <td>19.000000</td>\n",
       "      <td>0.000000</td>\n",
       "      <td>0.000000</td>\n",
       "      <td>0.000000</td>\n",
       "      <td>0.00000</td>\n",
       "    </tr>\n",
       "    <tr>\n",
       "      <th>25%</th>\n",
       "      <td>22.500000</td>\n",
       "      <td>2007.00000</td>\n",
       "      <td>0.000000</td>\n",
       "      <td>0.000000</td>\n",
       "      <td>20.000000</td>\n",
       "      <td>0.000000</td>\n",
       "      <td>0.000000</td>\n",
       "      <td>0.000000</td>\n",
       "      <td>0.00000</td>\n",
       "    </tr>\n",
       "    <tr>\n",
       "      <th>50%</th>\n",
       "      <td>28.800000</td>\n",
       "      <td>2012.00000</td>\n",
       "      <td>1.000000</td>\n",
       "      <td>0.000000</td>\n",
       "      <td>21.000000</td>\n",
       "      <td>0.000000</td>\n",
       "      <td>0.000000</td>\n",
       "      <td>0.000000</td>\n",
       "      <td>2.00000</td>\n",
       "    </tr>\n",
       "    <tr>\n",
       "      <th>75%</th>\n",
       "      <td>38.250000</td>\n",
       "      <td>2016.00000</td>\n",
       "      <td>4.000000</td>\n",
       "      <td>2.000000</td>\n",
       "      <td>22.000000</td>\n",
       "      <td>1.000000</td>\n",
       "      <td>0.000000</td>\n",
       "      <td>0.000000</td>\n",
       "      <td>6.00000</td>\n",
       "    </tr>\n",
       "    <tr>\n",
       "      <th>max</th>\n",
       "      <td>199.800000</td>\n",
       "      <td>2020.00000</td>\n",
       "      <td>37.000000</td>\n",
       "      <td>18.000000</td>\n",
       "      <td>23.000000</td>\n",
       "      <td>14.000000</td>\n",
       "      <td>3.000000</td>\n",
       "      <td>2.000000</td>\n",
       "      <td>52.00000</td>\n",
       "    </tr>\n",
       "  </tbody>\n",
       "</table>\n",
       "</div>"
      ],
      "text/plain": [
       "             Value      Season        Goals      Assists          Age  \\\n",
       "count  2941.000000  2941.00000  2941.000000  2941.000000  2941.000000   \n",
       "mean     36.812401  2010.82761     3.290037     1.540292    21.096226   \n",
       "std      24.047874     6.21463     5.113261     2.654894     1.380842   \n",
       "min      19.080000  1988.00000     0.000000     0.000000    19.000000   \n",
       "25%      22.500000  2007.00000     0.000000     0.000000    20.000000   \n",
       "50%      28.800000  2012.00000     1.000000     0.000000    21.000000   \n",
       "75%      38.250000  2016.00000     4.000000     2.000000    22.000000   \n",
       "max     199.800000  2020.00000    37.000000    18.000000    23.000000   \n",
       "\n",
       "       Yellow Cards  Double Yellow     Red Card  Goal Contribution  \n",
       "count   2941.000000    2941.000000  2941.000000         2941.00000  \n",
       "mean       1.100306       0.028222     0.041142            4.83033  \n",
       "std        1.872411       0.175602     0.208674            7.04003  \n",
       "min        0.000000       0.000000     0.000000            0.00000  \n",
       "25%        0.000000       0.000000     0.000000            0.00000  \n",
       "50%        0.000000       0.000000     0.000000            2.00000  \n",
       "75%        1.000000       0.000000     0.000000            6.00000  \n",
       "max       14.000000       3.000000     2.000000           52.00000  "
      ]
     },
     "execution_count": 27,
     "metadata": {},
     "output_type": "execute_result"
    }
   ],
   "source": [
    "df.describe()"
   ]
  },
  {
   "cell_type": "code",
   "execution_count": 28,
   "metadata": {},
   "outputs": [
    {
     "data": {
      "text/plain": [
       "Name                 0\n",
       "Value                0\n",
       "DOB                  0\n",
       "Season               0\n",
       "Competition          0\n",
       "Club ID#             0\n",
       "PPG                  0\n",
       "Goals                0\n",
       "Assists              0\n",
       "Minutes              0\n",
       "Age                  0\n",
       "Yellow Cards         0\n",
       "Double Yellow        0\n",
       "Red Card             0\n",
       "Goal Contribution    0\n",
       "dtype: int64"
      ]
     },
     "execution_count": 28,
     "metadata": {},
     "output_type": "execute_result"
    }
   ],
   "source": [
    "df.isna().sum()"
   ]
  },
  {
   "cell_type": "code",
   "execution_count": 29,
   "metadata": {},
   "outputs": [],
   "source": [
    "from sklearn.linear_model import LinearRegression\n",
    "from sklearn.metrics import mean_squared_error\n",
    "from sklearn.model_selection import train_test_split"
   ]
  },
  {
   "cell_type": "code",
   "execution_count": null,
   "metadata": {},
   "outputs": [],
   "source": []
  },
  {
   "cell_type": "code",
   "execution_count": 30,
   "metadata": {},
   "outputs": [],
   "source": [
    "#df = pd.concat([df, pd.get_dummies(df['YEAR'])], axis=1); df\n",
    "\n",
    "#df = pd.concat([df, pd.get_dummies(df['Competition'], drop_first = True)], axis = 1 )"
   ]
  },
  {
   "cell_type": "code",
   "execution_count": 31,
   "metadata": {},
   "outputs": [
    {
     "data": {
      "text/html": [
       "<div>\n",
       "<style scoped>\n",
       "    .dataframe tbody tr th:only-of-type {\n",
       "        vertical-align: middle;\n",
       "    }\n",
       "\n",
       "    .dataframe tbody tr th {\n",
       "        vertical-align: top;\n",
       "    }\n",
       "\n",
       "    .dataframe thead th {\n",
       "        text-align: right;\n",
       "    }\n",
       "</style>\n",
       "<table border=\"1\" class=\"dataframe\">\n",
       "  <thead>\n",
       "    <tr style=\"text-align: right;\">\n",
       "      <th></th>\n",
       "      <th>Name</th>\n",
       "      <th>Value</th>\n",
       "      <th>DOB</th>\n",
       "      <th>Season</th>\n",
       "      <th>Competition</th>\n",
       "      <th>Club ID#</th>\n",
       "      <th>PPG</th>\n",
       "      <th>Goals</th>\n",
       "      <th>Assists</th>\n",
       "      <th>Minutes</th>\n",
       "      <th>Age</th>\n",
       "      <th>Yellow Cards</th>\n",
       "      <th>Double Yellow</th>\n",
       "      <th>Red Card</th>\n",
       "      <th>Goal Contribution</th>\n",
       "    </tr>\n",
       "  </thead>\n",
       "  <tbody>\n",
       "    <tr>\n",
       "      <th>0</th>\n",
       "      <td>Neymar</td>\n",
       "      <td>199.8</td>\n",
       "      <td>Feb 5, 1992</td>\n",
       "      <td>2011</td>\n",
       "      <td>Club World Cup</td>\n",
       "      <td>2.0</td>\n",
       "      <td>1.5</td>\n",
       "      <td>1</td>\n",
       "      <td>0</td>\n",
       "      <td>180'</td>\n",
       "      <td>19</td>\n",
       "      <td>0</td>\n",
       "      <td>0</td>\n",
       "      <td>0</td>\n",
       "      <td>1.0</td>\n",
       "    </tr>\n",
       "    <tr>\n",
       "      <th>1</th>\n",
       "      <td>Neymar</td>\n",
       "      <td>199.8</td>\n",
       "      <td>Feb 5, 1992</td>\n",
       "      <td>2013</td>\n",
       "      <td>Champions League</td>\n",
       "      <td>10.0</td>\n",
       "      <td>2.0</td>\n",
       "      <td>4</td>\n",
       "      <td>5</td>\n",
       "      <td>775'</td>\n",
       "      <td>21</td>\n",
       "      <td>1</td>\n",
       "      <td>0</td>\n",
       "      <td>0</td>\n",
       "      <td>9.0</td>\n",
       "    </tr>\n",
       "    <tr>\n",
       "      <th>2</th>\n",
       "      <td>Neymar</td>\n",
       "      <td>199.8</td>\n",
       "      <td>Feb 5, 1992</td>\n",
       "      <td>2013</td>\n",
       "      <td>Copa del Rey</td>\n",
       "      <td>3.0</td>\n",
       "      <td>2.0</td>\n",
       "      <td>1</td>\n",
       "      <td>0</td>\n",
       "      <td>206'</td>\n",
       "      <td>21</td>\n",
       "      <td>1</td>\n",
       "      <td>0</td>\n",
       "      <td>0</td>\n",
       "      <td>1.0</td>\n",
       "    </tr>\n",
       "    <tr>\n",
       "      <th>3</th>\n",
       "      <td>Neymar</td>\n",
       "      <td>199.8</td>\n",
       "      <td>Feb 5, 1992</td>\n",
       "      <td>2013</td>\n",
       "      <td>LaLiga</td>\n",
       "      <td>26.0</td>\n",
       "      <td>2.31</td>\n",
       "      <td>9</td>\n",
       "      <td>10</td>\n",
       "      <td>1.736'</td>\n",
       "      <td>21</td>\n",
       "      <td>6</td>\n",
       "      <td>0</td>\n",
       "      <td>0</td>\n",
       "      <td>19.0</td>\n",
       "    </tr>\n",
       "    <tr>\n",
       "      <th>4</th>\n",
       "      <td>Neymar</td>\n",
       "      <td>199.8</td>\n",
       "      <td>Feb 5, 1992</td>\n",
       "      <td>2013</td>\n",
       "      <td>Supercopa</td>\n",
       "      <td>2.0</td>\n",
       "      <td>1.0</td>\n",
       "      <td>1</td>\n",
       "      <td>0</td>\n",
       "      <td>121'</td>\n",
       "      <td>21</td>\n",
       "      <td>1</td>\n",
       "      <td>0</td>\n",
       "      <td>0</td>\n",
       "      <td>1.0</td>\n",
       "    </tr>\n",
       "  </tbody>\n",
       "</table>\n",
       "</div>"
      ],
      "text/plain": [
       "     Name  Value          DOB  Season       Competition Club ID#   PPG  Goals  \\\n",
       "0  Neymar  199.8  Feb 5, 1992    2011    Club World Cup      2.0   1.5      1   \n",
       "1  Neymar  199.8  Feb 5, 1992    2013  Champions League     10.0   2.0      4   \n",
       "2  Neymar  199.8  Feb 5, 1992    2013      Copa del Rey      3.0   2.0      1   \n",
       "3  Neymar  199.8  Feb 5, 1992    2013            LaLiga     26.0  2.31      9   \n",
       "4  Neymar  199.8  Feb 5, 1992    2013         Supercopa      2.0   1.0      1   \n",
       "\n",
       "   Assists Minutes  Age  Yellow Cards  Double Yellow  Red Card  \\\n",
       "0        0    180'   19             0              0         0   \n",
       "1        5    775'   21             1              0         0   \n",
       "2        0    206'   21             1              0         0   \n",
       "3       10  1.736'   21             6              0         0   \n",
       "4        0    121'   21             1              0         0   \n",
       "\n",
       "   Goal Contribution  \n",
       "0                1.0  \n",
       "1                9.0  \n",
       "2                1.0  \n",
       "3               19.0  \n",
       "4                1.0  "
      ]
     },
     "execution_count": 31,
     "metadata": {},
     "output_type": "execute_result"
    }
   ],
   "source": [
    "df.head()"
   ]
  },
  {
   "cell_type": "code",
   "execution_count": 32,
   "metadata": {},
   "outputs": [],
   "source": [
    "numerics = ['int16', 'int32', 'int64', 'float16', 'float32', 'float64', 'uint8']\n",
    "\n",
    "newdf = df.select_dtypes(include=numerics)"
   ]
  },
  {
   "cell_type": "code",
   "execution_count": 33,
   "metadata": {
    "scrolled": true
   },
   "outputs": [],
   "source": [
    "newdf = newdf.drop(columns=['Value'])\n"
   ]
  },
  {
   "cell_type": "code",
   "execution_count": 48,
   "metadata": {},
   "outputs": [
    {
     "data": {
      "text/html": [
       "<div>\n",
       "<style scoped>\n",
       "    .dataframe tbody tr th:only-of-type {\n",
       "        vertical-align: middle;\n",
       "    }\n",
       "\n",
       "    .dataframe tbody tr th {\n",
       "        vertical-align: top;\n",
       "    }\n",
       "\n",
       "    .dataframe thead th {\n",
       "        text-align: right;\n",
       "    }\n",
       "</style>\n",
       "<table border=\"1\" class=\"dataframe\">\n",
       "  <thead>\n",
       "    <tr style=\"text-align: right;\">\n",
       "      <th></th>\n",
       "      <th>Season</th>\n",
       "      <th>Goals</th>\n",
       "      <th>Assists</th>\n",
       "      <th>Age</th>\n",
       "      <th>Yellow Cards</th>\n",
       "      <th>Double Yellow</th>\n",
       "      <th>Red Card</th>\n",
       "      <th>Goal Contribution</th>\n",
       "    </tr>\n",
       "  </thead>\n",
       "  <tbody>\n",
       "    <tr>\n",
       "      <th>0</th>\n",
       "      <td>2011</td>\n",
       "      <td>1</td>\n",
       "      <td>0</td>\n",
       "      <td>19</td>\n",
       "      <td>0</td>\n",
       "      <td>0</td>\n",
       "      <td>0</td>\n",
       "      <td>1.0</td>\n",
       "    </tr>\n",
       "    <tr>\n",
       "      <th>1</th>\n",
       "      <td>2013</td>\n",
       "      <td>4</td>\n",
       "      <td>5</td>\n",
       "      <td>21</td>\n",
       "      <td>1</td>\n",
       "      <td>0</td>\n",
       "      <td>0</td>\n",
       "      <td>9.0</td>\n",
       "    </tr>\n",
       "    <tr>\n",
       "      <th>2</th>\n",
       "      <td>2013</td>\n",
       "      <td>1</td>\n",
       "      <td>0</td>\n",
       "      <td>21</td>\n",
       "      <td>1</td>\n",
       "      <td>0</td>\n",
       "      <td>0</td>\n",
       "      <td>1.0</td>\n",
       "    </tr>\n",
       "    <tr>\n",
       "      <th>3</th>\n",
       "      <td>2013</td>\n",
       "      <td>9</td>\n",
       "      <td>10</td>\n",
       "      <td>21</td>\n",
       "      <td>6</td>\n",
       "      <td>0</td>\n",
       "      <td>0</td>\n",
       "      <td>19.0</td>\n",
       "    </tr>\n",
       "    <tr>\n",
       "      <th>4</th>\n",
       "      <td>2013</td>\n",
       "      <td>1</td>\n",
       "      <td>0</td>\n",
       "      <td>21</td>\n",
       "      <td>1</td>\n",
       "      <td>0</td>\n",
       "      <td>0</td>\n",
       "      <td>1.0</td>\n",
       "    </tr>\n",
       "  </tbody>\n",
       "</table>\n",
       "</div>"
      ],
      "text/plain": [
       "   Season  Goals  Assists  Age  Yellow Cards  Double Yellow  Red Card  \\\n",
       "0    2011      1        0   19             0              0         0   \n",
       "1    2013      4        5   21             1              0         0   \n",
       "2    2013      1        0   21             1              0         0   \n",
       "3    2013      9       10   21             6              0         0   \n",
       "4    2013      1        0   21             1              0         0   \n",
       "\n",
       "   Goal Contribution  \n",
       "0                1.0  \n",
       "1                9.0  \n",
       "2                1.0  \n",
       "3               19.0  \n",
       "4                1.0  "
      ]
     },
     "execution_count": 48,
     "metadata": {},
     "output_type": "execute_result"
    }
   ],
   "source": [
    "newdf.head()"
   ]
  },
  {
   "cell_type": "code",
   "execution_count": 50,
   "metadata": {},
   "outputs": [],
   "source": [
    "X = newdf"
   ]
  },
  {
   "cell_type": "code",
   "execution_count": 51,
   "metadata": {},
   "outputs": [
    {
     "data": {
      "text/html": [
       "<div>\n",
       "<style scoped>\n",
       "    .dataframe tbody tr th:only-of-type {\n",
       "        vertical-align: middle;\n",
       "    }\n",
       "\n",
       "    .dataframe tbody tr th {\n",
       "        vertical-align: top;\n",
       "    }\n",
       "\n",
       "    .dataframe thead th {\n",
       "        text-align: right;\n",
       "    }\n",
       "</style>\n",
       "<table border=\"1\" class=\"dataframe\">\n",
       "  <thead>\n",
       "    <tr style=\"text-align: right;\">\n",
       "      <th></th>\n",
       "      <th>Season</th>\n",
       "      <th>Goals</th>\n",
       "      <th>Assists</th>\n",
       "      <th>Age</th>\n",
       "      <th>Yellow Cards</th>\n",
       "      <th>Double Yellow</th>\n",
       "      <th>Red Card</th>\n",
       "      <th>Goal Contribution</th>\n",
       "    </tr>\n",
       "  </thead>\n",
       "  <tbody>\n",
       "    <tr>\n",
       "      <th>0</th>\n",
       "      <td>2011</td>\n",
       "      <td>1</td>\n",
       "      <td>0</td>\n",
       "      <td>19</td>\n",
       "      <td>0</td>\n",
       "      <td>0</td>\n",
       "      <td>0</td>\n",
       "      <td>1.0</td>\n",
       "    </tr>\n",
       "    <tr>\n",
       "      <th>1</th>\n",
       "      <td>2013</td>\n",
       "      <td>4</td>\n",
       "      <td>5</td>\n",
       "      <td>21</td>\n",
       "      <td>1</td>\n",
       "      <td>0</td>\n",
       "      <td>0</td>\n",
       "      <td>9.0</td>\n",
       "    </tr>\n",
       "    <tr>\n",
       "      <th>2</th>\n",
       "      <td>2013</td>\n",
       "      <td>1</td>\n",
       "      <td>0</td>\n",
       "      <td>21</td>\n",
       "      <td>1</td>\n",
       "      <td>0</td>\n",
       "      <td>0</td>\n",
       "      <td>1.0</td>\n",
       "    </tr>\n",
       "    <tr>\n",
       "      <th>3</th>\n",
       "      <td>2013</td>\n",
       "      <td>9</td>\n",
       "      <td>10</td>\n",
       "      <td>21</td>\n",
       "      <td>6</td>\n",
       "      <td>0</td>\n",
       "      <td>0</td>\n",
       "      <td>19.0</td>\n",
       "    </tr>\n",
       "    <tr>\n",
       "      <th>4</th>\n",
       "      <td>2013</td>\n",
       "      <td>1</td>\n",
       "      <td>0</td>\n",
       "      <td>21</td>\n",
       "      <td>1</td>\n",
       "      <td>0</td>\n",
       "      <td>0</td>\n",
       "      <td>1.0</td>\n",
       "    </tr>\n",
       "  </tbody>\n",
       "</table>\n",
       "</div>"
      ],
      "text/plain": [
       "   Season  Goals  Assists  Age  Yellow Cards  Double Yellow  Red Card  \\\n",
       "0    2011      1        0   19             0              0         0   \n",
       "1    2013      4        5   21             1              0         0   \n",
       "2    2013      1        0   21             1              0         0   \n",
       "3    2013      9       10   21             6              0         0   \n",
       "4    2013      1        0   21             1              0         0   \n",
       "\n",
       "   Goal Contribution  \n",
       "0                1.0  \n",
       "1                9.0  \n",
       "2                1.0  \n",
       "3               19.0  \n",
       "4                1.0  "
      ]
     },
     "execution_count": 51,
     "metadata": {},
     "output_type": "execute_result"
    }
   ],
   "source": [
    "X.head()"
   ]
  },
  {
   "cell_type": "code",
   "execution_count": 52,
   "metadata": {},
   "outputs": [
    {
     "data": {
      "text/plain": [
       "False"
      ]
     },
     "execution_count": 52,
     "metadata": {},
     "output_type": "execute_result"
    }
   ],
   "source": [
    "df['Value'].isnull().values.any()"
   ]
  },
  {
   "cell_type": "code",
   "execution_count": 53,
   "metadata": {},
   "outputs": [],
   "source": [
    "y = df['Value']"
   ]
  },
  {
   "cell_type": "code",
   "execution_count": 64,
   "metadata": {},
   "outputs": [],
   "source": [
    "# Create training and test sets\n",
    "X_train, X_test, y_train, y_test = train_test_split(X, y, test_size = .3)\n",
    "\n"
   ]
  },
  {
   "cell_type": "code",
   "execution_count": 65,
   "metadata": {},
   "outputs": [],
   "source": [
    "# Create the regressor: reg_all\n",
    "reg_all = LinearRegression()\n",
    "\n"
   ]
  },
  {
   "cell_type": "code",
   "execution_count": 66,
   "metadata": {},
   "outputs": [
    {
     "data": {
      "text/plain": [
       "LinearRegression()"
      ]
     },
     "execution_count": 66,
     "metadata": {},
     "output_type": "execute_result"
    }
   ],
   "source": [
    "# Fit the regressor to the training data\n",
    "reg_all.fit(X_train, y_train)\n",
    "\n",
    "\n"
   ]
  },
  {
   "cell_type": "code",
   "execution_count": 67,
   "metadata": {},
   "outputs": [],
   "source": [
    "# Predict on the test data: y_pred\n",
    "y_pred = reg_all.predict(X_test)\n",
    "\n",
    "\n",
    "\n"
   ]
  },
  {
   "cell_type": "code",
   "execution_count": 68,
   "metadata": {},
   "outputs": [
    {
     "name": "stdout",
     "output_type": "stream",
     "text": [
      "R^2: 0.020916595818431527\n",
      "Root Mean Squared Error: 22.808590493089156\n"
     ]
    }
   ],
   "source": [
    "# Compute and print R^2 and RMSE\n",
    "print(\"R^2: {}\".format(reg_all.score(X_test, y_test)))\n",
    "rmse = np.sqrt(mean_squared_error(y_test, y_pred))\n",
    "print(\"Root Mean Squared Error: {}\".format(rmse))\n",
    "\n"
   ]
  },
  {
   "cell_type": "code",
   "execution_count": 43,
   "metadata": {},
   "outputs": [],
   "source": [
    "#X.drop(X.columns[X.apply(lambda i: X[i].sum() < 14)], axis=1)\n",
    "\n",
    "#plot predicition ypred by ytest scatter\n",
    "#plot residuals\n",
    "#hyperparameter tuning - Lasso & ridge\n",
    "#R squared\n",
    "#xg boost / gradient boosting"
   ]
  },
  {
   "cell_type": "code",
   "execution_count": 44,
   "metadata": {},
   "outputs": [
    {
     "data": {
      "image/png": "[encoded data removed]",
      "text/plain": [
       "<Figure size 432x288 with 1 Axes>"
      ]
     },
     "metadata": {
      "needs_background": "light"
     },
     "output_type": "display_data"
    }
   ],
   "source": [
    "plt.scatter(y_pred, y_test)\n",
    "plt.show()"
   ]
  },
  {
   "cell_type": "code",
   "execution_count": 45,
   "metadata": {},
   "outputs": [
    {
     "data": {
      "image/png": "[encoded data removed]",
      "text/plain": [
       "<Figure size 432x288 with 1 Axes>"
      ]
     },
     "metadata": {
      "needs_background": "light"
     },
     "output_type": "display_data"
    }
   ],
   "source": [
    "\n",
    "residuals = (y_test - y_pred)\n",
    "\n",
    "plt.scatter(y_pred, residuals)\n",
    "plt.show()"
   ]
  },
  {
   "cell_type": "code",
   "execution_count": 46,
   "metadata": {},
   "outputs": [
    {
     "data": {
      "text/plain": [
       "<matplotlib.axes._subplots.AxesSubplot at 0x22ea2a8a820>"
      ]
     },
     "execution_count": 46,
     "metadata": {},
     "output_type": "execute_result"
    },
    {
     "data": {
      "image/png": "[encoded data removed]",
      "text/plain": [
       "<Figure size 432x288 with 1 Axes>"
      ]
     },
     "metadata": {
      "needs_background": "light"
     },
     "output_type": "display_data"
    }
   ],
   "source": [
    "sns.residplot(x=y_pred, y=y_test, color=\"g\")"
   ]
  },
  {
   "cell_type": "code",
   "execution_count": 49,
   "metadata": {},
   "outputs": [
    {
     "data": {
      "text/plain": [
       "(array([124., 539., 129.,  52.,   8.,  21.,   9.,   0.,   0.,   1.]),\n",
       " array([-35.30536085, -16.04089778,   3.2235653 ,  22.48802837,\n",
       "         41.75249144,  61.01695452,  80.28141759,  99.54588066,\n",
       "        118.81034373, 138.07480681, 157.33926988]),\n",
       " <a list of 10 Patch objects>)"
      ]
     },
     "execution_count": 49,
     "metadata": {},
     "output_type": "execute_result"
    },
    {
     "data": {
      "image/png": "[encoded data removed]",
      "text/plain": [
       "<Figure size 432x288 with 1 Axes>"
      ]
     },
     "metadata": {
      "needs_background": "light"
     },
     "output_type": "display_data"
    }
   ],
   "source": [
    "plt.hist(residuals)"
   ]
  },
  {
   "cell_type": "code",
   "execution_count": null,
   "metadata": {},
   "outputs": [],
   "source": []
  }
 ],
 "metadata": {
  "kernelspec": {
   "display_name": "Python 3",
   "language": "python",
   "name": "python3"
  },
  "language_info": {
   "codemirror_mode": {
    "name": "ipython",
    "version": 3
   },
   "file_extension": ".py",
   "mimetype": "text/x-python",
   "name": "python",
   "nbconvert_exporter": "python",
   "pygments_lexer": "ipython3",
   "version": "3.8.3"
  }
 },
 "nbformat": 4,
 "nbformat_minor": 4
}
