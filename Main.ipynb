{
 "cells": [
  {
   "cell_type": "code",
   "execution_count": null,
   "metadata": {},
   "outputs": [],
   "source": [
    "import requests\n",
    "from bs4 import BeautifulSoup\n",
    "import pandas as pd\n",
    "pd.options.display.max_colwidth = 200"
   ]
  },
  {
   "cell_type": "code",
   "execution_count": null,
   "metadata": {},
   "outputs": [],
   "source": [
    "# We are telling the website that we are just a browser\n",
    "headers = {'User-Agent':\n",
    "'Mozilla/5.0 (X11; Linux x86_64) AppleWebKit/537.36 (KHTML, like Gecko) Chrome/47.0.2526.106 Safari/537.36'}\n",
    "\n",
    "# Creating a variable for our webpage\n",
    "page = \"https://www.transfermarkt.co.uk/transfers/transferrekorde/statistik/top/saison_id/alle/land_id//ausrichtung/Sturm/spielerposition_id//altersklasse//leihe//w_s//plus/0/galerie/0/page/\"\n",
    "#page = \"https://www.transfermarkt.co.uk/transfers/transferrekorde/statistik/top/ajax/yw2/saison_id/alle/land_id//ausrichtung/Sturm/spielerposition_id/14/altersklasse//leihe//w_s//plus/0/galerie/0/page/\""
   ]
  },
  {
   "cell_type": "code",
   "execution_count": null,
   "metadata": {},
   "outputs": [],
   "source": [
    "pagelist = []\n",
    "for i in range (1, 5):\n",
    "    i_str = str(i)\n",
    "    pagelist.append(page + i_str)\n",
    "    "
   ]
  },
  {
   "cell_type": "code",
   "execution_count": null,
   "metadata": {},
   "outputs": [],
   "source": [
    "print(pagelist)"
   ]
  },
  {
   "cell_type": "code",
   "execution_count": null,
   "metadata": {},
   "outputs": [],
   "source": [
    "Players = []\n",
    "Values = []\n",
    "for i in pagelist:\n",
    "    pageTree = requests.get(i, headers=headers)\n",
    "    pageSoup = BeautifulSoup(pageTree.content, 'html.parser')\n",
    "    Players.append(pageSoup.find_all(\"a\", {\"class\": \"spielprofil_tooltip\"}))\n",
    "    Values.append(pageSoup.find_all(\"td\", {\"class\": \"rechts hauptlink\"}))"
   ]
  },
  {
   "cell_type": "code",
   "execution_count": null,
   "metadata": {},
   "outputs": [],
   "source": [
    "players = []\n",
    "for sublist in Players:\n",
    "    for item in sublist:\n",
    "        players.append(item)"
   ]
  },
  {
   "cell_type": "code",
   "execution_count": null,
   "metadata": {},
   "outputs": [],
   "source": [
    "values = []\n",
    "for sublist in Values:\n",
    "    for item in sublist:\n",
    "        values.append(item)"
   ]
  },
  {
   "cell_type": "code",
   "execution_count": null,
   "metadata": {},
   "outputs": [],
   "source": [
    "soup = BeautifulSoup(pageTree.text, 'lxml')\n",
    "list_player = []\n",
    "for link in soup.find_all('a', href=True):\n",
    "    list_player.append(link['href'])"
   ]
  },
  {
   "cell_type": "code",
   "execution_count": null,
   "metadata": {},
   "outputs": [],
   "source": [
    "df_player = pd.DataFrame(list_player)\n",
    "df_player.columns = ['links']"
   ]
  },
  {
   "cell_type": "code",
   "execution_count": null,
   "metadata": {},
   "outputs": [],
   "source": [
    "links = []\n",
    "for i in df_player['links']:\n",
    "    if 'profil/spieler' in i:\n",
    "        links.append(i)"
   ]
  },
  {
   "cell_type": "code",
   "execution_count": null,
   "metadata": {},
   "outputs": [],
   "source": [
    "links"
   ]
  },
  {
   "cell_type": "code",
   "execution_count": null,
   "metadata": {},
   "outputs": [],
   "source": [
    "df_player['links']"
   ]
  },
  {
   "cell_type": "code",
   "execution_count": null,
   "metadata": {},
   "outputs": [],
   "source": [
    "players"
   ]
  },
  {
   "cell_type": "code",
   "execution_count": null,
   "metadata": {},
   "outputs": [],
   "source": []
  }
 ],
 "metadata": {
  "kernelspec": {
   "display_name": "Python 3",
   "language": "python",
   "name": "python3"
  },
  "language_info": {
   "codemirror_mode": {
    "name": "ipython",
    "version": 3
   },
   "file_extension": ".py",
   "mimetype": "text/x-python",
   "name": "python",
   "nbconvert_exporter": "python",
   "pygments_lexer": "ipython3",
   "version": "3.8.3"
  }
 },
 "nbformat": 4,
 "nbformat_minor": 4
}
