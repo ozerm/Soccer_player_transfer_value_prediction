{
 "cells": [
  {
   "cell_type": "code",
   "execution_count": 1,
   "metadata": {},
   "outputs": [],
   "source": [
    "import requests\n",
    "from bs4 import BeautifulSoup\n",
    "import pandas as pd\n",
    "pd.options.display.max_colwidth = 200"
   ]
  },
  {
   "cell_type": "code",
   "execution_count": 2,
   "metadata": {},
   "outputs": [],
   "source": [
    "# We are telling the website that we are just a browser\n",
    "headers = {'User-Agent':\n",
    "'Mozilla/5.0 (X11; Linux x86_64) AppleWebKit/537.36 (KHTML, like Gecko) Chrome/47.0.2526.106 Safari/537.36'}\n",
    "\n",
    "# Creating a variable for our webpage\n",
    "page = \"https://www.transfermarkt.co.uk/transfers/transferrekorde/statistik/top/plus/0/galerie/0?saison_id=alle&land_id=&ausrichtung=Sturm&spielerposition_id=14&altersklasse=&leihe=&w_s=\"\n"
   ]
  },
  {
   "cell_type": "code",
   "execution_count": 3,
   "metadata": {},
   "outputs": [],
   "source": [
    "# Using the requests library to grab the code of the page and assign it to ‘pageTree\n",
    "pageTree = requests.get(page, headers=headers)\n"
   ]
  },
  {
   "cell_type": "code",
   "execution_count": 4,
   "metadata": {},
   "outputs": [],
   "source": [
    "# BeautifulSoup module parsing the website code into html\n",
    "pageSoup = BeautifulSoup(pageTree.content, 'html.parser')"
   ]
  },
  {
   "cell_type": "code",
   "execution_count": 5,
   "metadata": {},
   "outputs": [],
   "source": [
    "# Extracting player names\n",
    "Players = pageSoup.find_all(\"a\", {\"class\": \"spielprofil_tooltip\"})\n"
   ]
  },
  {
   "cell_type": "code",
   "execution_count": 6,
   "metadata": {},
   "outputs": [],
   "source": [
    "# Assigning transfer values to Values variable\n",
    "Values = pageSoup.find_all(\"td\", {\"class\": \"rechts hauptlink\"})"
   ]
  },
  {
   "cell_type": "code",
   "execution_count": 7,
   "metadata": {},
   "outputs": [],
   "source": [
    "soup = BeautifulSoup(pageTree.text, 'lxml')\n",
    "list_player = []\n",
    "for link in soup.find_all('a', href=True):\n",
    "    list_player.append(link['href'])"
   ]
  },
  {
   "cell_type": "code",
   "execution_count": 8,
   "metadata": {},
   "outputs": [],
   "source": [
    "df_player = pd.DataFrame(list_player)"
   ]
  },
  {
   "cell_type": "code",
   "execution_count": 9,
   "metadata": {},
   "outputs": [],
   "source": [
    "df_player.columns = ['links']"
   ]
  },
  {
   "cell_type": "code",
   "execution_count": 10,
   "metadata": {},
   "outputs": [],
   "source": [
    "links = []\n",
    "for i in df_player['links']:\n",
    "    if 'profil/spieler' in i:\n",
    "        links.append(i)"
   ]
  },
  {
   "cell_type": "code",
   "execution_count": 11,
   "metadata": {},
   "outputs": [],
   "source": [
    "links = links[:25]"
   ]
  },
  {
   "cell_type": "code",
   "execution_count": 12,
   "metadata": {},
   "outputs": [],
   "source": [
    "full_links = []\n",
    "for i in links:\n",
    "    full_links.append('https://www.transfermarkt.com' + i)"
   ]
  },
  {
   "cell_type": "code",
   "execution_count": 13,
   "metadata": {},
   "outputs": [],
   "source": [
    "# Let's put all these into a dataframe\n",
    "PlayersList = []\n",
    "ValuesList = []\n",
    "\n"
   ]
  },
  {
   "cell_type": "code",
   "execution_count": 14,
   "metadata": {},
   "outputs": [],
   "source": [
    "for i in range(0,25):\n",
    "    PlayersList.append(Players[i].text)\n",
    "    ValuesList.append(Values[i].text)\n"
   ]
  },
  {
   "cell_type": "code",
   "execution_count": 15,
   "metadata": {},
   "outputs": [],
   "source": [
    "\n",
    "df = pd.DataFrame({\"Players\":PlayersList,\"Values\":ValuesList, 'links':full_links})\n"
   ]
  },
  {
   "cell_type": "code",
   "execution_count": 16,
   "metadata": {},
   "outputs": [
    {
     "data": {
      "text/html": [
       "<div>\n",
       "<style scoped>\n",
       "    .dataframe tbody tr th:only-of-type {\n",
       "        vertical-align: middle;\n",
       "    }\n",
       "\n",
       "    .dataframe tbody tr th {\n",
       "        vertical-align: top;\n",
       "    }\n",
       "\n",
       "    .dataframe thead th {\n",
       "        text-align: right;\n",
       "    }\n",
       "</style>\n",
       "<table border=\"1\" class=\"dataframe\">\n",
       "  <thead>\n",
       "    <tr style=\"text-align: right;\">\n",
       "      <th></th>\n",
       "      <th>Players</th>\n",
       "      <th>Values</th>\n",
       "      <th>links</th>\n",
       "    </tr>\n",
       "  </thead>\n",
       "  <tbody>\n",
       "    <tr>\n",
       "      <th>0</th>\n",
       "      <td>Kylian Mbappé</td>\n",
       "      <td>£130.50m</td>\n",
       "      <td>https://www.transfermarkt.com/kylian-mbappe/profil/spieler/342229</td>\n",
       "    </tr>\n",
       "    <tr>\n",
       "      <th>1</th>\n",
       "      <td>Gonzalo Higuaín</td>\n",
       "      <td>£81.00m</td>\n",
       "      <td>https://www.transfermarkt.com/gonzalo-higuain/profil/spieler/39153</td>\n",
       "    </tr>\n",
       "    <tr>\n",
       "      <th>2</th>\n",
       "      <td>Romelu Lukaku</td>\n",
       "      <td>£76.23m</td>\n",
       "      <td>https://www.transfermarkt.com/romelu-lukaku/profil/spieler/96341</td>\n",
       "    </tr>\n",
       "    <tr>\n",
       "      <th>3</th>\n",
       "      <td>Luis Suárez</td>\n",
       "      <td>£73.55m</td>\n",
       "      <td>https://www.transfermarkt.com/luis-suarez/profil/spieler/44352</td>\n",
       "    </tr>\n",
       "    <tr>\n",
       "      <th>4</th>\n",
       "      <td>Zlatan Ibrahimovic</td>\n",
       "      <td>£62.55m</td>\n",
       "      <td>https://www.transfermarkt.com/zlatan-ibrahimovic/profil/spieler/3455</td>\n",
       "    </tr>\n",
       "    <tr>\n",
       "      <th>5</th>\n",
       "      <td>Diego Costa</td>\n",
       "      <td>£59.40m</td>\n",
       "      <td>https://www.transfermarkt.com/diego-costa/profil/spieler/44779</td>\n",
       "    </tr>\n",
       "    <tr>\n",
       "      <th>6</th>\n",
       "      <td>Álvaro Morata</td>\n",
       "      <td>£59.40m</td>\n",
       "      <td>https://www.transfermarkt.com/alvaro-morata/profil/spieler/128223</td>\n",
       "    </tr>\n",
       "    <tr>\n",
       "      <th>7</th>\n",
       "      <td>Romelu Lukaku</td>\n",
       "      <td>£58.50m</td>\n",
       "      <td>https://www.transfermarkt.com/romelu-lukaku/profil/spieler/96341</td>\n",
       "    </tr>\n",
       "    <tr>\n",
       "      <th>8</th>\n",
       "      <td>Edinson Cavani</td>\n",
       "      <td>£58.05m</td>\n",
       "      <td>https://www.transfermarkt.com/edinson-cavani/profil/spieler/48280</td>\n",
       "    </tr>\n",
       "    <tr>\n",
       "      <th>9</th>\n",
       "      <td>Pierre-Emerick Aubameyang</td>\n",
       "      <td>£57.38m</td>\n",
       "      <td>https://www.transfermarkt.com/pierre-emerick-aubameyang/profil/spieler/58864</td>\n",
       "    </tr>\n",
       "    <tr>\n",
       "      <th>10</th>\n",
       "      <td>Luka Jovic</td>\n",
       "      <td>£54.00m</td>\n",
       "      <td>https://www.transfermarkt.com/luka-jovic/profil/spieler/257462</td>\n",
       "    </tr>\n",
       "    <tr>\n",
       "      <th>11</th>\n",
       "      <td>Anthony Martial</td>\n",
       "      <td>£54.00m</td>\n",
       "      <td>https://www.transfermarkt.com/anthony-martial/profil/spieler/182877</td>\n",
       "    </tr>\n",
       "    <tr>\n",
       "      <th>12</th>\n",
       "      <td>Fernando Torres</td>\n",
       "      <td>£52.65m</td>\n",
       "      <td>https://www.transfermarkt.com/fernando-torres/profil/spieler/7767</td>\n",
       "    </tr>\n",
       "    <tr>\n",
       "      <th>13</th>\n",
       "      <td>Hernán Crespo</td>\n",
       "      <td>£51.13m</td>\n",
       "      <td>https://www.transfermarkt.com/hernan-crespo/profil/spieler/3410</td>\n",
       "    </tr>\n",
       "    <tr>\n",
       "      <th>14</th>\n",
       "      <td>Álvaro Morata</td>\n",
       "      <td>£50.40m</td>\n",
       "      <td>https://www.transfermarkt.com/alvaro-morata/profil/spieler/128223</td>\n",
       "    </tr>\n",
       "    <tr>\n",
       "      <th>15</th>\n",
       "      <td>Timo Werner</td>\n",
       "      <td>£47.70m</td>\n",
       "      <td>https://www.transfermarkt.com/timo-werner/profil/spieler/170527</td>\n",
       "    </tr>\n",
       "    <tr>\n",
       "      <th>16</th>\n",
       "      <td>Alexandre Lacazette</td>\n",
       "      <td>£47.70m</td>\n",
       "      <td>https://www.transfermarkt.com/alexandre-lacazette/profil/spieler/93720</td>\n",
       "    </tr>\n",
       "    <tr>\n",
       "      <th>17</th>\n",
       "      <td>Mauro Icardi</td>\n",
       "      <td>£45.00m</td>\n",
       "      <td>https://www.transfermarkt.com/mauro-icardi/profil/spieler/68863</td>\n",
       "    </tr>\n",
       "    <tr>\n",
       "      <th>18</th>\n",
       "      <td>Sébastien Haller</td>\n",
       "      <td>£45.00m</td>\n",
       "      <td>https://www.transfermarkt.com/sebastien-haller/profil/spieler/181375</td>\n",
       "    </tr>\n",
       "    <tr>\n",
       "      <th>19</th>\n",
       "      <td>Christian Benteke</td>\n",
       "      <td>£41.85m</td>\n",
       "      <td>https://www.transfermarkt.com/christian-benteke/profil/spieler/50201</td>\n",
       "    </tr>\n",
       "    <tr>\n",
       "      <th>20</th>\n",
       "      <td>Christian Vieri</td>\n",
       "      <td>£41.83m</td>\n",
       "      <td>https://www.transfermarkt.com/christian-vieri/profil/spieler/5797</td>\n",
       "    </tr>\n",
       "    <tr>\n",
       "      <th>21</th>\n",
       "      <td>Ronaldo</td>\n",
       "      <td>£40.50m</td>\n",
       "      <td>https://www.transfermarkt.com/ronaldo/profil/spieler/3140</td>\n",
       "    </tr>\n",
       "    <tr>\n",
       "      <th>22</th>\n",
       "      <td>Joelinton</td>\n",
       "      <td>£39.60m</td>\n",
       "      <td>https://www.transfermarkt.com/joelinton/profil/spieler/333241</td>\n",
       "    </tr>\n",
       "    <tr>\n",
       "      <th>23</th>\n",
       "      <td>Andriy Shevchenko</td>\n",
       "      <td>£39.49m</td>\n",
       "      <td>https://www.transfermarkt.com/andriy-shevchenko/profil/spieler/3522</td>\n",
       "    </tr>\n",
       "    <tr>\n",
       "      <th>24</th>\n",
       "      <td>Falcao</td>\n",
       "      <td>£38.70m</td>\n",
       "      <td>https://www.transfermarkt.com/falcao/profil/spieler/39152</td>\n",
       "    </tr>\n",
       "  </tbody>\n",
       "</table>\n",
       "</div>"
      ],
      "text/plain": [
       "                      Players    Values  \\\n",
       "0               Kylian Mbappé  £130.50m   \n",
       "1             Gonzalo Higuaín   £81.00m   \n",
       "2               Romelu Lukaku   £76.23m   \n",
       "3                 Luis Suárez   £73.55m   \n",
       "4          Zlatan Ibrahimovic   £62.55m   \n",
       "5                 Diego Costa   £59.40m   \n",
       "6               Álvaro Morata   £59.40m   \n",
       "7               Romelu Lukaku   £58.50m   \n",
       "8              Edinson Cavani   £58.05m   \n",
       "9   Pierre-Emerick Aubameyang   £57.38m   \n",
       "10                 Luka Jovic   £54.00m   \n",
       "11            Anthony Martial   £54.00m   \n",
       "12            Fernando Torres   £52.65m   \n",
       "13              Hernán Crespo   £51.13m   \n",
       "14              Álvaro Morata   £50.40m   \n",
       "15                Timo Werner   £47.70m   \n",
       "16        Alexandre Lacazette   £47.70m   \n",
       "17               Mauro Icardi   £45.00m   \n",
       "18           Sébastien Haller   £45.00m   \n",
       "19          Christian Benteke   £41.85m   \n",
       "20            Christian Vieri   £41.83m   \n",
       "21                    Ronaldo   £40.50m   \n",
       "22                  Joelinton   £39.60m   \n",
       "23          Andriy Shevchenko   £39.49m   \n",
       "24                     Falcao   £38.70m   \n",
       "\n",
       "                                                                           links  \n",
       "0              https://www.transfermarkt.com/kylian-mbappe/profil/spieler/342229  \n",
       "1             https://www.transfermarkt.com/gonzalo-higuain/profil/spieler/39153  \n",
       "2               https://www.transfermarkt.com/romelu-lukaku/profil/spieler/96341  \n",
       "3                 https://www.transfermarkt.com/luis-suarez/profil/spieler/44352  \n",
       "4           https://www.transfermarkt.com/zlatan-ibrahimovic/profil/spieler/3455  \n",
       "5                 https://www.transfermarkt.com/diego-costa/profil/spieler/44779  \n",
       "6              https://www.transfermarkt.com/alvaro-morata/profil/spieler/128223  \n",
       "7               https://www.transfermarkt.com/romelu-lukaku/profil/spieler/96341  \n",
       "8              https://www.transfermarkt.com/edinson-cavani/profil/spieler/48280  \n",
       "9   https://www.transfermarkt.com/pierre-emerick-aubameyang/profil/spieler/58864  \n",
       "10                https://www.transfermarkt.com/luka-jovic/profil/spieler/257462  \n",
       "11           https://www.transfermarkt.com/anthony-martial/profil/spieler/182877  \n",
       "12             https://www.transfermarkt.com/fernando-torres/profil/spieler/7767  \n",
       "13               https://www.transfermarkt.com/hernan-crespo/profil/spieler/3410  \n",
       "14             https://www.transfermarkt.com/alvaro-morata/profil/spieler/128223  \n",
       "15               https://www.transfermarkt.com/timo-werner/profil/spieler/170527  \n",
       "16        https://www.transfermarkt.com/alexandre-lacazette/profil/spieler/93720  \n",
       "17               https://www.transfermarkt.com/mauro-icardi/profil/spieler/68863  \n",
       "18          https://www.transfermarkt.com/sebastien-haller/profil/spieler/181375  \n",
       "19          https://www.transfermarkt.com/christian-benteke/profil/spieler/50201  \n",
       "20             https://www.transfermarkt.com/christian-vieri/profil/spieler/5797  \n",
       "21                     https://www.transfermarkt.com/ronaldo/profil/spieler/3140  \n",
       "22                 https://www.transfermarkt.com/joelinton/profil/spieler/333241  \n",
       "23           https://www.transfermarkt.com/andriy-shevchenko/profil/spieler/3522  \n",
       "24                     https://www.transfermarkt.com/falcao/profil/spieler/39152  "
      ]
     },
     "execution_count": 16,
     "metadata": {},
     "output_type": "execute_result"
    }
   ],
   "source": [
    "df"
   ]
  },
  {
   "cell_type": "code",
   "execution_count": null,
   "metadata": {},
   "outputs": [],
   "source": []
  }
 ],
 "metadata": {
  "kernelspec": {
   "display_name": "Python 3",
   "language": "python",
   "name": "python3"
  },
  "language_info": {
   "codemirror_mode": {
    "name": "ipython",
    "version": 3
   },
   "file_extension": ".py",
   "mimetype": "text/x-python",
   "name": "python",
   "nbconvert_exporter": "python",
   "pygments_lexer": "ipython3",
   "version": "3.7.6"
  }
 },
 "nbformat": 4,
 "nbformat_minor": 4
}
