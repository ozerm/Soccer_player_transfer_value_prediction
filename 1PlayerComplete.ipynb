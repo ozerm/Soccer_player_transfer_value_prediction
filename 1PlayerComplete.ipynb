{
 "cells": [
  {
   "cell_type": "code",
   "execution_count": 1,
   "metadata": {},
   "outputs": [],
   "source": [
    "import requests\n",
    "from bs4 import BeautifulSoup\n",
    "import pandas as pd\n",
    "pd.options.display.max_colwidth = 200"
   ]
  },
  {
   "cell_type": "code",
   "execution_count": 2,
   "metadata": {},
   "outputs": [],
   "source": [
    "# We are telling the website that we are just a browser\n",
    "headers = {'User-Agent':\n",
    "'Mozilla/5.0 (X11; Linux x86_64) AppleWebKit/537.36 (KHTML, like Gecko) Chrome/47.0.2526.106 Safari/537.36'}\n",
    "\n",
    "# Creating a variable for our webpage\n",
    "page = \"https://www.transfermarkt.co.uk/transfers/transferrekorde/statistik/top/saison_id/alle/land_id//ausrichtung/Sturm/spielerposition_id//altersklasse//leihe//w_s//plus/0/galerie/0/page/1\"\n",
    "#page = \"https://www.transfermarkt.co.uk/transfers/transferrekorde/statistik/top/ajax/yw2/saison_id/alle/land_id//ausrichtung/Sturm/spielerposition_id/14/altersklasse//leihe//w_s//plus/0/galerie/0/page/2\""
   ]
  },
  {
   "cell_type": "code",
   "execution_count": 3,
   "metadata": {},
   "outputs": [],
   "source": [
    "# Using the requests library to grab the code of the page and assign it to ‘pageTree\n",
    "pageTree = requests.get(page, headers=headers)\n"
   ]
  },
  {
   "cell_type": "code",
   "execution_count": 4,
   "metadata": {},
   "outputs": [],
   "source": [
    "# BeautifulSoup module parsing the website code into html\n",
    "pageSoup = BeautifulSoup(pageTree.content, 'html.parser')"
   ]
  },
  {
   "cell_type": "code",
   "execution_count": 5,
   "metadata": {},
   "outputs": [],
   "source": [
    "# Extracting player names\n",
    "Players = pageSoup.find_all(\"a\", {\"class\": \"spielprofil_tooltip\"})\n"
   ]
  },
  {
   "cell_type": "code",
   "execution_count": 6,
   "metadata": {},
   "outputs": [
    {
     "data": {
      "text/plain": [
       "[<a class=\"spielprofil_tooltip\" href=\"/neymar/profil/spieler/68290\" id=\"68290\" title=\"Neymar\">Neymar</a>,\n",
       " <a class=\"spielprofil_tooltip\" href=\"/ousmane-dembele/profil/spieler/288230\" id=\"288230\" title=\"Ousmane Dembélé\">Ousmane Dembélé</a>,\n",
       " <a class=\"spielprofil_tooltip\" href=\"/kylian-mbappe/profil/spieler/342229\" id=\"342229\" title=\"Kylian Mbappé\">Kylian Mbappé</a>,\n",
       " <a class=\"spielprofil_tooltip\" href=\"/joao-felix/profil/spieler/462250\" id=\"462250\" title=\"João Félix\">João Félix</a>,\n",
       " <a class=\"spielprofil_tooltip\" href=\"/antoine-griezmann/profil/spieler/125781\" id=\"125781\" title=\"Antoine Griezmann\">Antoine Griezmann</a>,\n",
       " <a class=\"spielprofil_tooltip\" href=\"/cristiano-ronaldo/profil/spieler/8198\" id=\"8198\" title=\"Cristiano Ronaldo\">Cristiano Ronaldo</a>,\n",
       " <a class=\"spielprofil_tooltip\" href=\"/eden-hazard/profil/spieler/50202\" id=\"50202\" title=\"Eden Hazard\">Eden Hazard</a>,\n",
       " <a class=\"spielprofil_tooltip\" href=\"/gareth-bale/profil/spieler/39381\" id=\"39381\" title=\"Gareth Bale\">Gareth Bale</a>,\n",
       " <a class=\"spielprofil_tooltip\" href=\"/cristiano-ronaldo/profil/spieler/8198\" id=\"8198\" title=\"Cristiano Ronaldo\">Cristiano Ronaldo</a>,\n",
       " <a class=\"spielprofil_tooltip\" href=\"/gonzalo-higuain/profil/spieler/39153\" id=\"39153\" title=\"Gonzalo Higuaín\">Gonzalo Higuaín</a>,\n",
       " <a class=\"spielprofil_tooltip\" href=\"/neymar/profil/spieler/68290\" id=\"68290\" title=\"Neymar\">Neymar</a>,\n",
       " <a class=\"spielprofil_tooltip\" href=\"/romelu-lukaku/profil/spieler/96341\" id=\"96341\" title=\"Romelu Lukaku\">Romelu Lukaku</a>,\n",
       " <a class=\"spielprofil_tooltip\" href=\"/luis-suarez/profil/spieler/44352\" id=\"44352\" title=\"Luis Suárez\">Luis Suárez</a>,\n",
       " <a class=\"spielprofil_tooltip\" href=\"/nicolas-pepe/profil/spieler/343052\" id=\"343052\" title=\"Nicolas Pépé\">Nicolas Pépé</a>,\n",
       " <a class=\"spielprofil_tooltip\" href=\"/angel-di-maria/profil/spieler/45320\" id=\"45320\" title=\"Ángel Di María\">Ángel Di María</a>,\n",
       " <a class=\"spielprofil_tooltip\" href=\"/romelu-lukaku/profil/spieler/96341\" id=\"96341\" title=\"Romelu Lukaku\">Romelu Lukaku</a>,\n",
       " <a class=\"spielprofil_tooltip\" href=\"/thomas-lemar/profil/spieler/205562\" id=\"205562\" title=\"Thomas Lemar\">Thomas Lemar</a>,\n",
       " <a class=\"spielprofil_tooltip\" href=\"/zlatan-ibrahimovic/profil/spieler/3455\" id=\"3455\" title=\"Zlatan Ibrahimovic\">Zlatan Ibrahimovic</a>,\n",
       " <a class=\"spielprofil_tooltip\" href=\"/riyad-mahrez/profil/spieler/171424\" id=\"171424\" title=\"Riyad Mahrez\">Riyad Mahrez</a>,\n",
       " <a class=\"spielprofil_tooltip\" href=\"/diego-costa/profil/spieler/44779\" id=\"44779\" title=\"Diego Costa\">Diego Costa</a>,\n",
       " <a class=\"spielprofil_tooltip\" href=\"/alvaro-morata/profil/spieler/128223\" id=\"128223\" title=\"Álvaro Morata\">Álvaro Morata</a>,\n",
       " <a class=\"spielprofil_tooltip\" href=\"/edinson-cavani/profil/spieler/48280\" id=\"48280\" title=\"Edinson Cavani\">Edinson Cavani</a>,\n",
       " <a class=\"spielprofil_tooltip\" href=\"/christian-pulisic/profil/spieler/315779\" id=\"315779\" title=\"Christian Pulisic\">Christian Pulisic</a>,\n",
       " <a class=\"spielprofil_tooltip\" href=\"/pierre-emerick-aubameyang/profil/spieler/58864\" id=\"58864\" title=\"Pierre-Emerick Aubameyang\">Pierre-Emerick Aubameyang</a>,\n",
       " <a class=\"spielprofil_tooltip\" href=\"/raheem-sterling/profil/spieler/134425\" id=\"134425\" title=\"Raheem Sterling\">Raheem Sterling</a>,\n",
       " <a class=\"spielprofil_tooltip\" href=\"/mohamed-elneny/profil/spieler/160438\" id=\"160438\" title=\"Mohamed Elneny\">M. Elneny</a>,\n",
       " <a class=\"spielprofil_tooltip\" href=\"/pierre-emile-hojbjerg/profil/spieler/167799\" id=\"167799\" title=\"Pierre-Emile Höjbjerg\">P. Höjbjerg</a>,\n",
       " <a class=\"spielprofil_tooltip\" href=\"/kyle-walker-peters/profil/spieler/341051\" id=\"341051\" title=\"Kyle Walker-Peters\">K. Walker-Peters</a>,\n",
       " <a class=\"spielprofil_tooltip\" href=\"/martin-braithwaite/profil/spieler/95732\" id=\"95732\" title=\"Martin Braithwaite\">M. Braithwaite</a>,\n",
       " <a class=\"spielprofil_tooltip\" href=\"/idrissa-gueye/profil/spieler/126665\" id=\"126665\" title=\"Idrissa Gueye\">I. Gueye</a>]"
      ]
     },
     "execution_count": 6,
     "metadata": {},
     "output_type": "execute_result"
    }
   ],
   "source": [
    "Players"
   ]
  },
  {
   "cell_type": "code",
   "execution_count": 7,
   "metadata": {},
   "outputs": [],
   "source": [
    "# Assigning transfer values to Values variable\n",
    "Values = pageSoup.find_all(\"td\", {\"class\": \"rechts hauptlink\"})"
   ]
  },
  {
   "cell_type": "code",
   "execution_count": 8,
   "metadata": {},
   "outputs": [
    {
     "data": {
      "text/plain": [
       "[<td class=\"rechts hauptlink\"><a href=\"/jumplist/transfers/spieler/68290/transfer_id/1866385\">£199.80m</a></td>,\n",
       " <td class=\"rechts hauptlink\"><a href=\"/jumplist/transfers/spieler/288230/transfer_id/1893861\">£124.20m</a></td>,\n",
       " <td class=\"rechts hauptlink\"><a href=\"/jumplist/transfers/spieler/342229/transfer_id/2101599\">£121.50m</a></td>,\n",
       " <td class=\"rechts hauptlink\"><a href=\"/jumplist/transfers/spieler/462250/transfer_id/2536292\">£113.40m</a></td>,\n",
       " <td class=\"rechts hauptlink\"><a href=\"/jumplist/transfers/spieler/125781/transfer_id/2552096\">£108.00m</a></td>,\n",
       " <td class=\"rechts hauptlink\"><a href=\"/jumplist/transfers/spieler/8198/transfer_id/2168965\">£105.30m</a></td>,\n",
       " <td class=\"rechts hauptlink\"><a href=\"/jumplist/transfers/spieler/50202/transfer_id/2499860\">£103.50m</a></td>,\n",
       " <td class=\"rechts hauptlink\"><a href=\"/jumplist/transfers/spieler/39381/transfer_id/942395\">£90.90m</a></td>,\n",
       " <td class=\"rechts hauptlink\"><a href=\"/jumplist/transfers/spieler/8198/transfer_id/308498\">£84.60m</a></td>,\n",
       " <td class=\"rechts hauptlink\"><a href=\"/jumplist/transfers/spieler/39153/transfer_id/1550131\">£81.00m</a></td>,\n",
       " <td class=\"rechts hauptlink\"><a href=\"/jumplist/transfers/spieler/68290/transfer_id/874846\">£79.38m</a></td>,\n",
       " <td class=\"rechts hauptlink\"><a href=\"/jumplist/transfers/spieler/96341/transfer_id/1830053\">£76.23m</a></td>,\n",
       " <td class=\"rechts hauptlink\"><a href=\"/jumplist/transfers/spieler/44352/transfer_id/1083987\">£73.55m</a></td>,\n",
       " <td class=\"rechts hauptlink\"><a href=\"/jumplist/transfers/spieler/343052/transfer_id/2585250\">£72.00m</a></td>,\n",
       " <td class=\"rechts hauptlink\"><a href=\"/jumplist/transfers/spieler/45320/transfer_id/1119019\">£67.50m</a></td>,\n",
       " <td class=\"rechts hauptlink\"><a href=\"/jumplist/transfers/spieler/96341/transfer_id/2596904\">£66.60m</a></td>,\n",
       " <td class=\"rechts hauptlink\"><a href=\"/jumplist/transfers/spieler/205562/transfer_id/2152323\">£63.00m</a></td>,\n",
       " <td class=\"rechts hauptlink\"><a href=\"/jumplist/transfers/spieler/3455/transfer_id/324955\">£62.55m</a></td>,\n",
       " <td class=\"rechts hauptlink\"><a href=\"/jumplist/transfers/spieler/171424/transfer_id/2169271\">£61.02m</a></td>,\n",
       " <td class=\"rechts hauptlink\"><a href=\"/jumplist/transfers/spieler/44779/transfer_id/1920218\">£59.40m</a></td>,\n",
       " <td class=\"rechts hauptlink\"><a href=\"/jumplist/transfers/spieler/128223/transfer_id/1848024\">£59.40m</a></td>,\n",
       " <td class=\"rechts hauptlink\"><a href=\"/jumplist/transfers/spieler/48280/transfer_id/910223\">£58.05m</a></td>,\n",
       " <td class=\"rechts hauptlink\"><a href=\"/jumplist/transfers/spieler/315779/transfer_id/2354712\">£57.60m</a></td>,\n",
       " <td class=\"rechts hauptlink\"><a href=\"/jumplist/transfers/spieler/58864/transfer_id/2022025\">£57.38m</a></td>,\n",
       " <td class=\"rechts hauptlink\"><a href=\"/jumplist/transfers/spieler/134425/transfer_id/1286730\">£57.33m</a></td>]"
      ]
     },
     "execution_count": 8,
     "metadata": {},
     "output_type": "execute_result"
    }
   ],
   "source": [
    "Values"
   ]
  },
  {
   "cell_type": "code",
   "execution_count": null,
   "metadata": {},
   "outputs": [],
   "source": [
    "# Creating tbody var for extracting the players only in the main table\n",
    "tbody = pageSoup.select('tbody')[1]   "
   ]
  },
  {
   "cell_type": "code",
   "execution_count": null,
   "metadata": {},
   "outputs": [],
   "source": [
    "# Extracting links in tbody var\n",
    "list_player = []\n",
    "for link in tbody.find_all('a', href=True):\n",
    "    list_player.append(link['href'])"
   ]
  },
  {
   "cell_type": "code",
   "execution_count": null,
   "metadata": {},
   "outputs": [],
   "source": [
    "# Putting all the links into a dataframe\n",
    "df_player = pd.DataFrame(list_player)"
   ]
  },
  {
   "cell_type": "code",
   "execution_count": null,
   "metadata": {},
   "outputs": [],
   "source": [
    "# Adding col name\n",
    "df_player.columns = ['links']"
   ]
  },
  {
   "cell_type": "code",
   "execution_count": null,
   "metadata": {},
   "outputs": [],
   "source": [
    "# extracting only those links which are attached to a real player\n",
    "links = []\n",
    "for i in df_player['links']:\n",
    "    if 'profil/spieler' in i:\n",
    "        links.append(i)"
   ]
  },
  {
   "cell_type": "code",
   "execution_count": null,
   "metadata": {},
   "outputs": [],
   "source": [
    "# Completing the links with adding the domain name\n",
    "full_links = []\n",
    "for i in links:\n",
    "    full_links.append('https://www.transfermarkt.com' + i)"
   ]
  },
  {
   "cell_type": "code",
   "execution_count": null,
   "metadata": {},
   "outputs": [],
   "source": [
    "# Let's put all these into a dataframe\n",
    "PlayersList = []\n",
    "ValuesList = []\n",
    "\n"
   ]
  },
  {
   "cell_type": "code",
   "execution_count": null,
   "metadata": {},
   "outputs": [],
   "source": [
    "for i in range(0,25):\n",
    "    PlayersList.append(Players[i].text)\n",
    "    ValuesList.append(Values[i].text)\n"
   ]
  },
  {
   "cell_type": "code",
   "execution_count": null,
   "metadata": {},
   "outputs": [],
   "source": [
    "df = pd.DataFrame({\"Players\":PlayersList,\"Values\":ValuesList, 'links':full_links})\n"
   ]
  },
  {
   "cell_type": "code",
   "execution_count": null,
   "metadata": {},
   "outputs": [],
   "source": [
    "df"
   ]
  },
  {
   "cell_type": "code",
   "execution_count": null,
   "metadata": {},
   "outputs": [],
   "source": []
  }
 ],
 "metadata": {
  "kernelspec": {
   "display_name": "Python 3",
   "language": "python",
   "name": "python3"
  },
  "language_info": {
   "codemirror_mode": {
    "name": "ipython",
    "version": 3
   },
   "file_extension": ".py",
   "mimetype": "text/x-python",
   "name": "python",
   "nbconvert_exporter": "python",
   "pygments_lexer": "ipython3",
   "version": "3.8.3"
  }
 },
 "nbformat": 4,
 "nbformat_minor": 4
}
