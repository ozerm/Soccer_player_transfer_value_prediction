{
 "cells": [
  {
   "cell_type": "code",
   "execution_count": 31,
   "metadata": {},
   "outputs": [],
   "source": [
    "import requests\n",
    "from bs4 import BeautifulSoup\n",
    "import pandas as pd\n",
    "\n",
    "# We are telling the website that we are just a browser \n",
    "headers = {'User-Agent': \n",
    "           'Mozilla/5.0 (X11; Linux x86_64) AppleWebKit/537.36 (KHTML, like Gecko) Chrome/47.0.2526.106 Safari/537.36'}\n",
    "\n",
    "\n",
    "# Creating a variable for our webpage    \n",
    "page = \"https://www.transfermarkt.co.uk/transfers/transferrekorde/statistik/top/plus/0/galerie/0?saison_id=alle&land_id=&ausrichtung=Sturm&spielerposition_id=14&altersklasse=&leihe=&w_s=\"\n",
    "\n",
    "# Using the requests library to grab the code of the page and assign it to ‘pageTree\n",
    "res = requests.get(page, headers=headers)\n",
    "\n",
    "soup = BeautifulSoup(res.text, 'lxml')\n",
    "list_player = []\n",
    "for link in soup.find_all('a', href=True):\n",
    "    list_player.append(link['href'])"
   ]
  },
  {
   "cell_type": "code",
   "execution_count": 32,
   "metadata": {},
   "outputs": [],
   "source": [
    "df_player = pd.DataFrame(list_player)"
   ]
  },
  {
   "cell_type": "code",
   "execution_count": 33,
   "metadata": {},
   "outputs": [],
   "source": [
    "df_player.columns = ['links']"
   ]
  },
  {
   "cell_type": "code",
   "execution_count": 34,
   "metadata": {},
   "outputs": [],
   "source": [
    "from IPython.core.interactiveshell import InteractiveShell\n",
    "InteractiveShell.ast_node_interactivity = \"all\""
   ]
  },
  {
   "cell_type": "code",
   "execution_count": 35,
   "metadata": {},
   "outputs": [
    {
     "data": {
      "text/plain": [
       "Index(['links'], dtype='object')"
      ]
     },
     "execution_count": 35,
     "metadata": {},
     "output_type": "execute_result"
    }
   ],
   "source": [
    "df_player.columns"
   ]
  },
  {
   "cell_type": "code",
   "execution_count": 50,
   "metadata": {},
   "outputs": [
    {
     "name": "stdout",
     "output_type": "stream",
     "text": [
      "['/kylian-mbappe/profil/spieler/342229', '/gonzalo-higuain/profil/spieler/39153', '/romelu-lukaku/profil/spieler/96341', '/luis-suarez/profil/spieler/44352', '/zlatan-ibrahimovic/profil/spieler/3455', '/diego-costa/profil/spieler/44779', '/alvaro-morata/profil/spieler/128223', '/romelu-lukaku/profil/spieler/96341', '/edinson-cavani/profil/spieler/48280', '/pierre-emerick-aubameyang/profil/spieler/58864', '/luka-jovic/profil/spieler/257462', '/anthony-martial/profil/spieler/182877', '/fernando-torres/profil/spieler/7767', '/hernan-crespo/profil/spieler/3410', '/alvaro-morata/profil/spieler/128223', '/timo-werner/profil/spieler/170527', '/alexandre-lacazette/profil/spieler/93720', '/mauro-icardi/profil/spieler/68863', '/sebastien-haller/profil/spieler/181375', '/christian-benteke/profil/spieler/50201', '/christian-vieri/profil/spieler/5797', '/ronaldo/profil/spieler/3140', '/joelinton/profil/spieler/333241', '/andriy-shevchenko/profil/spieler/3522', '/falcao/profil/spieler/39152', '/thomas/profil/spieler/230784', '/mohammed-salisu/profil/spieler/563963', '/pierre-emile-hojbjerg/profil/spieler/167799', '/przemyslaw-placheta/profil/spieler/383109', '/jerry-yates/profil/spieler/351261']\n"
     ]
    }
   ],
   "source": [
    "links = []\n",
    "for i in df_player['links']:\n",
    "    if 'profil/spieler' in i:\n",
    "        links.append(i)\n",
    "print(links)\n",
    "\n",
    "#if df_player['links'].str.contains('profil'):\n",
    "#    print (\"Mel is there\")"
   ]
  },
  {
   "cell_type": "code",
   "execution_count": 51,
   "metadata": {},
   "outputs": [
    {
     "data": {
      "text/plain": [
       "['/kylian-mbappe/profil/spieler/342229',\n",
       " '/gonzalo-higuain/profil/spieler/39153',\n",
       " '/romelu-lukaku/profil/spieler/96341',\n",
       " '/luis-suarez/profil/spieler/44352',\n",
       " '/zlatan-ibrahimovic/profil/spieler/3455',\n",
       " '/diego-costa/profil/spieler/44779',\n",
       " '/alvaro-morata/profil/spieler/128223',\n",
       " '/romelu-lukaku/profil/spieler/96341',\n",
       " '/edinson-cavani/profil/spieler/48280',\n",
       " '/pierre-emerick-aubameyang/profil/spieler/58864',\n",
       " '/luka-jovic/profil/spieler/257462',\n",
       " '/anthony-martial/profil/spieler/182877',\n",
       " '/fernando-torres/profil/spieler/7767',\n",
       " '/hernan-crespo/profil/spieler/3410',\n",
       " '/alvaro-morata/profil/spieler/128223',\n",
       " '/timo-werner/profil/spieler/170527',\n",
       " '/alexandre-lacazette/profil/spieler/93720',\n",
       " '/mauro-icardi/profil/spieler/68863',\n",
       " '/sebastien-haller/profil/spieler/181375',\n",
       " '/christian-benteke/profil/spieler/50201',\n",
       " '/christian-vieri/profil/spieler/5797',\n",
       " '/ronaldo/profil/spieler/3140',\n",
       " '/joelinton/profil/spieler/333241',\n",
       " '/andriy-shevchenko/profil/spieler/3522',\n",
       " '/falcao/profil/spieler/39152']"
      ]
     },
     "execution_count": 51,
     "metadata": {},
     "output_type": "execute_result"
    }
   ],
   "source": [
    "links = links[:25]\n"
   ]
  },
  {
   "cell_type": "code",
   "execution_count": 53,
   "metadata": {},
   "outputs": [],
   "source": [
    "full_links = []\n",
    "for i in links:\n",
    "    full_links.append('https://www.transfermarkt.com' + i)"
   ]
  },
  {
   "cell_type": "code",
   "execution_count": 55,
   "metadata": {},
   "outputs": [
    {
     "data": {
      "text/plain": [
       "'https://www.transfermarkt.com/kylian-mbappe/profil/spieler/342229'"
      ]
     },
     "execution_count": 55,
     "metadata": {},
     "output_type": "execute_result"
    }
   ],
   "source": [
    "full_links[0]"
   ]
  },
  {
   "cell_type": "code",
   "execution_count": null,
   "metadata": {},
   "outputs": [],
   "source": []
  }
 ],
 "metadata": {
  "kernelspec": {
   "display_name": "Python 3",
   "language": "python",
   "name": "python3"
  },
  "language_info": {
   "codemirror_mode": {
    "name": "ipython",
    "version": 3
   },
   "file_extension": ".py",
   "mimetype": "text/x-python",
   "name": "python",
   "nbconvert_exporter": "python",
   "pygments_lexer": "ipython3",
   "version": "3.7.6"
  }
 },
 "nbformat": 4,
 "nbformat_minor": 2
}
