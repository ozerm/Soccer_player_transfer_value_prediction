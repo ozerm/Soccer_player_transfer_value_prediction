{
 "cells": [
  {
   "cell_type": "code",
   "execution_count": 1,
   "metadata": {},
   "outputs": [],
   "source": [
    "import requests\n",
    "from bs4 import BeautifulSoup\n",
    "import pandas as pd\n",
    "pd.options.display.max_colwidth = 200"
   ]
  },
  {
   "cell_type": "code",
   "execution_count": 2,
   "metadata": {},
   "outputs": [],
   "source": [
    "# We are telling the website that we are just a browser\n",
    "headers = {'User-Agent':\n",
    "'Mozilla/5.0 (X11; Linux x86_64) AppleWebKit/537.36 (KHTML, like Gecko) Chrome/47.0.2526.106 Safari/537.36'}\n",
    "\n",
    "# Creating a variable for our webpage\n",
    "page = \"https://www.transfermarkt.co.uk/transfers/transferrekorde/statistik/top/saison_id/alle/land_id//ausrichtung/Sturm/spielerposition_id//altersklasse//leihe//w_s//plus/0/galerie/0/page/\"\n",
    "#page = \"https://www.transfermarkt.co.uk/transfers/transferrekorde/statistik/top/ajax/yw2/saison_id/alle/land_id//ausrichtung/Sturm/spielerposition_id/14/altersklasse//leihe//w_s//plus/0/galerie/0/page/\""
   ]
  },
  {
   "cell_type": "code",
   "execution_count": 3,
   "metadata": {},
   "outputs": [],
   "source": [
    "pagelist = []\n",
    "for i in range (1, 5):\n",
    "    i_str = str(i)\n",
    "    pagelist.append(page + i_str)\n",
    "    "
   ]
  },
  {
   "cell_type": "code",
   "execution_count": 4,
   "metadata": {},
   "outputs": [
    {
     "name": "stdout",
     "output_type": "stream",
     "text": [
      "['https://www.transfermarkt.co.uk/transfers/transferrekorde/statistik/top/saison_id/alle/land_id//ausrichtung/Sturm/spielerposition_id//altersklasse//leihe//w_s//plus/0/galerie/0/page/1', 'https://www.transfermarkt.co.uk/transfers/transferrekorde/statistik/top/saison_id/alle/land_id//ausrichtung/Sturm/spielerposition_id//altersklasse//leihe//w_s//plus/0/galerie/0/page/2', 'https://www.transfermarkt.co.uk/transfers/transferrekorde/statistik/top/saison_id/alle/land_id//ausrichtung/Sturm/spielerposition_id//altersklasse//leihe//w_s//plus/0/galerie/0/page/3', 'https://www.transfermarkt.co.uk/transfers/transferrekorde/statistik/top/saison_id/alle/land_id//ausrichtung/Sturm/spielerposition_id//altersklasse//leihe//w_s//plus/0/galerie/0/page/4']\n"
     ]
    }
   ],
   "source": [
    "print(pagelist)"
   ]
  },
  {
   "cell_type": "code",
   "execution_count": 5,
   "metadata": {},
   "outputs": [],
   "source": [
    "Players = []\n",
    "Values = []\n",
    "for i in pagelist:\n",
    "    pageTree = requests.get(i, headers=headers)\n",
    "    pageSoup = BeautifulSoup(pageTree.content, 'html.parser')\n",
    "    Players.append(pageSoup.find_all(\"a\", {\"class\": \"spielprofil_tooltip\"}))\n",
    "    Values.append(pageSoup.find_all(\"td\", {\"class\": \"rechts hauptlink\"}))"
   ]
  },
  {
   "cell_type": "code",
   "execution_count": 12,
   "metadata": {},
   "outputs": [
    {
     "data": {
      "text/plain": [
       "[[<a class=\"spielprofil_tooltip\" href=\"/neymar/profil/spieler/68290\" id=\"68290\" title=\"Neymar\">Neymar</a>,\n",
       "  <a class=\"spielprofil_tooltip\" href=\"/ousmane-dembele/profil/spieler/288230\" id=\"288230\" title=\"Ousmane Dembélé\">Ousmane Dembélé</a>,\n",
       "  <a class=\"spielprofil_tooltip\" href=\"/kylian-mbappe/profil/spieler/342229\" id=\"342229\" title=\"Kylian Mbappé\">Kylian Mbappé</a>,\n",
       "  <a class=\"spielprofil_tooltip\" href=\"/joao-felix/profil/spieler/462250\" id=\"462250\" title=\"João Félix\">João Félix</a>,\n",
       "  <a class=\"spielprofil_tooltip\" href=\"/antoine-griezmann/profil/spieler/125781\" id=\"125781\" title=\"Antoine Griezmann\">Antoine Griezmann</a>,\n",
       "  <a class=\"spielprofil_tooltip\" href=\"/cristiano-ronaldo/profil/spieler/8198\" id=\"8198\" title=\"Cristiano Ronaldo\">Cristiano Ronaldo</a>,\n",
       "  <a class=\"spielprofil_tooltip\" href=\"/eden-hazard/profil/spieler/50202\" id=\"50202\" title=\"Eden Hazard\">Eden Hazard</a>,\n",
       "  <a class=\"spielprofil_tooltip\" href=\"/gareth-bale/profil/spieler/39381\" id=\"39381\" title=\"Gareth Bale\">Gareth Bale</a>,\n",
       "  <a class=\"spielprofil_tooltip\" href=\"/cristiano-ronaldo/profil/spieler/8198\" id=\"8198\" title=\"Cristiano Ronaldo\">Cristiano Ronaldo</a>,\n",
       "  <a class=\"spielprofil_tooltip\" href=\"/gonzalo-higuain/profil/spieler/39153\" id=\"39153\" title=\"Gonzalo Higuaín\">Gonzalo Higuaín</a>,\n",
       "  <a class=\"spielprofil_tooltip\" href=\"/neymar/profil/spieler/68290\" id=\"68290\" title=\"Neymar\">Neymar</a>,\n",
       "  <a class=\"spielprofil_tooltip\" href=\"/romelu-lukaku/profil/spieler/96341\" id=\"96341\" title=\"Romelu Lukaku\">Romelu Lukaku</a>,\n",
       "  <a class=\"spielprofil_tooltip\" href=\"/luis-suarez/profil/spieler/44352\" id=\"44352\" title=\"Luis Suárez\">Luis Suárez</a>,\n",
       "  <a class=\"spielprofil_tooltip\" href=\"/nicolas-pepe/profil/spieler/343052\" id=\"343052\" title=\"Nicolas Pépé\">Nicolas Pépé</a>,\n",
       "  <a class=\"spielprofil_tooltip\" href=\"/angel-di-maria/profil/spieler/45320\" id=\"45320\" title=\"Ángel Di María\">Ángel Di María</a>,\n",
       "  <a class=\"spielprofil_tooltip\" href=\"/thomas-lemar/profil/spieler/205562\" id=\"205562\" title=\"Thomas Lemar\">Thomas Lemar</a>,\n",
       "  <a class=\"spielprofil_tooltip\" href=\"/zlatan-ibrahimovic/profil/spieler/3455\" id=\"3455\" title=\"Zlatan Ibrahimovic\">Zlatan Ibrahimovic</a>,\n",
       "  <a class=\"spielprofil_tooltip\" href=\"/riyad-mahrez/profil/spieler/171424\" id=\"171424\" title=\"Riyad Mahrez\">Riyad Mahrez</a>,\n",
       "  <a class=\"spielprofil_tooltip\" href=\"/diego-costa/profil/spieler/44779\" id=\"44779\" title=\"Diego Costa\">Diego Costa</a>,\n",
       "  <a class=\"spielprofil_tooltip\" href=\"/alvaro-morata/profil/spieler/128223\" id=\"128223\" title=\"Álvaro Morata\">Álvaro Morata</a>,\n",
       "  <a class=\"spielprofil_tooltip\" href=\"/romelu-lukaku/profil/spieler/96341\" id=\"96341\" title=\"Romelu Lukaku\">Romelu Lukaku</a>,\n",
       "  <a class=\"spielprofil_tooltip\" href=\"/edinson-cavani/profil/spieler/48280\" id=\"48280\" title=\"Edinson Cavani\">Edinson Cavani</a>,\n",
       "  <a class=\"spielprofil_tooltip\" href=\"/christian-pulisic/profil/spieler/315779\" id=\"315779\" title=\"Christian Pulisic\">Christian Pulisic</a>,\n",
       "  <a class=\"spielprofil_tooltip\" href=\"/pierre-emerick-aubameyang/profil/spieler/58864\" id=\"58864\" title=\"Pierre-Emerick Aubameyang\">Pierre-Emerick Aubameyang</a>,\n",
       "  <a class=\"spielprofil_tooltip\" href=\"/raheem-sterling/profil/spieler/134425\" id=\"134425\" title=\"Raheem Sterling\">Raheem Sterling</a>,\n",
       "  <a class=\"spielprofil_tooltip\" href=\"/declan-rice/profil/spieler/357662\" id=\"357662\" title=\"Declan Rice\">Declan Rice</a>,\n",
       "  <a class=\"spielprofil_tooltip\" href=\"/ben-chilwell/profil/spieler/316125\" id=\"316125\" title=\"Ben Chilwell\">Ben Chilwell</a>,\n",
       "  <a class=\"spielprofil_tooltip\" href=\"/charlie-mcneill/profil/spieler/614262\" id=\"614262\" title=\"Charlie McNeill\">C. McNeill</a>,\n",
       "  <a class=\"spielprofil_tooltip\" href=\"/nathan-ake/profil/spieler/177476\" id=\"177476\" title=\"Nathan Aké\">Nathan Aké</a>,\n",
       "  <a class=\"spielprofil_tooltip\" href=\"/albian-ajeti/profil/spieler/195906\" id=\"195906\" title=\"Albian Ajeti\">Albian Ajeti</a>],\n",
       " [<a class=\"spielprofil_tooltip\" href=\"/angel-di-maria/profil/spieler/45320\" id=\"45320\" title=\"Ángel Di María\">Ángel Di María</a>,\n",
       "  <a class=\"spielprofil_tooltip\" href=\"/luka-jovic/profil/spieler/257462\" id=\"257462\" title=\"Luka Jovic\">Luka Jovic</a>,\n",
       "  <a class=\"spielprofil_tooltip\" href=\"/anthony-martial/profil/spieler/182877\" id=\"182877\" title=\"Anthony Martial\">Anthony Martial</a>,\n",
       "  <a class=\"spielprofil_tooltip\" href=\"/luis-figo/profil/spieler/3446\" id=\"3446\" title=\"Luís Figo\">Luís Figo</a>,\n",
       "  <a class=\"spielprofil_tooltip\" href=\"/fernando-torres/profil/spieler/7767\" id=\"7767\" title=\"Fernando Torres\">Fernando Torres</a>,\n",
       "  <a class=\"spielprofil_tooltip\" href=\"/hernan-crespo/profil/spieler/3410\" id=\"3410\" title=\"Hernán Crespo\">Hernán Crespo</a>,\n",
       "  <a class=\"spielprofil_tooltip\" href=\"/alvaro-morata/profil/spieler/128223\" id=\"128223\" title=\"Álvaro Morata\">Álvaro Morata</a>,\n",
       "  <a class=\"spielprofil_tooltip\" href=\"/hulk/profil/spieler/80562\" id=\"80562\" title=\"Hulk\">Hulk</a>,\n",
       "  <a class=\"spielprofil_tooltip\" href=\"/antoine-griezmann/profil/spieler/125781\" id=\"125781\" title=\"Antoine Griezmann\">Antoine Griezmann</a>,\n",
       "  <a class=\"spielprofil_tooltip\" href=\"/timo-werner/profil/spieler/170527\" id=\"170527\" title=\"Timo Werner\">Timo Werner</a>,\n",
       "  <a class=\"spielprofil_tooltip\" href=\"/alexandre-lacazette/profil/spieler/93720\" id=\"93720\" title=\"Alexandre Lacazette\">Alexandre Lacazette</a>,\n",
       "  <a class=\"spielprofil_tooltip\" href=\"/leroy-sane/profil/spieler/192565\" id=\"192565\" title=\"Leroy Sané\">Leroy Sané</a>,\n",
       "  <a class=\"spielprofil_tooltip\" href=\"/mauro-icardi/profil/spieler/68863\" id=\"68863\" title=\"Mauro Icardi\">Mauro Icardi</a>,\n",
       "  <a class=\"spielprofil_tooltip\" href=\"/sebastien-haller/profil/spieler/181375\" id=\"181375\" title=\"Sébastien Haller\">Sébastien Haller</a>,\n",
       "  <a class=\"spielprofil_tooltip\" href=\"/bernardo-silva/profil/spieler/241641\" id=\"241641\" title=\"Bernardo Silva\">Bernardo Silva</a>,\n",
       "  <a class=\"spielprofil_tooltip\" href=\"/alex-teixeira/profil/spieler/66515\" id=\"66515\" title=\"Alex Teixeira\">Alex Teixeira</a>,\n",
       "  <a class=\"spielprofil_tooltip\" href=\"/christian-benteke/profil/spieler/50201\" id=\"50201\" title=\"Christian Benteke\">Christian Benteke</a>,\n",
       "  <a class=\"spielprofil_tooltip\" href=\"/christian-vieri/profil/spieler/5797\" id=\"5797\" title=\"Christian Vieri\">Christian Vieri</a>,\n",
       "  <a class=\"spielprofil_tooltip\" href=\"/leroy-sane/profil/spieler/192565\" id=\"192565\" title=\"Leroy Sané\">Leroy Sané</a>,\n",
       "  <a class=\"spielprofil_tooltip\" href=\"/rodrygo/profil/spieler/412363\" id=\"412363\" title=\"Rodrygo\">Rodrygo</a>,\n",
       "  <a class=\"spielprofil_tooltip\" href=\"/vinicius-junior/profil/spieler/371998\" id=\"371998\" title=\"Vinícius Júnior\">Vinícius Júnior</a>,\n",
       "  <a class=\"spielprofil_tooltip\" href=\"/ronaldo/profil/spieler/3140\" id=\"3140\" title=\"Ronaldo\">Ronaldo</a>,\n",
       "  <a class=\"spielprofil_tooltip\" href=\"/joelinton/profil/spieler/333241\" id=\"333241\" title=\"Joelinton\">Joelinton</a>,\n",
       "  <a class=\"spielprofil_tooltip\" href=\"/andriy-shevchenko/profil/spieler/3522\" id=\"3522\" title=\"Andriy Shevchenko\">Andriy Shevchenko</a>,\n",
       "  <a class=\"spielprofil_tooltip\" href=\"/falcao/profil/spieler/39152\" id=\"39152\" title=\"Falcao\">Falcao</a>,\n",
       "  <a class=\"spielprofil_tooltip\" href=\"/declan-rice/profil/spieler/357662\" id=\"357662\" title=\"Declan Rice\">Declan Rice</a>,\n",
       "  <a class=\"spielprofil_tooltip\" href=\"/ben-chilwell/profil/spieler/316125\" id=\"316125\" title=\"Ben Chilwell\">Ben Chilwell</a>,\n",
       "  <a class=\"spielprofil_tooltip\" href=\"/charlie-mcneill/profil/spieler/614262\" id=\"614262\" title=\"Charlie McNeill\">C. McNeill</a>,\n",
       "  <a class=\"spielprofil_tooltip\" href=\"/nathan-ake/profil/spieler/177476\" id=\"177476\" title=\"Nathan Aké\">Nathan Aké</a>,\n",
       "  <a class=\"spielprofil_tooltip\" href=\"/albian-ajeti/profil/spieler/195906\" id=\"195906\" title=\"Albian Ajeti\">Albian Ajeti</a>],\n",
       " [<a class=\"spielprofil_tooltip\" href=\"/robinho/profil/spieler/15511\" id=\"15511\" title=\"Robinho\">Robinho</a>,\n",
       "  <a class=\"spielprofil_tooltip\" href=\"/alexis-sanchez/profil/spieler/40433\" id=\"40433\" title=\"Alexis Sánchez\">Alexis Sánchez</a>,\n",
       "  <a class=\"spielprofil_tooltip\" href=\"/patrik-schick/profil/spieler/242086\" id=\"242086\" title=\"Patrik Schick\">Patrik Schick</a>,\n",
       "  <a class=\"spielprofil_tooltip\" href=\"/mohamed-salah/profil/spieler/148455\" id=\"148455\" title=\"Mohamed Salah\">Mohamed Salah</a>,\n",
       "  <a class=\"spielprofil_tooltip\" href=\"/jackson-martinez/profil/spieler/74418\" id=\"74418\" title=\"Jackson Martínez\">Jackson Martínez</a>,\n",
       "  <a class=\"spielprofil_tooltip\" href=\"/sadio-mane/profil/spieler/200512\" id=\"200512\" title=\"Sadio Mané\">Sadio Mané</a>,\n",
       "  <a class=\"spielprofil_tooltip\" href=\"/malcom/profil/spieler/323704\" id=\"323704\" title=\"Malcom\">Malcom</a>,\n",
       "  <a class=\"spielprofil_tooltip\" href=\"/roberto-firmino/profil/spieler/131789\" id=\"131789\" title=\"Roberto Firmino\">Roberto Firmino</a>,\n",
       "  <a class=\"spielprofil_tooltip\" href=\"/andy-carroll/profil/spieler/48066\" id=\"48066\" title=\"Andy Carroll\">Andy Carroll</a>,\n",
       "  <a class=\"spielprofil_tooltip\" href=\"/hakim-ziyech/profil/spieler/217111\" id=\"217111\" title=\"Hakim Ziyech\">Hakim Ziyech</a>,\n",
       "  <a class=\"spielprofil_tooltip\" href=\"/malcom/profil/spieler/323704\" id=\"323704\" title=\"Malcom\">Malcom</a>,\n",
       "  <a class=\"spielprofil_tooltip\" href=\"/wissam-ben-yedder/profil/spieler/146854\" id=\"146854\" title=\"Wissam Ben Yedder\">Wissam Ben Yedder</a>,\n",
       "  <a class=\"spielprofil_tooltip\" href=\"/douglas-costa/profil/spieler/75615\" id=\"75615\" title=\"Douglas Costa\">Douglas Costa</a>,\n",
       "  <a class=\"spielprofil_tooltip\" href=\"/goncalo-guedes/profil/spieler/225122\" id=\"225122\" title=\"Gonçalo Guedes\">Gonçalo Guedes</a>,\n",
       "  <a class=\"spielprofil_tooltip\" href=\"/federico-bernardeschi/profil/spieler/197300\" id=\"197300\" title=\"Federico Bernardeschi\">Federico Bernardeschi</a>,\n",
       "  <a class=\"spielprofil_tooltip\" href=\"/cedric-bakambu/profil/spieler/127048\" id=\"127048\" title=\"Cédric Bakambu\">Cédric Bakambu</a>,\n",
       "  <a class=\"spielprofil_tooltip\" href=\"/paulo-dybala/profil/spieler/206050\" id=\"206050\" title=\"Paulo Dybala\">Paulo Dybala</a>,\n",
       "  <a class=\"spielprofil_tooltip\" href=\"/hulk/profil/spieler/80562\" id=\"80562\" title=\"Hulk\">Hulk</a>,\n",
       "  <a class=\"spielprofil_tooltip\" href=\"/lucas-moura/profil/spieler/77100\" id=\"77100\" title=\"Lucas Moura\">Lucas Moura</a>,\n",
       "  <a class=\"spielprofil_tooltip\" href=\"/sergio-aguero/profil/spieler/26399\" id=\"26399\" title=\"Sergio Agüero\">Sergio Agüero</a>,\n",
       "  <a class=\"spielprofil_tooltip\" href=\"/falcao/profil/spieler/39152\" id=\"39152\" title=\"Falcao\">Falcao</a>,\n",
       "  <a class=\"spielprofil_tooltip\" href=\"/david-villa/profil/spieler/7980\" id=\"7980\" title=\"David Villa\">David Villa</a>,\n",
       "  <a class=\"spielprofil_tooltip\" href=\"/marc-overmars/profil/spieler/3513\" id=\"3513\" title=\"Marc Overmars\">Marc Overmars</a>,\n",
       "  <a class=\"spielprofil_tooltip\" href=\"/richarlison/profil/spieler/378710\" id=\"378710\" title=\"Richarlison\">Richarlison</a>,\n",
       "  <a class=\"spielprofil_tooltip\" href=\"/michy-batshuayi/profil/spieler/179184\" id=\"179184\" title=\"Michy Batshuayi\">Michy Batshuayi</a>,\n",
       "  <a class=\"spielprofil_tooltip\" href=\"/declan-rice/profil/spieler/357662\" id=\"357662\" title=\"Declan Rice\">Declan Rice</a>,\n",
       "  <a class=\"spielprofil_tooltip\" href=\"/ben-chilwell/profil/spieler/316125\" id=\"316125\" title=\"Ben Chilwell\">Ben Chilwell</a>,\n",
       "  <a class=\"spielprofil_tooltip\" href=\"/charlie-mcneill/profil/spieler/614262\" id=\"614262\" title=\"Charlie McNeill\">C. McNeill</a>,\n",
       "  <a class=\"spielprofil_tooltip\" href=\"/nathan-ake/profil/spieler/177476\" id=\"177476\" title=\"Nathan Aké\">Nathan Aké</a>,\n",
       "  <a class=\"spielprofil_tooltip\" href=\"/albian-ajeti/profil/spieler/195906\" id=\"195906\" title=\"Albian Ajeti\">Albian Ajeti</a>],\n",
       " [<a class=\"spielprofil_tooltip\" href=\"/gonzalo-higuain/profil/spieler/39153\" id=\"39153\" title=\"Gonzalo Higuaín\">Gonzalo Higuaín</a>,\n",
       "  <a class=\"spielprofil_tooltip\" href=\"/didier-drogba/profil/spieler/3924\" id=\"3924\" title=\"Didier Drogba\">Didier Drogba</a>,\n",
       "  <a class=\"spielprofil_tooltip\" href=\"/hirving-lozano/profil/spieler/316889\" id=\"316889\" title=\"Hirving Lozano\">Hirving Lozano</a>,\n",
       "  <a class=\"spielprofil_tooltip\" href=\"/raul-jimenez/profil/spieler/206040\" id=\"206040\" title=\"Raúl Jiménez\">Raúl Jiménez</a>,\n",
       "  <a class=\"spielprofil_tooltip\" href=\"/felipe-anderson/profil/spieler/159372\" id=\"159372\" title=\"Felipe Anderson\">Felipe Anderson</a>,\n",
       "  <a class=\"spielprofil_tooltip\" href=\"/andre-silva/profil/spieler/198008\" id=\"198008\" title=\"André Silva\">André Silva</a>,\n",
       "  <a class=\"spielprofil_tooltip\" href=\"/diego-costa/profil/spieler/44779\" id=\"44779\" title=\"Diego Costa\">Diego Costa</a>,\n",
       "  <a class=\"spielprofil_tooltip\" href=\"/dimitar-berbatov/profil/spieler/65\" id=\"65\" title=\"Dimitar Berbatov\">Dimitar Berbatov</a>,\n",
       "  <a class=\"spielprofil_tooltip\" href=\"/fernando-torres/profil/spieler/7767\" id=\"7767\" title=\"Fernando Torres\">Fernando Torres</a>,\n",
       "  <a class=\"spielprofil_tooltip\" href=\"/jackson-martinez/profil/spieler/74418\" id=\"74418\" title=\"Jackson Martínez\">Jackson Martínez</a>,\n",
       "  <a class=\"spielprofil_tooltip\" href=\"/edin-dzeko/profil/spieler/28396\" id=\"28396\" title=\"Edin Dzeko\">Edin Dzeko</a>,\n",
       "  <a class=\"spielprofil_tooltip\" href=\"/filippo-inzaghi/profil/spieler/5821\" id=\"5821\" title=\"Filippo Inzaghi\">Filippo Inzaghi</a>,\n",
       "  <a class=\"spielprofil_tooltip\" href=\"/gabriel-batistuta/profil/spieler/5959\" id=\"5959\" title=\"Gabriel Batistuta\">Gabriel Batistuta</a>,\n",
       "  <a class=\"spielprofil_tooltip\" href=\"/vitolo/profil/spieler/67082\" id=\"67082\" title=\"Vitolo\">Vitolo</a>,\n",
       "  <a class=\"spielprofil_tooltip\" href=\"/hernan-crespo/profil/spieler/3410\" id=\"3410\" title=\"Hernán Crespo\">Hernán Crespo</a>,\n",
       "  <a class=\"spielprofil_tooltip\" href=\"/javier-saviola/profil/spieler/7611\" id=\"7611\" title=\"Javier Saviola\">Javier Saviola</a>,\n",
       "  <a class=\"spielprofil_tooltip\" href=\"/willian/profil/spieler/52769\" id=\"52769\" title=\"Willian\">Willian</a>,\n",
       "  <a class=\"spielprofil_tooltip\" href=\"/romelu-lukaku/profil/spieler/96341\" id=\"96341\" title=\"Romelu Lukaku\">Romelu Lukaku</a>,\n",
       "  <a class=\"spielprofil_tooltip\" href=\"/nicolas-anelka/profil/spieler/3226\" id=\"3226\" title=\"Nicolas Anelka\">Nicolas Anelka</a>,\n",
       "  <a class=\"spielprofil_tooltip\" href=\"/dejan-kulusevski/profil/spieler/431755\" id=\"431755\" title=\"Dejan Kulusevski\">Dejan Kulusevski</a>,\n",
       "  <a class=\"spielprofil_tooltip\" href=\"/shoya-nakajima/profil/spieler/188911\" id=\"188911\" title=\"Shoya Nakajima\">Shoya Nakajima</a>,\n",
       "  <a class=\"spielprofil_tooltip\" href=\"/krzysztof-piatek/profil/spieler/327757\" id=\"327757\" title=\"Krzysztof Piatek\">Krzysztof Piatek</a>,\n",
       "  <a class=\"spielprofil_tooltip\" href=\"/eden-hazard/profil/spieler/50202\" id=\"50202\" title=\"Eden Hazard\">Eden Hazard</a>,\n",
       "  <a class=\"spielprofil_tooltip\" href=\"/willian/profil/spieler/52769\" id=\"52769\" title=\"Willian\">Willian</a>,\n",
       "  <a class=\"spielprofil_tooltip\" href=\"/karim-benzema/profil/spieler/18922\" id=\"18922\" title=\"Karim Benzema\">Karim Benzema</a>,\n",
       "  <a class=\"spielprofil_tooltip\" href=\"/declan-rice/profil/spieler/357662\" id=\"357662\" title=\"Declan Rice\">Declan Rice</a>,\n",
       "  <a class=\"spielprofil_tooltip\" href=\"/ben-chilwell/profil/spieler/316125\" id=\"316125\" title=\"Ben Chilwell\">Ben Chilwell</a>,\n",
       "  <a class=\"spielprofil_tooltip\" href=\"/charlie-mcneill/profil/spieler/614262\" id=\"614262\" title=\"Charlie McNeill\">C. McNeill</a>,\n",
       "  <a class=\"spielprofil_tooltip\" href=\"/nathan-ake/profil/spieler/177476\" id=\"177476\" title=\"Nathan Aké\">Nathan Aké</a>,\n",
       "  <a class=\"spielprofil_tooltip\" href=\"/albian-ajeti/profil/spieler/195906\" id=\"195906\" title=\"Albian Ajeti\">Albian Ajeti</a>]]"
      ]
     },
     "execution_count": 12,
     "metadata": {},
     "output_type": "execute_result"
    }
   ],
   "source": [
    "Play"
   ]
  },
  {
   "cell_type": "code",
   "execution_count": 6,
   "metadata": {},
   "outputs": [],
   "source": [
    "players = []\n",
    "for sublist in Players:\n",
    "    for item in sublist:\n",
    "        players.append(item)"
   ]
  },
  {
   "cell_type": "code",
   "execution_count": 7,
   "metadata": {},
   "outputs": [],
   "source": [
    "values = []\n",
    "for sublist in Values:\n",
    "    for item in sublist:\n",
    "        values.append(item)"
   ]
  },
  {
   "cell_type": "code",
   "execution_count": 8,
   "metadata": {},
   "outputs": [],
   "source": [
    "soup = BeautifulSoup(pageTree.text, 'lxml')\n",
    "list_player = []\n",
    "for link in soup.find_all('a', href=True):\n",
    "    list_player.append(link['href'])"
   ]
  },
  {
   "cell_type": "code",
   "execution_count": 9,
   "metadata": {},
   "outputs": [],
   "source": [
    "df_player = pd.DataFrame(list_player)\n",
    "df_player.columns = ['links']"
   ]
  },
  {
   "cell_type": "code",
   "execution_count": 10,
   "metadata": {},
   "outputs": [],
   "source": [
    "links = []\n",
    "for i in df_player['links']:\n",
    "    if 'profil/spieler' in i:\n",
    "        links.append(i)"
   ]
  },
  {
   "cell_type": "code",
   "execution_count": 11,
   "metadata": {},
   "outputs": [
    {
     "data": {
      "text/plain": [
       "['/gonzalo-higuain/profil/spieler/39153',\n",
       " '/didier-drogba/profil/spieler/3924',\n",
       " '/hirving-lozano/profil/spieler/316889',\n",
       " '/raul-jimenez/profil/spieler/206040',\n",
       " '/felipe-anderson/profil/spieler/159372',\n",
       " '/andre-silva/profil/spieler/198008',\n",
       " '/diego-costa/profil/spieler/44779',\n",
       " '/dimitar-berbatov/profil/spieler/65',\n",
       " '/fernando-torres/profil/spieler/7767',\n",
       " '/jackson-martinez/profil/spieler/74418',\n",
       " '/edin-dzeko/profil/spieler/28396',\n",
       " '/filippo-inzaghi/profil/spieler/5821',\n",
       " '/gabriel-batistuta/profil/spieler/5959',\n",
       " '/vitolo/profil/spieler/67082',\n",
       " '/hernan-crespo/profil/spieler/3410',\n",
       " '/javier-saviola/profil/spieler/7611',\n",
       " '/willian/profil/spieler/52769',\n",
       " '/romelu-lukaku/profil/spieler/96341',\n",
       " '/nicolas-anelka/profil/spieler/3226',\n",
       " '/dejan-kulusevski/profil/spieler/431755',\n",
       " '/shoya-nakajima/profil/spieler/188911',\n",
       " '/krzysztof-piatek/profil/spieler/327757',\n",
       " '/eden-hazard/profil/spieler/50202',\n",
       " '/willian/profil/spieler/52769',\n",
       " '/karim-benzema/profil/spieler/18922',\n",
       " '/declan-rice/profil/spieler/357662',\n",
       " '/ben-chilwell/profil/spieler/316125',\n",
       " '/charlie-mcneill/profil/spieler/614262',\n",
       " '/nathan-ake/profil/spieler/177476',\n",
       " '/albian-ajeti/profil/spieler/195906']"
      ]
     },
     "execution_count": 11,
     "metadata": {},
     "output_type": "execute_result"
    }
   ],
   "source": [
    "links"
   ]
  },
  {
   "cell_type": "code",
   "execution_count": null,
   "metadata": {},
   "outputs": [],
   "source": [
    "df_player['links']"
   ]
  },
  {
   "cell_type": "code",
   "execution_count": null,
   "metadata": {},
   "outputs": [],
   "source": [
    "players"
   ]
  },
  {
   "cell_type": "code",
   "execution_count": null,
   "metadata": {},
   "outputs": [],
   "source": []
  }
 ],
 "metadata": {
  "kernelspec": {
   "display_name": "Python 3",
   "language": "python",
   "name": "python3"
  },
  "language_info": {
   "codemirror_mode": {
    "name": "ipython",
    "version": 3
   },
   "file_extension": ".py",
   "mimetype": "text/x-python",
   "name": "python",
   "nbconvert_exporter": "python",
   "pygments_lexer": "ipython3",
   "version": "3.7.6"
  }
 },
 "nbformat": 4,
 "nbformat_minor": 4
}
